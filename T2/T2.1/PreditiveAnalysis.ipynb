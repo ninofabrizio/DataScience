{
 "cells": [
  {
   "cell_type": "markdown",
   "metadata": {},
   "source": [
    "# T2.1 - Solution\n",
    "## Authors:\n",
    "- Leonardo Kaplan 1212509\n",
    "- Nino Fabrizio Tiriticco Lizardo 1113203"
   ]
  },
  {
   "cell_type": "code",
   "execution_count": null,
   "metadata": {},
   "outputs": [],
   "source": [
    "%matplotlib inline\n",
    "\n",
    "import matplotlib\n",
    "import numpy as np\n",
    "import matplotlib.pyplot as plt\n",
    "# Pacotes usados\n",
    "import pandas as pd\n",
    "from github import Github\n",
    "import time\n",
    "import os\n",
    "import base64\n",
    "import difflib\n"
   ]
  },
  {
   "cell_type": "code",
   "execution_count": null,
   "metadata": {},
   "outputs": [],
   "source": [
    "git = Github(\"leokaplan\",'senha',per_page=100)\n",
    "#print(git.get_rate_limit())\n",
    "#print(time.localtime(git.rate_limiting_resettime))\n",
    "#print(git.per_page)\n",
    "commits_pag = git.get_user('facebook').get_repo('react').get_commits()"
   ]
  },
  {
   "cell_type": "code",
   "execution_count": null,
   "metadata": {},
   "outputs": [],
   "source": [
    "#print(commits_pag.totalCount)"
   ]
  },
  {
   "cell_type": "markdown",
   "metadata": {},
   "source": [
    "### Capturando dados, salvando em arquivo e lendo depois"
   ]
  },
  {
   "cell_type": "code",
   "execution_count": null,
   "metadata": {},
   "outputs": [],
   "source": [
    "commits = []\n",
    "for c in commits_pag[0:1000]:\n",
    "    commits.insert(len(commits),c)\n",
    "    #print(c.files)\n",
    "    if(len(commits)%100==0):\n",
    "        print(len(commits))"
   ]
  },
  {
   "cell_type": "code",
   "execution_count": null,
   "metadata": {},
   "outputs": [],
   "source": [
    "#commits"
   ]
  },
  {
   "cell_type": "code",
   "execution_count": null,
   "metadata": {},
   "outputs": [],
   "source": [
    "import pickle\n",
    "def save(commits):\n",
    "    with open('outfile.json', 'wb') as fp:\n",
    "        pickle.dump(commits, fp)\n",
    "def load():\n",
    "    with open ('outfile.json', 'rb') as fp:\n",
    "        commits = pickle.load(fp)\n",
    "        print(len(commits))\n",
    "    return commits"
   ]
  },
  {
   "cell_type": "code",
   "execution_count": null,
   "metadata": {},
   "outputs": [],
   "source": [
    "#commits = commits[0:10]\n",
    "#save(commits)\n",
    "#commits = load()\n",
    "#commits\n"
   ]
  },
  {
   "cell_type": "code",
   "execution_count": null,
   "metadata": {},
   "outputs": [],
   "source": [
    "for c in commits[0:100]:\n",
    "    print(c.files)\n",
    "    if c.files is None:\n",
    "        print(commits.index(c))"
   ]
  },
  {
   "cell_type": "markdown",
   "metadata": {},
   "source": [
    "## Análise prévia dos dados:\n",
    "\n",
    "#### Meu formato de dados  foi se modificando a medida que via que nao era conveniente. A unica grande mudanca foi transformar tempo de timestamp absoluto para delta relativo. Dessa forma foi possivel prever ocorrencias fora do conjunto de treinamento."
   ]
  },
  {
   "cell_type": "code",
   "execution_count": null,
   "metadata": {},
   "outputs": [],
   "source": [
    "#df = pd.DataFrame()\n",
    "d = {'auth':[],'date':[],'adate':[],'numfiles':[],'files':[],'message':[]}\n",
    "#print(d.loc)\n",
    "names = []\n",
    "exts = []\n",
    "lastdate = None\n",
    "#lm = None\n",
    "\n",
    "for commit in reversed(commits[0:100]):\n",
    "    print(commits.index(commit))\n",
    "    #d['loc'] += [commit.commit.message.split(' ')[0]]\n",
    "    #d['typ'] += [commit.commit.message.split(' ')[1]]\n",
    "    if not commit.commit.author.name in names:\n",
    "        names.append(commit.commit.author.name)\n",
    "    d['auth'] += [names.index(commit.commit.author.name)]\n",
    "    \n",
    "    if lastdate is None:\n",
    "        lastdate = commit.commit.author.date.timestamp()\n",
    "        firstdate = lastdate\n",
    "    d['date'] += [commit.commit.author.date.timestamp()-lastdate]\n",
    "    d['adate'] += [commit.commit.author.date]\n",
    "    lastdate = commit.commit.author.date.timestamp()\n",
    "    #print(commit.commit.author.date)\n",
    "    \n",
    "    extensions = []\n",
    "    if not commit.files is None:  \n",
    "        for f in commit.files:\n",
    "            name,ext = os.path.splitext(f.filename)\n",
    "            if not ext in exts:\n",
    "                exts.append(ext)\n",
    "            extensions += [exts.index(ext)]\n",
    "        d['files'] += [extensions]\n",
    "        d['numfiles'] += [len(commit.files)]\n",
    "    else:\n",
    "        print(commits.index(commit))\n",
    "        d['files'] += [\"\"]\n",
    "        d['numfiles'] += [0]\n",
    "    #if lm is None:\n",
    "    #    lm = commit.commit.message\n",
    "    #d['message'] += [difflib.SequenceMatcher(None, lm, commit.commit.message).ratio()]\n",
    "    #lm = commit.commit.message\n",
    "    d['message'] += [commit.commit.message]\n",
    "    #print(type(str(d['message'][0])),str(d['message'][0]))\n",
    "    #d.\n",
    "    #committer = commit.committer\n",
    "    #files = commit.files\n",
    "    #df.append(d)\n",
    "df = pd.DataFrame(d)\n",
    "df.reset_index(inplace=True)"
   ]
  },
  {
   "cell_type": "markdown",
   "metadata": {},
   "source": []
  },
  {
   "cell_type": "code",
   "execution_count": null,
   "metadata": {},
   "outputs": [],
   "source": [
    "for e in exts:\n",
    "    df[e] = pd.Series([k.count(exts.index(e)) for k in df['files']], index=df.index)\n",
    "    df[e] = np.multiply(df[e], 1/df['numfiles'])\n",
    "df"
   ]
  },
  {
   "cell_type": "code",
   "execution_count": null,
   "metadata": {},
   "outputs": [],
   "source": [
    "#dates = matplotlib.dates.date2num(df['date'])\n",
    "#dates = pd.Timestamp(d['date']).to_pydatetime()\n",
    "#matplotlib.pyplot.plot_date(d['date'], d['auth'])\n",
    "#range(0,len(d['date']))\n",
    "import datetime\n",
    "fig, ax = plt.subplots(figsize=(20,1))\n",
    "da = firstdate\n",
    "dates = []\n",
    "for ds in d['date']:\n",
    "    da += ds\n",
    "    dates.append(datetime.datetime.fromtimestamp(da))\n",
    "\n",
    "ax.scatter(dates, [1]*len(dates), c=[0]*len(dates),marker='2', s=30)\n",
    "fig.autofmt_xdate()\n"
   ]
  },
  {
   "cell_type": "code",
   "execution_count": null,
   "metadata": {},
   "outputs": [],
   "source": []
  },
  {
   "cell_type": "markdown",
   "metadata": {},
   "source": [
    "### Importei este pedaco de codigo do ultimo trabalho. Fiz leves modificacoes."
   ]
  },
  {
   "cell_type": "code",
   "execution_count": null,
   "metadata": {},
   "outputs": [],
   "source": [
    "# modelos de classificação\n",
    "from sklearn import linear_model,datasets,svm,tree,neural_network\n",
    "from sklearn.neighbors.nearest_centroid import NearestCentroid\n",
    "from sklearn.neighbors import KNeighborsClassifier\n",
    "\n",
    "#função de utilidade para separar teste e treinamento\n",
    "from sklearn.model_selection import train_test_split\n",
    "\n",
    "#funções de utilidade para metricas\n",
    "from sklearn.metrics import mean_squared_error, r2_score, accuracy_score, confusion_matrix, precision_score, recall_score,f1_score\n",
    "\n",
    "#funções de utilidade para seleção de features\n",
    "from sklearn.feature_selection import VarianceThreshold,SelectKBest,chi2\n",
    "import matplotlib.pyplot as plt\n",
    "import seaborn as sns\n",
    "import math\n",
    "\n",
    "# isto é para usarmos markdown no meio de uma célula Python\n",
    "from IPython.display import Markdown, display\n",
    "def printmd(string):\n",
    "    display(Markdown(string))\n",
    "    \n",
    "import random\n",
    "\n",
    "def present(x,y,h):\n",
    "    fig = plt.figure(figsize = (15,15))\n",
    "    size = len(data.columns)\n",
    "    for i in range(0,size-1):\n",
    "        ax = fig.add_subplot(math.ceil(math.sqrt(size-1)), math.ceil(math.sqrt(size-1)), i+1)\n",
    "        ax.scatter(x.iloc[:,i], y,  color='red')\n",
    "        ax.scatter(x.iloc[:,i], h, color='blue')\n",
    "    plt.show()\n",
    "def test(regr,X_train,Y_train,X_test,Y_test):\n",
    "    regr.fit(X_train, Y_train)\n",
    "    Y_pred = regr.predict(X_test)\n",
    "    metrics = {\n",
    "       'mse': mean_squared_error(Y_test, Y_pred),\n",
    "       'r2':r2_score(Y_test, Y_pred),\n",
    "       #'accuracy':accuracy_score(Y_test, Y_pred), \n",
    "       #'precision':precision_score(Y_test, Y_pred, average='macro'), \n",
    "       #'recall':recall_score(Y_test, Y_pred, average='macro'),\n",
    "       #'f1':f1_score(Y_test, Y_pred, average='macro')\n",
    "    }\n",
    "    #metrics={}\n",
    "    return regr,metrics\n",
    "methods = [\n",
    "        linear_model.LinearRegression(),\n",
    "        svm.SVC(),\n",
    "        linear_model.SGDClassifier(max_iter=1000,tol=1e-3,loss=\"huber\"),\n",
    "        #NearestCentroid(),\n",
    "        KNeighborsClassifier(n_neighbors=5),\n",
    "        tree.DecisionTreeRegressor(),\n",
    "        tree.DecisionTreeClassifier(),\n",
    "        neural_network.MLPClassifier(solver='lbfgs')\n",
    "    ]\n",
    "#função que testa todos os métodos, retornando uma lista com as métricas\n",
    "def test_all(X_train,Y_train,X_test,Y_test):\n",
    "    metrics = []\n",
    "    for method in methods:\n",
    "        #print(method.__class__.__name__)\n",
    "        #print()\n",
    "        model,metric = test(method,X_train,Y_train,X_test,Y_test)\n",
    "        #print()\n",
    "        metrics = metrics + [metric]\n",
    "    return metrics"
   ]
  },
  {
   "cell_type": "markdown",
   "metadata": {},
   "source": [
    "# Perguntas:\n",
    "## 1) Quando sera o proximo commit? (Ou melhor, quando serao os proximos N?)"
   ]
  },
  {
   "cell_type": "code",
   "execution_count": null,
   "metadata": {},
   "outputs": [],
   "source": [
    "X = df['index'].values.reshape(-1, 1)#[[i,d['date'][i].timestamp()] for i in range(0,len(d['date']))]\n",
    "Y = df['date']#.values.reshape(len(df),1)\n",
    "print(np.shape(X),np.shape(Y))\n",
    "X_train,X_test,Y_train,Y_test=train_test_split(X,Y,test_size=0.25)#nao usar randomstate com valores sequenciais\n",
    "print(np.shape(X_train),np.shape(Y_train))"
   ]
  },
  {
   "cell_type": "code",
   "execution_count": null,
   "metadata": {},
   "outputs": [],
   "source": [
    "metrics = test_all(X_train,Y_train,X_test,Y_test)\n",
    "metrics"
   ]
  },
  {
   "cell_type": "markdown",
   "metadata": {},
   "source": [
    "### Todos os metodos tem muito erro.\n",
    "#### Vamos ensaiar com modelo linear, arvore de decisao e rede neural."
   ]
  },
  {
   "cell_type": "markdown",
   "metadata": {},
   "source": [
    "## vamos tentar prever os indices len(data) ate len(data)+N-1, com N=50"
   ]
  },
  {
   "cell_type": "code",
   "execution_count": null,
   "metadata": {},
   "outputs": [],
   "source": [
    "N=50\n",
    "#datetime.datetime.fromtimestamp(1.5276342e+09)\n",
    "model,metric = test(methods[0],X_train,Y_train,X_test,Y_test)\n",
    "datesk = model.predict(np.arange(len(df),len(df)+N-1).reshape(-1, 1))\n",
    "#datesk = [datetime.datetime.fromtimestamp(d) for d in datesk]\n",
    "#datesk"
   ]
  },
  {
   "cell_type": "code",
   "execution_count": null,
   "metadata": {},
   "outputs": [],
   "source": [
    "#df['date'].array()\n",
    "#df['date'].loc[len(df)] = datesk\n",
    "vals = np.append(df['date'].values, datesk)\n",
    "#print(np.shape(vals))\n",
    "#vals"
   ]
  },
  {
   "cell_type": "code",
   "execution_count": null,
   "metadata": {},
   "outputs": [],
   "source": [
    "fig, ax = plt.subplots(figsize=(20,1))\n",
    "da = firstdate\n",
    "dates = []\n",
    "for d in vals:\n",
    "    da += d\n",
    "    dates.append(datetime.datetime.fromtimestamp(da))\n",
    "\n",
    "ax.scatter(dates, [1]*len(dates), c=['b']*len(df)+['r']*len(datesk),marker='2', s=30)\n",
    "fig.autofmt_xdate()"
   ]
  },
  {
   "cell_type": "markdown",
   "metadata": {},
   "source": [
    "## nao ficou bom, depois de um tempo deduzi que eh pq nao treinei nestei valores, entao vou perguntar na faixa treinada "
   ]
  },
  {
   "cell_type": "code",
   "execution_count": null,
   "metadata": {},
   "outputs": [],
   "source": [
    "model,metric = test(methods[0],X_train,Y_train,X_test,Y_test)\n",
    "datesk = model.predict(np.arange(0,50).reshape(-1, 1))\n",
    "vals = np.append(df['date'].values, datesk)\n",
    "fig, ax = plt.subplots(figsize=(20,1))\n",
    "da = firstdate\n",
    "dates = []\n",
    "for d in vals:\n",
    "    da += d\n",
    "    dates.append(datetime.datetime.fromtimestamp(da))\n",
    "\n",
    "ax.scatter(dates, [1]*len(dates), c=['b']*len(df)+['r']*len(datesk),marker='2', s=30)\n",
    "fig.autofmt_xdate()"
   ]
  },
  {
   "cell_type": "code",
   "execution_count": null,
   "metadata": {},
   "outputs": [],
   "source": [
    "model,metric = test(methods[-2],X_train,Y_train,X_test,Y_test)\n",
    "datesk = model.predict(np.arange(0,50).reshape(-1, 1))\n",
    "vals = np.append(df['date'].values, datesk)\n",
    "fig, ax = plt.subplots(figsize=(20,1))\n",
    "da = firstdate\n",
    "dates = []\n",
    "for d in vals:\n",
    "    da += d\n",
    "    dates.append(datetime.datetime.fromtimestamp(da))\n",
    "\n",
    "ax.scatter(dates, [1]*len(dates), c=['b']*len(df)+['r']*len(datesk),marker='2', s=30)\n",
    "fig.autofmt_xdate()\n",
    "ref_dates = dates"
   ]
  },
  {
   "cell_type": "code",
   "execution_count": null,
   "metadata": {},
   "outputs": [],
   "source": [
    "model,metric = test(methods[-1],X_train,Y_train,X_test,Y_test)\n",
    "datesk = model.predict(np.arange(0,50).reshape(-1, 1))\n",
    "vals = np.append(df['date'].values, datesk)\n",
    "fig, ax = plt.subplots(figsize=(20,1))\n",
    "da = firstdate\n",
    "dates = []\n",
    "for d in vals:\n",
    "    da += d\n",
    "    dates.append(datetime.datetime.fromtimestamp(da))\n",
    "\n",
    "ax.scatter(dates, [1]*len(dates), c=['b']*len(df)+['r']*len(datesk),marker='2', s=30)\n",
    "fig.autofmt_xdate()"
   ]
  },
  {
   "cell_type": "markdown",
   "metadata": {},
   "source": [
    "### A rede produz resultados de forma muito inconsistente. As vezes 'e algo distribuido uniformemente, as vezes tudo esta concentrado e as vezes fica bastante 'realista' no sentido de pontos espalhados em intervalos parecidos com a serie ate entao"
   ]
  },
  {
   "cell_type": "markdown",
   "metadata": {},
   "source": [
    "### A partir de agora meu modelo de escolha eh a arvore de decisao.\n",
    "\n",
    "#### Para fim de demonstracao, o proximo commit:"
   ]
  },
  {
   "cell_type": "code",
   "execution_count": null,
   "metadata": {},
   "outputs": [],
   "source": [
    "model,metric = test(methods[-2],X_train,Y_train,X_test,Y_test)\n",
    "datesk = model.predict(np.arange(0,1).reshape(-1, 1))\n",
    "vals = np.append(df['date'].values, datesk)\n",
    "da = firstdate\n",
    "for d in vals:\n",
    "    da += d\n",
    "datetime.datetime.fromtimestamp(da)"
   ]
  },
  {
   "cell_type": "markdown",
   "metadata": {},
   "source": [
    "### plot da arvore com os valores de validacao (teste = verde, previsao = vermelho)"
   ]
  },
  {
   "cell_type": "code",
   "execution_count": null,
   "metadata": {},
   "outputs": [],
   "source": [
    "model,metric = test(methods[-2],X_train,Y_train,X_test,Y_test)\n",
    "datesk = model.predict(X_test)\n",
    "vals1 = np.append(df['date'].values, datesk)\n",
    "vals2 = np.append(df['date'].values, Y_test)\n",
    "fig, ax = plt.subplots(figsize=(20,1))\n",
    "da = firstdate\n",
    "dates1 = []\n",
    "for d in vals1:\n",
    "    da += d\n",
    "    dates1.append(datetime.datetime.fromtimestamp(da))\n",
    "da = firstdate\n",
    "dates2 = []\n",
    "for d in vals2:\n",
    "    da += d\n",
    "    dates2.append(datetime.datetime.fromtimestamp(da))\n",
    "ax.scatter(dates1, [1]*len(df)+[2]*len(datesk), c=['b']*len(df)+['g']*len(datesk),marker='2', s=30)\n",
    "ax.scatter(dates2, [1]*len(df)+[1]*len(datesk), c=['b']*len(df)+['r']*len(datesk),marker='2', s=30)\n",
    "fig.autofmt_xdate()\n",
    "ref_dates = dates"
   ]
  },
  {
   "cell_type": "markdown",
   "metadata": {},
   "source": [
    "### 2) Vamos tentar prever autor do proximo commit"
   ]
  },
  {
   "cell_type": "code",
   "execution_count": null,
   "metadata": {},
   "outputs": [],
   "source": [
    "X = df['index'].values.reshape(-1, 1)\n",
    "Y = df['auth']\n",
    "X_train,X_test,Y_train,Y_test=train_test_split(X,Y,random_state=random.randrange(0,100),test_size=0.25)\n",
    "model,metric = test(methods[-2],X_train,Y_train,X_test,Y_test)\n",
    "Pnames = model.predict(np.arange(0,50).reshape(-1, 1))\n",
    "[names[v] for v in Pnames]"
   ]
  },
  {
   "cell_type": "code",
   "execution_count": null,
   "metadata": {},
   "outputs": [],
   "source": [
    "vals = np.append(df['auth'].values, Pnames)\n",
    "fig, ax = plt.subplots(figsize=(20,1))\n",
    "\n",
    "ax.scatter(ref_dates, vals, c=['b']*len(df)+['r']*len(datesk),marker='2', s=30)\n",
    "fig.autofmt_xdate()"
   ]
  },
  {
   "cell_type": "code",
   "execution_count": null,
   "metadata": {},
   "outputs": [],
   "source": [
    "X = df['index'].values.reshape(-1, 1)\n",
    "Y = df['auth']\n",
    "X_train,X_test,Y_train,Y_test=train_test_split(X,Y,random_state=random.randrange(0,100),test_size=0.25)\n",
    "model,metric = test(methods[-2],X_train,Y_train,X_test,Y_test)\n",
    "Pnames = model.predict(np.arange(100,150).reshape(-1, 1))\n",
    "vals = np.append(df['auth'].values, Pnames)\n",
    "fig, ax = plt.subplots(figsize=(20,1))\n",
    "da = firstdate\n",
    "#dates = []\n",
    "#for d in dates:\n",
    "#    da += d\n",
    "#    dates.append(ddata:image/png;base64,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atetime.datetime.fromtimestamp(da))\n",
    "\n",
    "ax.scatter(dates, vals, c=['b']*len(df)+['r']*len(datesk),marker='2', s=30)\n",
    "fig.autofmt_xdate()"
   ]
  },
  {
   "cell_type": "markdown",
   "metadata": {},
   "source": [
    "### Como mostrado acima, quando tratamos de series nao temporais, podemos (devemos?) prever os proximos indices."
   ]
  },
  {
   "cell_type": "markdown",
   "metadata": {},
   "source": [
    "### 3) Vamos tentar prever a mensagem do proximo commit"
   ]
  },
  {
   "cell_type": "code",
   "execution_count": null,
   "metadata": {},
   "outputs": [],
   "source": [
    "X = df['index'].values.reshape(-1, 1)\n",
    "Y = df['message']\n",
    "X_train,X_test,Y_train,Y_test=train_test_split(X,Y,random_state=random.randrange(0,100),test_size=0.25)\n",
    "model,metric = test(methods[0],X_train,Y_train,X_test,Y_test)\n",
    "Pmess = model.predict(np.ara nge(100,150).reshape(-1, 1))\n",
    "vals = np.append(df['message'].values, Pmess)\n",
    "vals\n",
    "#fig, ax = plt.subplots(figsize=(20,1))\n",
    "#da = firstdate\n",
    "#dates = []\n",
    "#for d in dates:\n",
    "#    da += d\n",
    "#    dates.append(ddata:image/png;base64,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atetime.datetime.fromtimestamp(da))\n",
    "\n",
    "#ax.scatter(dates, vals, c=['b']*len(df)+['r']*len(datesk),marker='2', s=30)\n",
    "#fig.autofmt_xdate()"
   ]
  },
  {
   "cell_type": "code",
   "execution_count": null,
   "metadata": {},
   "outputs": [],
   "source": [
    "exts\n",
    "extsto"
   ]
  },
  {
   "cell_type": "code",
   "execution_count": null,
   "metadata": {},
   "outputs": [],
   "source": [
    "X = df['index'].values.reshape(-1, 1)\n",
    "\n",
    "Y = df[exts]\n",
    "X_train,X_test,Y_train,Y_test=train_test_split(X,Y,random_state=random.randrange(0,100),test_size=0.25)\n",
    "model,metric = test(methods[0],X_train,Y_train,X_test,Y_test)\n",
    "Pext = model.predict(np.arange(0,50).reshape(-1, 1))\n",
    "dfext = pd.DataFrame(Pext,columns=exts)\n",
    "vals = df[exts].append(dfext)\n",
    "#vals\n",
    "fig, ax = plt.subplots(figsize=(20,1))\n",
    "#da = firstdate\n",
    "#dates = []\n",
    "#for d in dates:\n",
    "#    da += d\n",
    "#    dates.append(ddata:image/png;base64,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atetime.datetime.fromtimestamp(da))\n",
    "colors = ['k','b','r','m','y','g','c']\n",
    "for e in exts:\n",
    "    ax.scatter(ref_dates, vals[e], c=[colors[exts.index(e)]]*len(ref_dates),marker='o', s=30)\n",
    "#fig.autofmt_xdate()"
   ]
  }
 ],
 "metadata": {
  "kernelspec": {
   "display_name": "Python 3",
   "language": "python",
   "name": "python3"
  },
  "language_info": {
   "codemirror_mode": {
    "name": "ipython",
    "version": 3
   },
   "file_extension": ".py",
   "mimetype": "text/x-python",
   "name": "python",
   "nbconvert_exporter": "python",
   "pygments_lexer": "ipython3",
   "version": "3.6.4"
  }
 },
 "nbformat": 4,
 "nbformat_minor": 2
}
