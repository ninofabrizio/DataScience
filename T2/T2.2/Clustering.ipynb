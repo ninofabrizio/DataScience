{
 "cells": [
  {
   "cell_type": "markdown",
   "metadata": {},
   "source": [
    "# T2.2 - Solution\n",
    "## Authors:\n",
    "- Leonardo Kaplan 1212509\n",
    "- Nino Fabrizio Tiriticco Lizardo 1113203"
   ]
  },
  {
   "cell_type": "code",
   "execution_count": null,
   "metadata": {
    "collapsed": true
   },
   "outputs": [],
   "source": [
    "# Pacotes usados\n",
    "import pandas as pd # Para pegar os dados dos arquivos\n",
    "from IPython.display import display # Para mostrar mais de uma informação em uma mesma célula\n",
    "import matplotlib # Para plotar gráficos\n",
    "import matplotlib.pyplot as plt # Para plotar gráficos\n",
    "from pylab import * # Para criar pie chart\n",
    "from sklearn.cluster import KMeans # Para cálculo de clusters\n",
    "from sklearn.metrics import silhouette_samples, silhouette_score # Para calcular o silhouette dos clusters\n",
    "import matplotlib.cm as cm # Para mostrar o gráfico dos clusters com silhouette\n",
    "import numpy as np # Para cálculos"
   ]
  },
  {
   "cell_type": "code",
   "execution_count": null,
   "metadata": {
    "collapsed": true
   },
   "outputs": [],
   "source": [
    "# Carregando dados do data set\n",
    "DataTopRatedRepositoriesRaw = pd.read_csv('in/TopStaredRepositories.csv')"
   ]
  },
  {
   "cell_type": "markdown",
   "metadata": {
    "collapsed": true
   },
   "source": [
    "## Análise prévia dos dados:"
   ]
  },
  {
   "cell_type": "code",
   "execution_count": null,
   "metadata": {
    "collapsed": false
   },
   "outputs": [],
   "source": [
    "# Vemos que as colunas de descrição, linguagem e e tags possuem valores nulos.\n",
    "# Podemos ver também que todos os valores foram guardados como string(object)\n",
    "display(DataTopRatedRepositoriesRaw.info())\n",
    "\n",
    "DataTopRatedRepositoriesRaw.head()"
   ]
  },
  {
   "cell_type": "code",
   "execution_count": null,
   "metadata": {
    "collapsed": false,
    "scrolled": false
   },
   "outputs": [],
   "source": [
    "# Vamos fazer uma limpeza para possíveis valores duplicados\n",
    "trrDF = DataTopRatedRepositoriesRaw.drop_duplicates(subset=DataTopRatedRepositoriesRaw.columns.values, keep=False)\n",
    "trrDF = trrDF.reset_index(drop = True)\n",
    "\n",
    "# Aproveitemos para trocar os valores Nan\n",
    "#trrDF = trrDF.fillna(\"\")\n",
    "\n",
    "# Vemos que de fato existiam algumas tuplas repetidas na tabela\n",
    "display(trrDF.info())\n",
    "trrDF.head()"
   ]
  },
  {
   "cell_type": "code",
   "execution_count": null,
   "metadata": {
    "collapsed": false
   },
   "outputs": [],
   "source": [
    "# Passando o valor de estrelas para valores numéricos\n",
    "for indx in range(0, len(trrDF)):\n",
    "    if \"k\" in trrDF['Number of Stars'][indx]: # K significa que está na casa de 1000...\n",
    "        trrDF.set_value(indx, \"Number of Stars\", trrDF[\"Number of Stars\"][indx].replace(\"k\",\"\"))\n",
    "        trrDF[\"Number of Stars\"][indx] = float(trrDF[\"Number of Stars\"][indx])\n",
    "        trrDF.loc[trrDF[\"Number of Stars\"] == trrDF[\"Number of Stars\"][indx], \"Number of Stars\"] *= 1000\n",
    "    else:\n",
    "        trrDF[\"Number of Stars\"][indx] = float(trrDF[\"Number of Stars\"][indx])\n",
    "trrDF[\"Number of Stars\"] = trrDF[\"Number of Stars\"].apply(int)\n",
    "\n",
    "# Mudando também valor de data para o tipo data\n",
    "trrDF['Last Update Date'] = pd.to_datetime(trrDF['Last Update Date'])\n",
    "\n",
    "# O data frame resultante\n",
    "display(trrDF.info())\n",
    "trrDF.head()"
   ]
  },
  {
   "cell_type": "markdown",
   "metadata": {},
   "source": [
    "# Perguntas:\n",
    "## 1) Quais são os 10 repositórios com mais estrelas?"
   ]
  },
  {
   "cell_type": "code",
   "execution_count": null,
   "metadata": {
    "collapsed": false
   },
   "outputs": [],
   "source": [
    "# Organizando nosso data frame em ordem decrescente e pegando apenas as colunas mais relevantes\n",
    "tenMostStarsDF = trrDF.sort_values(by = 'Number of Stars', ascending = False)\n",
    "tenMostStarsDF = tenMostStarsDF[['Username', 'Repository Name', 'Number of Stars', 'Url']].head(10)\n",
    "\n",
    "# Vemos que a diferença do 1º para o 2º já é bem significativa e do 4º pra baixo os valores são mais próximos.\n",
    "tenMostStarsDF"
   ]
  },
  {
   "cell_type": "code",
   "execution_count": null,
   "metadata": {
    "collapsed": false
   },
   "outputs": [],
   "source": [
    "# Montando resultados em gráfico de barras verticais\n",
    "x_labels = tenMostStarsDF['Repository Name']\n",
    "x = range(len(x_labels))\n",
    "y = tenMostStarsDF['Number of Stars']\n",
    "\n",
    "plt.figure(figsize=(5, 5))\n",
    "plt.title('Top 10 Starred Repositories')\n",
    "plt.bar(x, y, align='center', width = 0.75, color='#4466cc')\n",
    "plt.xticks(x, x_labels, rotation=45)\n",
    "\n",
    "plt.show()"
   ]
  },
  {
   "cell_type": "markdown",
   "metadata": {},
   "source": [
    "## 2) Quais são os donos de cada um dos 10 repositórios?"
   ]
  },
  {
   "cell_type": "code",
   "execution_count": null,
   "metadata": {
    "collapsed": false
   },
   "outputs": [],
   "source": [
    "# Vemos que temos alguns nomes conhecidos como Facbook e Angular. Facebook foi uma surpresa!\n",
    "tenMostStarsDF['Username']"
   ]
  },
  {
   "cell_type": "markdown",
   "metadata": {},
   "source": [
    "## 3) Existem usuários com mais de um repositório diferente listado no data set? Quais? Quantas vezes?"
   ]
  },
  {
   "cell_type": "code",
   "execution_count": null,
   "metadata": {
    "collapsed": false
   },
   "outputs": [],
   "source": [
    "# Montando o data frame onde donos de repositórios se repetem\n",
    "usernames = trrDF[\"Username\"]\n",
    "repeatedUsernamesDF = trrDF[usernames.isin(usernames[usernames.duplicated()])].sort_values(by=\"Username\")\n",
    "repeatedUsernamesDF = repeatedUsernamesDF.reset_index(drop = True)\n",
    "\n",
    "# Vendo quantos são no total e quem são eles. Podemos ver outros nomes interessantes como apple(!), Netflix e Microsoft\n",
    "print(\"Number of repeated usernames: \", len(repeatedUsernamesDF['Username'].unique()))\n",
    "repeatedUsernamesDF['Username'].unique()"
   ]
  },
  {
   "cell_type": "code",
   "execution_count": null,
   "metadata": {
    "collapsed": false
   },
   "outputs": [],
   "source": [
    "# Montando o data frame com a quantidade de vezes em que cada usuário repetido aparece\n",
    "usernamesByFrequency = pd.DataFrame(columns=('Username', 'Frequency'))\n",
    "usernamesByFrequency['Username'] = repeatedUsernamesDF['Username'].unique()\n",
    "usernamesByFrequency['Frequency'] = 0\n",
    "\n",
    "# Percorrendo o data frame original para fazer a contagem\n",
    "for indx in range(0, len(repeatedUsernamesDF)):\n",
    "    usernamesByFrequency.loc[usernamesByFrequency['Username'] == repeatedUsernamesDF['Username'][indx], 'Frequency'] += 1\n",
    "pd.set_option('display.max_rows', 83) # Para poder visualizar todas as tuplas deste data frame\n",
    "\n",
    "# O resultado obtido\n",
    "usernamesByFrequency"
   ]
  },
  {
   "cell_type": "code",
   "execution_count": null,
   "metadata": {
    "collapsed": false
   },
   "outputs": [],
   "source": [
    "# Por curiosidade, vejamos quais são os 10 que mais aparecem\n",
    "tenMostRepeatedDF = usernamesByFrequency.sort_values(by = 'Frequency', ascending = False)\n",
    "tenMostRepeatedDF = tenMostRepeatedDF.reset_index(drop = True)\n",
    "\n",
    "# Vemos que Facebook e Google estão ambos com 20, o maior número! :O\n",
    "tenMostRepeatedDF.head(10)"
   ]
  },
  {
   "cell_type": "code",
   "execution_count": null,
   "metadata": {
    "collapsed": false
   },
   "outputs": [],
   "source": [
    "# Obs.: Ia tentar usar wordcloud para mostrar de forma diferente esses usuários que mais aparecem, mas desisti não conseguir\n",
    "# instalar o pacote necessário. O código foi deixado comentado.\n",
    "#import sys\n",
    "#!{sys.executable} -m pip install wordcloud\n",
    "#from wordcloud import WordCloud, random_color_func\n",
    "\n",
    "#wordcloud = WordCloud(background_color='black',\n",
    "#                     width=1000,\n",
    "#                     height=500,\n",
    "#                     ).generate(' '.join(trrDF['Username']))\n",
    "#wordcloud.recolor(color_func=random_color_func)\n",
    "#plt.figure(figsize=(15,8))\n",
    "#plt.imshow(wordcloud)\n",
    "#plt.axis('off')\n",
    "#plt.show()"
   ]
  },
  {
   "cell_type": "markdown",
   "metadata": {},
   "source": [
    "## 4) Para cada usuário dono que aparece mais de uma vez, como é sua distribuição de estrelas?"
   ]
  },
  {
   "cell_type": "code",
   "execution_count": null,
   "metadata": {
    "collapsed": false,
    "scrolled": true
   },
   "outputs": [],
   "source": [
    "# Por curiosidade, comecemos montando um data frame para saber a porcentagem de\n",
    "# estrelas de cada repositório em relação ao total de cada usuário repetido\n",
    "repeatedStarDistribution = repeatedUsernamesDF[['Username', 'Repository Name', 'Number of Stars']].copy()\n",
    "repeatedStarDistribution['Star Percentage'] = 0.0\n",
    "\n",
    "for indx in range(0, len(repeatedStarDistribution)):\n",
    "    tempDF = repeatedStarDistribution.loc[repeatedStarDistribution['Username'] == repeatedStarDistribution['Username'][indx]][['Number of Stars']]\n",
    "    usernameTotal = tempDF['Number of Stars'].sum()\n",
    "    \n",
    "    numberOfStars = repeatedStarDistribution['Number of Stars'][indx]\n",
    "\n",
    "    repeatedStarDistribution.loc[repeatedStarDistribution['Repository Name'] == repeatedStarDistribution['Repository Name'][indx], 'Star Percentage'] = numberOfStars/usernameTotal\n",
    "\n",
    "# Ordenando por aqueles com maior porcentagem, mantendo a ordem alfabética de username    \n",
    "repeatedStarDistribution = repeatedStarDistribution.sort_values(by = ['Username', 'Star Percentage'], ascending = [True, False])\n",
    "repeatedStarDistribution = repeatedStarDistribution.reset_index(drop = True)\n",
    "    \n",
    "print(repeatedStarDistribution.to_string())"
   ]
  },
  {
   "cell_type": "code",
   "execution_count": null,
   "metadata": {
    "collapsed": false,
    "scrolled": true
   },
   "outputs": [],
   "source": [
    "# Montando agora um data frame para o porcentagem total de cada usuário em relação ao total de estrelas do data set\n",
    "usernamesByPercentage = usernamesByFrequency.copy()\n",
    "usernamesByFrequency['Total Percentage'] = 0.0\n",
    "\n",
    "totalStars = trrDF['Number of Stars'].sum()\n",
    "\n",
    "for indx in range(0, len(usernamesByFrequency)):\n",
    "    tempDF = repeatedStarDistribution.loc[repeatedStarDistribution['Username'] == usernamesByFrequency['Username'][indx]][['Number of Stars']]\n",
    "    usernameTotal = tempDF['Number of Stars'].sum()\n",
    "\n",
    "    usernamesByFrequency.loc[usernamesByFrequency['Username'] == usernamesByFrequency['Username'][indx], 'Total Percentage'] = usernameTotal/totalStars\n",
    "    \n",
    "# Ordenando por aqueles com maior porcentagem   \n",
    "usernamesByFrequency = usernamesByFrequency.sort_values(by = 'Total Percentage', ascending = False)\n",
    "usernamesByFrequency = usernamesByFrequency.reset_index(drop = True)    \n",
    "\n",
    "# Não tão supreendentemente, os que aparecem mais estão mais no topo. Porém podemos ver que um dos usuários com o menor número de\n",
    "# repositórios repetidos (2) está entre os 10 primeiros, o que é um feito considerável!\n",
    "print(usernamesByFrequency.to_string())"
   ]
  },
  {
   "cell_type": "code",
   "execution_count": null,
   "metadata": {
    "collapsed": false
   },
   "outputs": [],
   "source": [
    "# Só para ter uma ideia visual, vamos montar um gráfico pie chart usando o username de maior porcentagem e comparar com o que\n",
    "# seria o resto\n",
    "labels = usernamesByFrequency['Username'][0], 'All the rest'\n",
    "explode=(0, 0.05)\n",
    "\n",
    "# Artigos de periódico com coautoria de discente\n",
    "figure(1, figsize=(6,6))\n",
    "fracs = [usernamesByFrequency['Total Percentage'][0] * 100, 100-(usernamesByFrequency['Total Percentage'][0] * 100)]\n",
    "pie(fracs, explode=explode, labels=labels, autopct='%1.4f%%', shadow=True, startangle=90, pctdistance=1.1, labeldistance=1.2)\n",
    "title('Biggest percentage x The rest', bbox={'facecolor':'0.8', 'pad':5})\n",
    "\n",
    "# A ideia inicial que tinha era que aquele que aparecesse mais teria no mínimo em torno de 8% do total de estrelas, mas fica\n",
    "# claro que está bem abaixo disso.\n",
    "show()"
   ]
  },
  {
   "cell_type": "markdown",
   "metadata": {},
   "source": [
    "## 5) Quais/quantas linguagens de programação temos no data set?"
   ]
  },
  {
   "cell_type": "code",
   "execution_count": null,
   "metadata": {
    "collapsed": false
   },
   "outputs": [],
   "source": [
    "# Vimos antes que a colula das linguagens tinha valores faltando (Nan). Vamos então limpar o data frame.\n",
    "trrDFQ5 = trrDF.loc[trrDF['Language'].isnull() == False][['Repository Name', 'Number of Stars', 'Language']]\n",
    "trrDFQ5 = trrDFQ5.reset_index(drop = True)\n",
    "trrDFQ5.info()"
   ]
  },
  {
   "cell_type": "code",
   "execution_count": null,
   "metadata": {
    "collapsed": false
   },
   "outputs": [],
   "source": [
    "print(\"Languages Total: \", len(trrDFQ5['Language'].unique()))\n",
    "trrDFQ5['Language'].unique()"
   ]
  },
  {
   "cell_type": "markdown",
   "metadata": {},
   "source": [
    "## 6) Qual a taxa repositórios/estrelas por linguagem de programação?"
   ]
  },
  {
   "cell_type": "code",
   "execution_count": null,
   "metadata": {
    "collapsed": false,
    "scrolled": true
   },
   "outputs": [],
   "source": [
    "# Montando o data frame de resultado\n",
    "ratesByLanguage = pd.DataFrame(columns=('Language', 'Stars/Repositories Rate'))\n",
    "ratesByLanguage['Language'] = trrDFQ5['Language'].unique()\n",
    "ratesByLanguage['Stars/Repositories Rate'] = 0\n",
    "\n",
    "# Procurando valores por valor 'language'\n",
    "for language in ratesByLanguage['Language']:\n",
    "    # Reduzindo meu data frame para o valor 'language' da iteração\n",
    "    tempDF = trrDFQ5.loc[trrDFQ5['Language'] == language]\n",
    "    tempDF = tempDF.reset_index(drop = True)\n",
    "    \n",
    "    # Lista para guardar número de estrelas de cada repositório da respectiva linguagem\n",
    "    starsByRepository = []\n",
    "    \n",
    "    # Percorrendo o data frame temporário para fazer a contagem da quantidade de repositórios, guardando seu número de estrelas\n",
    "    for indx in range(0, len(tempDF)):\n",
    "        ratesByLanguage.loc[ratesByLanguage['Language'] == tempDF['Language'][indx], 'Stars/Repositories Rate'] += 1\n",
    "        starsByRepository.append(tempDF['Number of Stars'][indx])\n",
    "    \n",
    "    # Calculando taxa da linguagem\n",
    "    ratesByLanguage.loc[ratesByLanguage['Language'] == language, 'Stars/Repositories Rate'] = sum(starsByRepository) / ratesByLanguage.loc[ratesByLanguage['Language'] == language, 'Stars/Repositories Rate']\n",
    "\n",
    "# Ordenando de forma decrescente\n",
    "ratesByLanguage = ratesByLanguage.sort_values(by = 'Stars/Repositories Rate', ascending = False)\n",
    "ratesByLanguage = ratesByLanguage.reset_index(drop = True)        \n",
    "    \n",
    "# O resultado obtido. Não sei se fico surpreso ou não por Assembly estar de primeiro...\n",
    "ratesByLanguage"
   ]
  },
  {
   "cell_type": "code",
   "execution_count": null,
   "metadata": {
    "collapsed": false
   },
   "outputs": [],
   "source": [
    "# Vamos montar um gráfico de barras horizontais com os 5 primeiros valores encontrados\n",
    "matplotlib.rcParams.update({'font.size': 12})\n",
    "\n",
    "firstFive = ratesByLanguage[0:4].sort_values(by = 'Stars/Repositories Rate', ascending = True)\n",
    "firstFive = firstFive.reset_index(drop = True)      \n",
    "\n",
    "fig, ax = plt.subplots(figsize=(16,8))\n",
    "y_pos = [i for i in range(0,len(firstFive['Language']))]\n",
    "x_values = list(firstFive['Stars/Repositories Rate'])\n",
    "bar_width = 0.2\n",
    "\n",
    "ax.set_title(\"First 5 languages Stars x Repositores Rate\")\n",
    "ax.barh(y_pos, x_values, height=bar_width, label='Stars/Repositories Rate', color='#cc6644')\n",
    "ax.set_yticks(y_pos)\n",
    "ax.set_yticklabels(list(firstFive['Language']))\n",
    "plt.xlim((0,max(x_values)*1.2))\n",
    "rects = ax.patches\n",
    "\n",
    "# For each bar: Place a label\n",
    "for rect in rects:\n",
    "    # Get X and Y placement of label from rect.\n",
    "    x_value = rect.get_width()\n",
    "    y_value = rect.get_y() + rect.get_height() / 2\n",
    "\n",
    "    # Use Y value as label and format number with one decimal place\n",
    "    label = \"{:}\".format(x_value)\n",
    "\n",
    "    # Create annotation\n",
    "    plt.annotate(\n",
    "        label,                      # Use `label` as label\n",
    "        (x_value, y_value),         # Place label at end of the bar\n",
    "        xytext=(5, 5),              #  Shift label (horizontally,vertically)\n",
    "        textcoords=\"offset points\", # Interpret `xytext` as offset in points\n",
    "        ha='left',                  # Horizontal label alignment\n",
    "        va='top')                   # Vertical label alignment \n",
    "\n",
    "# Podemos ver o quão siginificativa é a diferença entre Assembly e a segunda linguagem\n",
    "plt.show()"
   ]
  },
  {
   "cell_type": "markdown",
   "metadata": {},
   "source": [
    "## 7) Quais as linguagens do top 10 repositórios?"
   ]
  },
  {
   "cell_type": "code",
   "execution_count": null,
   "metadata": {
    "collapsed": true
   },
   "outputs": [],
   "source": []
  },
  {
   "cell_type": "markdown",
   "metadata": {},
   "source": [
    "## 8) Quais as top 10 lingagens do data set?"
   ]
  },
  {
   "cell_type": "code",
   "execution_count": null,
   "metadata": {
    "collapsed": true
   },
   "outputs": [],
   "source": []
  },
  {
   "cell_type": "markdown",
   "metadata": {},
   "source": [
    "## 9) Dos usuários que aparecem mais de uma vez, quantos possuem repositórios de linguagens diferentes (ex.: um repositório em C, outro em Lua)?"
   ]
  },
  {
   "cell_type": "code",
   "execution_count": null,
   "metadata": {
    "collapsed": true
   },
   "outputs": [],
   "source": []
  },
  {
   "cell_type": "markdown",
   "metadata": {},
   "source": [
    "## 10) Quais os termos mais frequentes usados nas descrições/tags?"
   ]
  },
  {
   "cell_type": "code",
   "execution_count": null,
   "metadata": {
    "collapsed": true
   },
   "outputs": [],
   "source": []
  },
  {
   "cell_type": "markdown",
   "metadata": {},
   "source": [
    "## 11) Crie gráficos do valor da métrica silhouette para as clusterizações entre usuários com mais de um repositório pelo número de linguagens, quantidade de estrelas e total de repositórios. Comente o resultado."
   ]
  },
  {
   "cell_type": "code",
   "execution_count": null,
   "metadata": {
    "collapsed": false
   },
   "outputs": [],
   "source": [
    "# Comecemos por eliminar valores NaN\n",
    "trrDFQ11 = trrDF.fillna(0)\n",
    "trrDFQ11.info()"
   ]
  },
  {
   "cell_type": "code",
   "execution_count": null,
   "metadata": {
    "collapsed": false
   },
   "outputs": [],
   "source": [
    "# Montando o data frame com as informações necessárias\n",
    "clusteringDF = pd.DataFrame(columns=('Username', 'Number of Repositories', 'Languages', 'Stars Total'))\n",
    "clusteringDF['Username'] = usernamesByFrequency['Username']\n",
    "clusteringDF['Number of Repositories'] = usernamesByFrequency['Frequency']\n",
    "clusteringDF['Languages'] = 0\n",
    "clusteringDF['Stars Total'] = 0\n",
    "\n",
    "# Percorrendo o data frame criado pelo username para calcular o resto dos valores\n",
    "for username in clusteringDF['Username']:\n",
    "    clusteringDF.loc[clusteringDF['Username'] == username, 'Languages'] = len(trrDFQ11.loc[trrDFQ11['Username'] == username, 'Language'].unique())\n",
    "    clusteringDF.loc[clusteringDF['Username'] == username, 'Stars Total'] = sum(trrDFQ11.loc[trrDFQ11['Username'] == username, 'Number of Stars'])\n",
    "       \n",
    "pd.set_option('display.max_rows', 83) # Para poder visualizar todas as tuplas deste data frame\n",
    "\n",
    "# O resultado obtido\n",
    "clusteringDF"
   ]
  },
  {
   "cell_type": "code",
   "execution_count": null,
   "metadata": {
    "collapsed": false
   },
   "outputs": [],
   "source": [
    "# Agora tiramos a primeira coluna porque não precisamos mais dela\n",
    "clusteringNoUsername = clusteringDF[clusteringDF.columns[1:]]\n",
    "\n",
    "clusteringArray = clusteringNoUsername.values\n",
    "clusteringArray"
   ]
  },
  {
   "cell_type": "code",
   "execution_count": null,
   "metadata": {
    "collapsed": false
   },
   "outputs": [],
   "source": [
    "# Agora vamos gerar os gráficos de silhouettes e os resultados\n",
    "range_n_clusters = [2, 3, 4, 5, 6]\n",
    "\n",
    "for n_clusters in range_n_clusters:\n",
    "    # Create a subplot with 1 row and 2 columns\n",
    "    fig, (ax1, ax2) = plt.subplots(1, 2)\n",
    "    fig.set_size_inches(18, 7)\n",
    "\n",
    "    # The 1st subplot is the silhouette plot\n",
    "    # The silhouette coefficient can range from -1, 1 but in this example all\n",
    "    # lie within [-0.1, 1]\n",
    "    ax1.set_xlim([-0.1, 1])\n",
    "    # The (n_clusters+1)*10 is for inserting blank space between silhouette\n",
    "    # plots of individual clusters, to demarcate them clearly.\n",
    "    ax1.set_ylim([0, len(clusteringArray) + (n_clusters + 1) * 10])\n",
    "\n",
    "    # Initialize the clusterer with n_clusters value and a random generator\n",
    "    # seed of 10 for reproducibility.\n",
    "    clusterer = KMeans(n_clusters=n_clusters, random_state=10)\n",
    "    cluster_labels = clusterer.fit_predict(clusteringArray)\n",
    "\n",
    "    # The silhouette_score gives the average value for all the samples.\n",
    "    # This gives a perspective into the density and separation of the formed\n",
    "    # clusters\n",
    "    silhouette_avg = silhouette_score(clusteringArray, cluster_labels)\n",
    "    print(\"For n_clusters =\", n_clusters,\n",
    "          \"The average silhouette_score is :\", silhouette_avg)\n",
    "\n",
    "    # Compute the silhouette scores for each sample\n",
    "    sample_silhouette_values = silhouette_samples(clusteringArray, cluster_labels)\n",
    "\n",
    "    y_lower = 10\n",
    "    for i in range(n_clusters):\n",
    "        # Aggregate the silhouette scores for samples belonging to\n",
    "        # cluster i, and sort them\n",
    "        ith_cluster_silhouette_values = \\\n",
    "            sample_silhouette_values[cluster_labels == i]\n",
    "\n",
    "        ith_cluster_silhouette_values.sort()\n",
    "\n",
    "        size_cluster_i = ith_cluster_silhouette_values.shape[0]\n",
    "        y_upper = y_lower + size_cluster_i\n",
    "\n",
    "        color = cm.spectral(float(i) / n_clusters)\n",
    "        ax1.fill_betweenx(np.arange(y_lower, y_upper),\n",
    "                          0, ith_cluster_silhouette_values,\n",
    "                          facecolor=color, edgecolor=color, alpha=0.7)\n",
    "\n",
    "        # Label the silhouette plots with their cluster numbers at the middle\n",
    "        ax1.text(-0.05, y_lower + 0.5 * size_cluster_i, str(i))\n",
    "\n",
    "        # Compute the new y_lower for next plot\n",
    "        y_lower = y_upper + 10  # 10 for the 0 samples\n",
    "\n",
    "    ax1.set_title(\"The silhouette plot for the various clusters.\")\n",
    "    ax1.set_xlabel(\"The silhouette coefficient values\")\n",
    "    ax1.set_ylabel(\"Cluster label\")\n",
    "\n",
    "    # The vertical line for average silhouette score of all the values\n",
    "    ax1.axvline(x=silhouette_avg, color=\"red\", linestyle=\"--\")\n",
    "\n",
    "    ax1.set_yticks([])  # Clear the yaxis labels / ticks\n",
    "    ax1.set_xticks([-0.1, 0, 0.2, 0.4, 0.6, 0.8, 1])\n",
    "\n",
    "    # 2nd Plot showing the actual clusters formed\n",
    "    colors = cm.spectral(cluster_labels.astype(float) / n_clusters)\n",
    "    ax2.scatter(clusteringArray[:, 0], clusteringArray[:, 1], marker='.', s=30, lw=0, alpha=0.7,\n",
    "                c=colors, edgecolor='k')\n",
    "\n",
    "    # Labeling the clusters\n",
    "    centers = clusterer.cluster_centers_\n",
    "    # Draw white circles at cluster centers\n",
    "    ax2.scatter(centers[:, 0], centers[:, 1], marker='o',\n",
    "                c=\"white\", alpha=1, s=200, edgecolor='k')\n",
    "\n",
    "    for i, c in enumerate(centers):\n",
    "        ax2.scatter(c[0], c[1], marker='$%d$' % i, alpha=1,\n",
    "                    s=50, edgecolor='k')\n",
    "\n",
    "    ax2.set_title(\"The visualization of the clustered data.\")\n",
    "    ax2.set_xlabel(\"Feature space for the 1st feature\")\n",
    "    ax2.set_ylabel(\"Feature space for the 2nd feature\")\n",
    "\n",
    "    plt.suptitle((\"Silhouette analysis for KMeans clustering on sample data \"\n",
    "                  \"with n_clusters = %d\" % n_clusters),\n",
    "                 fontsize=14, fontweight='bold')\n",
    "\n",
    "    plt.show()"
   ]
  },
  {
   "cell_type": "markdown",
   "metadata": {},
   "source": [
    "## Resultados obtidos:\n",
    "For n_clusters = 2 The average silhouette_score is : 0.840174217763<br/>\n",
    "For n_clusters = 3 The average silhouette_score is : 0.770948083057<br/>\n",
    "For n_clusters = 4 The average silhouette_score is : 0.745114183213<br/>\n",
    "For n_clusters = 5 The average silhouette_score is : 0.636531870982<br/>\n",
    "For n_clusters = 6 The average silhouette_score is : 0.649123312056<br/>\n",
    "<br/>\n",
    "Esses resultados acabaram não sendo muito satisfatórios, pois aponta como número ideal de clusters **n=2**. A situação piora cada vez que se aumenta o número de clusters, os gráficos também mostram isso. Isso deve significar que nosso data set está pobre de informações e que provavelmente teríamos obtido melhores resultados tendo mais atributos significativos nele como quantidade de colaboradores, quantidade de commits e quantidade de issues, por exemplo."
   ]
  }
 ],
 "metadata": {
  "kernelspec": {
   "display_name": "Python 3",
   "language": "python",
   "name": "python3"
  },
  "language_info": {
   "codemirror_mode": {
    "name": "ipython",
    "version": 3
   },
   "file_extension": ".py",
   "mimetype": "text/x-python",
   "name": "python",
   "nbconvert_exporter": "python",
   "pygments_lexer": "ipython3",
   "version": "3.5.4"
  }
 },
 "nbformat": 4,
 "nbformat_minor": 2
}
