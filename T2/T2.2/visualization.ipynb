{
 "cells": [
  {
   "cell_type": "markdown",
   "metadata": {},
   "source": [
    "Notebook from : http://fritzsluzala.pythonanywhere.com/topgit"
   ]
  },
  {
   "cell_type": "code",
   "execution_count": null,
   "metadata": {
    "collapsed": true
   },
   "outputs": [],
   "source": [
    "#import sys\n",
    "#!conda install --yes --prefix {sys.prefix} wordcloud"
   ]
  },
  {
   "cell_type": "markdown",
   "metadata": {},
   "source": [
    "# Top Starred Open Source Projects on Github\n",
    "\n",
    "Data Source: https://data.world/chasewillden/top-starred-open-source-projects-on-github\n",
    "\n",
    "For data manipulation, I've used pandas. I find it very easy to use and save me lots of time on parsing and cleaning data."
   ]
  },
  {
   "cell_type": "code",
   "execution_count": null,
   "metadata": {
    "collapsed": false
   },
   "outputs": [],
   "source": [
    "import pandas as pd\n",
    "df = pd.read_csv(\"in/TopStaredRepositories.csv\", delimiter=\",\")\n",
    "df = df.drop(\"Last Update Date\", axis =1)\n",
    "df[\"Number of Stars\"] = df[\"Number of Stars\"].str.replace(\"k\",\"\")\n",
    "df[\"Number of Stars\"] = df[\"Number of Stars\"].apply(float)\n",
    "df = df.fillna(\"\")\n",
    "df.head()"
   ]
  },
  {
   "cell_type": "code",
   "execution_count": null,
   "metadata": {
    "collapsed": false
   },
   "outputs": [],
   "source": [
    "from matplotlib import pyplot as plt\n",
    "import seaborn as sbn\n",
    "%matplotlib inline\n",
    "\n",
    "sbn.lmplot(x=\"index\",y=\"Number of Stars\",data=df.reset_index(),\n",
    "           scatter_kws={'color': 'red'},fit_reg=False,\n",
    "           size=10,aspect=2)\n",
    "plt.xlim(-10,1000)\n",
    "plt.ylim(0,300)\n",
    "print() # Just to avoid the showing of plt.ylim(0,300) return. :D"
   ]
  },
  {
   "cell_type": "code",
   "execution_count": null,
   "metadata": {
    "collapsed": true
   },
   "outputs": [],
   "source": [
    "tags = []\n",
    "for line in df[\"Tags\"]:\n",
    "    if line != \"\" and tags != None:\n",
    "        tags += line.replace(\" \",\"\").split(\",\")"
   ]
  },
  {
   "cell_type": "markdown",
   "metadata": {},
   "source": [
    "Then, I counted it, to check if it was worth to build a wordcloud."
   ]
  },
  {
   "cell_type": "code",
   "execution_count": null,
   "metadata": {
    "collapsed": false
   },
   "outputs": [],
   "source": [
    "from collections import Counter\n",
    "\n",
    "Counter(tags).most_common(10)"
   ]
  },
  {
   "cell_type": "markdown",
   "metadata": {},
   "source": [
    "By the result above, seemed reasonable to build a wordcloud of it. Here is the result:"
   ]
  },
  {
   "cell_type": "code",
   "execution_count": null,
   "metadata": {
    "collapsed": false
   },
   "outputs": [],
   "source": [
    "from wordcloud import WordCloud, random_color_func\n",
    "\n",
    "wordcloud = WordCloud(background_color='black',\n",
    "                     width=1000,\n",
    "                     height=500,\n",
    "                     ).generate(' '.join(tags))\n",
    "wordcloud.recolor(color_func=random_color_func)\n",
    "plt.figure(figsize=(15,8))\n",
    "plt.imshow(wordcloud)\n",
    "plt.axis('off')\n",
    "plt.show()"
   ]
  },
  {
   "cell_type": "markdown",
   "metadata": {},
   "source": [
    "After seeing the result above, I've got curious about who was the users that got more projects on the most starred list."
   ]
  },
  {
   "cell_type": "code",
   "execution_count": null,
   "metadata": {
    "collapsed": true
   },
   "outputs": [],
   "source": [
    "Counter(df['Username']).most_common(5)"
   ]
  },
  {
   "cell_type": "markdown",
   "metadata": {},
   "source": [
    "The wordcloud was:"
   ]
  },
  {
   "cell_type": "code",
   "execution_count": null,
   "metadata": {
    "collapsed": true
   },
   "outputs": [],
   "source": [
    "wordcloud = WordCloud(background_color='black',\n",
    "                     width=1000,\n",
    "                     height=500,\n",
    "                     ).generate(' '.join(df['Username']))\n",
    "wordcloud.recolor(color_func=random_color_func)\n",
    "plt.figure(figsize=(15,8))\n",
    "plt.imshow(wordcloud)\n",
    "plt.axis('off')\n",
    "plt.show()"
   ]
  },
  {
   "cell_type": "markdown",
   "metadata": {},
   "source": [
    "As last visualization, I wanted to see which programming languages were the most used in those projects."
   ]
  },
  {
   "cell_type": "code",
   "execution_count": null,
   "metadata": {
    "collapsed": true
   },
   "outputs": [],
   "source": [
    "languages = Counter([l for l in df[\"Language\"] if l != '' and l != None]).most_common()\n",
    "languages[0:10]"
   ]
  },
  {
   "cell_type": "markdown",
   "metadata": {},
   "source": [
    "BUUUUUUUUT the resultant wordcloud (below) was awful! D:"
   ]
  },
  {
   "cell_type": "code",
   "execution_count": null,
   "metadata": {
    "collapsed": true
   },
   "outputs": [],
   "source": [
    "wordcloud = WordCloud(background_color='black',\n",
    "                     width=1200,\n",
    "                     height=800,\n",
    "                     ).generate(' '.join([l for l in df[\"Language\"] if l != '' and l != None]))\n",
    "wordcloud.recolor(color_func=random_color_func)\n",
    "plt.figure(figsize=(12,8))\n",
    "plt.imshow(wordcloud)\n",
    "plt.axis('off')\n",
    "plt.show()"
   ]
  },
  {
   "cell_type": "markdown",
   "metadata": {},
   "source": [
    "Sooo, I've decided that I would like to present it in another manner. So I've saved the Programming Languages count data to a CSV file and I've used the open source tool RAWGraphs to check other visualizations and choose \"Circle Packing\" as my chart. check out RAWGraphs at: http://rawgraphs.io/\n",
    "<br/><br/>\n",
    "The result of the Circle Packing chart is the one below. Much better! :D"
   ]
  },
  {
   "cell_type": "code",
   "execution_count": null,
   "metadata": {
    "collapsed": true
   },
   "outputs": [],
   "source": [
    "with open(\"languages_count.csv\",\"w\") as languages_file:\n",
    "    for language in languages:\n",
    "        languages_file.write(\"{}\\n\".format(\";\".join(str(i) for i in language)))"
   ]
  }
 ],
 "metadata": {
  "kernelspec": {
   "display_name": "Python 3",
   "language": "python",
   "name": "python3"
  },
  "language_info": {
   "codemirror_mode": {
    "name": "ipython",
    "version": 3
   },
   "file_extension": ".py",
   "mimetype": "text/x-python",
   "name": "python",
   "nbconvert_exporter": "python",
   "pygments_lexer": "ipython3",
   "version": "3.5.4"
  }
 },
 "nbformat": 4,
 "nbformat_minor": 0
}
