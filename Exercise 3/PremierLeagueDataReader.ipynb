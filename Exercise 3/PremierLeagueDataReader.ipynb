{
 "cells": [
  {
   "cell_type": "markdown",
   "metadata": {},
   "source": [
    "# Exercise 1.3 - Solution\n",
    "## Authors:\n",
    "- Leonardo Kaplan 1212509\n",
    "- Nino Fabrizio Tiriticco Lizardo 1113203"
   ]
  },
  {
   "cell_type": "code",
   "execution_count": null,
   "metadata": {
    "collapsed": true
   },
   "outputs": [],
   "source": [
    "# Importando pacote pandas para baixar os dados necessários\n",
    "import pandas as pd"
   ]
  },
  {
   "cell_type": "code",
   "execution_count": null,
   "metadata": {
    "scrolled": true
   },
   "outputs": [],
   "source": [
    "# Pegando os dados\n",
    "premierLeague2016_2017Raw = pd.read_csv('http://www.football-data.co.uk/mmz4281/1617/E0.csv')\n",
    "\n",
    "# Analizando eles\n",
    "premierLeague2016_2017Raw.head()"
   ]
  },
  {
   "cell_type": "code",
   "execution_count": null,
   "metadata": {
    "scrolled": true
   },
   "outputs": [],
   "source": [
    "# Limpando os dados com o que nos interessa\n",
    "ourPLData = premierLeague2016_2017Raw[premierLeague2016_2017Raw.columns[1:6]]\n",
    "\n",
    "# Renomeando algumas das colunas para algo mais legível\n",
    "ourPLData.columns.values[3] = 'HomeTeamGoals'\n",
    "ourPLData.columns.values[4] = 'AwayTeamGoals'\n",
    "\n",
    "ourPLData"
   ]
  },
  {
   "cell_type": "code",
   "execution_count": null,
   "metadata": {},
   "outputs": [],
   "source": [
    "# Vemos que a classificação dos dados da coluna Date não está no formato devido. Passaremos para tipo datetime quando estivermos gerando o dataframe final\n",
    "ourPLData.dtypes"
   ]
  },
  {
   "cell_type": "code",
   "execution_count": null,
   "metadata": {},
   "outputs": [],
   "source": [
    "# Criando o dataframe final\n",
    "ourPLPivot = pd.DataFrame(columns=('Match', 'Date', 'Location', 'Team', 'Goals'))\n",
    "for indx in range(0, len(ourPLData)):\n",
    "    \n",
    "    # Pegando dados de cada time por índice de partida\n",
    "    homeTeam = []\n",
    "    awayTeam = []\n",
    "    homeTeam += [indx+1, pd.to_datetime(ourPLData[ourPLData.columns.values[0]].values[indx]), ourPLData[ourPLData.columns.values[1]].values[indx], ourPLData[ourPLData.columns.values[1]].values[indx], ourPLData[ourPLData.columns.values[3]].values[indx]]\n",
    "    awayTeam += [indx+1, pd.to_datetime(ourPLData[ourPLData.columns.values[0]].values[indx]), ourPLData[ourPLData.columns.values[1]].values[indx], ourPLData[ourPLData.columns.values[2]].values[indx], ourPLData[ourPLData.columns.values[4]].values[indx]]\n",
    "    \n",
    "    # Passando os dados ao dataframe final através de temporário\n",
    "    dataframe = pd.DataFrame([homeTeam, awayTeam], columns=('Match', 'Date', 'Location', 'Team', 'Goals'))\n",
    "    ourPLPivot = ourPLPivot.append(dataframe)\n",
    "\n",
    "# Ordenando tabela por ordem de partida primeiro, alfabética em segundo e finalizando arrumando os índices na tabela\n",
    "ourPLPivot = ourPLPivot.sort_values(['Match','Team'], ascending=[True,True])\n",
    "ourPLPivot = ourPLPivot.reset_index(drop = True)\n",
    "ourPLPivot"
   ]
  }
 ],
 "metadata": {
  "kernelspec": {
   "display_name": "Python 3",
   "language": "python",
   "name": "python3"
  },
  "language_info": {
   "codemirror_mode": {
    "name": "ipython",
    "version": 3
   },
   "file_extension": ".py",
   "mimetype": "text/x-python",
   "name": "python",
   "nbconvert_exporter": "python",
   "pygments_lexer": "ipython3",
   "version": "3.6.3"
  }
 },
 "nbformat": 4,
 "nbformat_minor": 2
}
