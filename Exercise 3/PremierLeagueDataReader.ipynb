{
 "cells": [
  {
   "cell_type": "markdown",
   "metadata": {},
   "source": [
    "# Exercise 1.3 - Solution\n",
    "## Authors:\n",
    "- Leonardo Kaplan 1212509\n",
    "- Nino Fabrizio Tiriticco Lizardo 1113203"
   ]
  },
  {
   "cell_type": "code",
   "execution_count": null,
   "metadata": {
    "collapsed": true
   },
   "outputs": [],
   "source": [
    "# Pacotes utilizados\n",
    "import pandas as pd # pandas: python data analysis\n",
    "import numpy as np  # numpy: numerical analysis"
   ]
  },
  {
   "cell_type": "markdown",
   "metadata": {},
   "source": [
    "# Premier League Season 2016_2017 - Solução dada em aula:"
   ]
  },
  {
   "cell_type": "code",
   "execution_count": null,
   "metadata": {
    "collapsed": false
   },
   "outputs": [],
   "source": [
    "# _EN read CSV file from the Web\n",
    "# _PT lê arquivo CSV da Web\n",
    "\n",
    "premierLeague2016_2017Raw = pd.read_csv('http://www.football-data.co.uk/mmz4281/1617/E0.csv')\n",
    "\n",
    "# _EN check the dataframe dimensions\n",
    "# _PT verifica as dimensões do dataframe\n",
    "\n",
    "premierLeague2016_2017Raw.shape"
   ]
  },
  {
   "cell_type": "code",
   "execution_count": null,
   "metadata": {
    "collapsed": false,
    "scrolled": true
   },
   "outputs": [],
   "source": [
    "# _EN examine first few rows\n",
    "# _PT examina as primeiras linhas\n",
    "\n",
    "premierLeague2016_2017Raw.head()"
   ]
  },
  {
   "cell_type": "code",
   "execution_count": null,
   "metadata": {
    "collapsed": false
   },
   "outputs": [],
   "source": [
    "# _EN create a dataframe with selected columns\n",
    "# _PT cria um dataframe com colunas selecionadas\n",
    "\n",
    "pl = premierLeague2016_2017Raw.loc[ : , 'Date':'FTR']\n",
    "pl.head()"
   ]
  },
  {
   "cell_type": "code",
   "execution_count": null,
   "metadata": {
    "collapsed": false
   },
   "outputs": [],
   "source": [
    "# _EN examine the column data types\n",
    "# _PT examina os tipos de dados das colunas\n",
    "\n",
    "pl.dtypes"
   ]
  },
  {
   "cell_type": "code",
   "execution_count": null,
   "metadata": {
    "collapsed": false
   },
   "outputs": [],
   "source": [
    "# _EN convert dates to datetime\n",
    "# _PT converte as datas para datetime\n",
    "\n",
    "pl.Date = pd.to_datetime(pl.Date)\n",
    "pl.Date.head()"
   ]
  },
  {
   "cell_type": "code",
   "execution_count": null,
   "metadata": {
    "collapsed": false
   },
   "outputs": [],
   "source": [
    "pl.Date.tail()"
   ]
  },
  {
   "cell_type": "code",
   "execution_count": null,
   "metadata": {
    "collapsed": false
   },
   "outputs": [],
   "source": [
    "# _EN How many matches?\n",
    "# _PT Quantas partidas?\n",
    "\n",
    "pl.shape[0]"
   ]
  },
  {
   "cell_type": "code",
   "execution_count": null,
   "metadata": {
    "collapsed": false
   },
   "outputs": [],
   "source": [
    "# _EN How many teams?\n",
    "# _PT Quantos times?\n",
    "\n",
    "allTeams = list(set(pl['HomeTeam'].append(pl['AwayTeam'])))\n",
    "print(len(allTeams))\n",
    "sorted(allTeams)[0:5]"
   ]
  },
  {
   "cell_type": "code",
   "execution_count": null,
   "metadata": {
    "collapsed": false
   },
   "outputs": [],
   "source": [
    "# _EN How long (in days) is the championship?\n",
    "# _PT Quantos dias dura o campeonato?\n",
    "\n",
    "duracaoErro = max(pl['Date']) - min(pl['Date'])\n",
    "print(duracaoErro)\n",
    "print(duracaoErro.days)\n",
    "print('certo')\n",
    "pl.Date.iloc[-1]-pl.Date.iloc[0]"
   ]
  },
  {
   "cell_type": "code",
   "execution_count": null,
   "metadata": {
    "collapsed": false
   },
   "outputs": [],
   "source": [
    "# _EN create a sequential number for the match\n",
    "# _PT cria um número sequencial para partidas\n",
    "\n",
    "pl['Match'] = range(1, pl.shape[0]+1)\n",
    "\n",
    "# _EN create column with winner's name, if any\n",
    "# _PT cria coluna com o nome do vencedor, se houver\n",
    "\n",
    "pl['Winner']= ''\n",
    "pl['Winner'] = pl.apply(\n",
    "    lambda row: row['HomeTeam'] if row['FTR'] == 'H' else row['Winner'], axis=1\n",
    ")\n",
    "pl['Winner'] = pl.apply(\n",
    "    lambda row: row['AwayTeam'] if row['FTR'] == 'A' else row['Winner'], axis=1\n",
    ")\n",
    "\n",
    "# _EN create column with goal difference\n",
    "# _PT cria coluna com saldo de gols\n",
    "\n",
    "pl['GoalDiff'] = abs(pl['FTHG']-pl['FTAG'])\n",
    "\n",
    "pl.head()"
   ]
  },
  {
   "cell_type": "code",
   "execution_count": null,
   "metadata": {
    "collapsed": false
   },
   "outputs": [],
   "source": [
    "# _EN sort rows in descending order by goal difference and ascending order by winner's name\n",
    "# _PT ordena linhas por saldo de gols (maior para o menor) e nome do vencedor (em ordem alfabética)\n",
    "\n",
    "pl.sort_values(['GoalDiff','Winner'], ascending=[False,True]).head()"
   ]
  },
  {
   "cell_type": "code",
   "execution_count": null,
   "metadata": {
    "collapsed": false
   },
   "outputs": [],
   "source": [
    "# _EN group by winner\n",
    "# _PT agrupa por vencedor\n",
    "\n",
    "plWinners = pl.groupby(['Winner'])\n",
    "plWinners.groups"
   ]
  },
  {
   "cell_type": "code",
   "execution_count": null,
   "metadata": {
    "collapsed": false
   },
   "outputs": [],
   "source": [
    "# _EN How many victories per team? Which team had the most victories?\n",
    "# _PT Quantas vitórias por time? Qual time teve mais vitórias?\n",
    "\n",
    "victoryCount = plWinners.size().sort_values(ascending = False)\n",
    "victoryCount"
   ]
  },
  {
   "cell_type": "code",
   "execution_count": null,
   "metadata": {
    "collapsed": false
   },
   "outputs": [],
   "source": [
    "# _EN create a dataframe with victory count\n",
    "# _PT cria um dataframe com contagem de vitórias\n",
    "\n",
    "plWin = pd.DataFrame(victoryCount, columns=['victories'])\n",
    "plWin.head()"
   ]
  },
  {
   "cell_type": "code",
   "execution_count": null,
   "metadata": {
    "collapsed": false
   },
   "outputs": [],
   "source": [
    "# _EN calculate goal differences stats for each team\n",
    "# _PT calcula estatísticas de saldo de gols para cada time\n",
    "\n",
    "plWinners[['GoalDiff']].aggregate([np.min, np.median, np.mean, np.max])"
   ]
  },
  {
   "cell_type": "markdown",
   "metadata": {},
   "source": [
    "### Melt"
   ]
  },
  {
   "cell_type": "code",
   "execution_count": null,
   "metadata": {
    "collapsed": false,
    "scrolled": false
   },
   "outputs": [],
   "source": [
    "# _EN melt dataframe to long format\n",
    "# _PT remodela dataframe para formato \"longo\"\n",
    "\n",
    "plLong = pd.melt(pl, id_vars=['Match','Date','HomeTeam', 'AwayTeam', 'Winner'], \n",
    "            value_vars=['FTHG', 'FTAG'], var_name='GoalPlace', value_name='GoalNum')\n",
    "plLong.sort_values(['Match']).head()"
   ]
  },
  {
   "cell_type": "code",
   "execution_count": null,
   "metadata": {
    "collapsed": false
   },
   "outputs": [],
   "source": [
    "# _EN rename columns\n",
    "# _PT altera nomes de colunas\n",
    "\n",
    "plLong.columns = ['Match', 'Date', 'Home', 'Away', 'Winner', 'GoalPlace', 'GoalNum']\n",
    "plLong['Location'] = plLong.Home\n",
    "plLong.head()"
   ]
  },
  {
   "cell_type": "code",
   "execution_count": null,
   "metadata": {
    "collapsed": false
   },
   "outputs": [],
   "source": [
    "# _EN melt again\n",
    "# _PT remodela novamente\n",
    "\n",
    "plLong2 = pd.melt(plLong, \n",
    "                  id_vars = ['Match', 'Date', 'Location', 'Winner', 'GoalPlace', 'GoalNum'], \n",
    "            value_vars=['Home', 'Away'], var_name='Place', value_name='Team')\n",
    "# _EN \n",
    "# _PT \n",
    "\n",
    "plLong2.sort_values(['Match','Place'], ascending=[True, False], inplace=True)\n",
    "\n",
    "# _EN \n",
    "# _PT \n",
    "\n",
    "plLong2[['Match','Date', 'Location', 'Team','Place','GoalNum','GoalPlace','Winner']].head()"
   ]
  },
  {
   "cell_type": "code",
   "execution_count": null,
   "metadata": {
    "collapsed": false
   },
   "outputs": [],
   "source": [
    "# _EN \n",
    "# _PT \n",
    "\n",
    "plLong2.dtypes"
   ]
  },
  {
   "cell_type": "code",
   "execution_count": null,
   "metadata": {
    "collapsed": false
   },
   "outputs": [],
   "source": [
    "# _EN eliminate senseless rows ((Home and FTAG) or (Away and FTHG))\n",
    "# _PT elimina linhas que não fazem sentido ((Home e FTAG) ou (Away e FTHG))\n",
    "\n",
    "plLongOK = plLong2[((plLong2.Place=='Home') & (plLong2.GoalPlace=='FTHG'))|((plLong2.Place=='Away') & (plLong2.GoalPlace=='FTAG'))]\n",
    "plLongOK = plLongOK[['Match', 'Date', 'Location', 'Team', 'Place', 'GoalNum']]\n",
    "plLongOK.head()"
   ]
  },
  {
   "cell_type": "code",
   "execution_count": null,
   "metadata": {
    "collapsed": false
   },
   "outputs": [],
   "source": [
    "# _EN create a pivot dataframe with multi-index (w ERROR)\n",
    "# _EN (original dataframe is not complete; needs filling)\n",
    "# _PT cria dataframe pivot com multi-índice (com ERRO)\n",
    "# _PT (dataframe original não está completo; precisa preencher)\n",
    "\n",
    "plLongOK.pivot(index=['Match', 'Date', 'Location', 'Team'], columns='Place', values='GoalNum')"
   ]
  },
  {
   "cell_type": "code",
   "execution_count": null,
   "metadata": {
    "collapsed": false
   },
   "outputs": [],
   "source": [
    "pl.head()"
   ]
  },
  {
   "cell_type": "code",
   "execution_count": null,
   "metadata": {
    "collapsed": false,
    "scrolled": true
   },
   "outputs": [],
   "source": [
    "# _EN create a pivot dataframe with multi-index, filling with 0\n",
    "# _PT cria dataframe pivot com multi-índice, preenchendo com 0\n",
    "\n",
    "plPivot = pd.pivot_table(plLongOK, \n",
    "                         index=['Match', 'Date', 'Location', 'Team'],\n",
    "                         columns=['Place'], values='GoalNum', fill_value=0)\n",
    "plPivot.head()"
   ]
  },
  {
   "cell_type": "markdown",
   "metadata": {},
   "source": [
    "_EN Does plPivot make sense? No, because the Away/Home columns are mutually exclusive.\n",
    "\n",
    "_PT O dataframe plPivot faz sentido? Não, porque as colunas Away/Home são mutuamente exclusivas."
   ]
  },
  {
   "cell_type": "code",
   "execution_count": null,
   "metadata": {
    "collapsed": false
   },
   "outputs": [],
   "source": [
    "# _EN create column with number of goals\n",
    "# _PT cria coluna com número de goals\n",
    "\n",
    "plPivot['Goals'] = plPivot.apply(lambda x: max(x['Away'], x['Home']), axis=1)\n",
    "plPivot.head()"
   ]
  },
  {
   "cell_type": "code",
   "execution_count": null,
   "metadata": {
    "collapsed": false
   },
   "outputs": [],
   "source": [
    "# _EN eliminate redundant columns\n",
    "# _PT elimina colunas redundantes\n",
    "\n",
    "plPivot = plPivot[['Goals']]\n",
    "plPivot.head()"
   ]
  },
  {
   "cell_type": "code",
   "execution_count": null,
   "metadata": {
    "collapsed": false
   },
   "outputs": [],
   "source": [
    "# _EN remove index\n",
    "# _PT remove índice\n",
    "\n",
    "plPivot = plPivot.reset_index()\n",
    "plPivot.head()"
   ]
  },
  {
   "cell_type": "code",
   "execution_count": null,
   "metadata": {
    "collapsed": false
   },
   "outputs": [],
   "source": [
    "# _EN Why is the index column named Place?\n",
    "# _PT Por que a coluna de índice está com nome Place?\n",
    "\n",
    "plPivot.columns"
   ]
  },
  {
   "cell_type": "code",
   "execution_count": null,
   "metadata": {
    "collapsed": false
   },
   "outputs": [],
   "source": [
    "# _EN changing the name of the index coiumn\n",
    "# _PT alterando o nome da coluna de índice\n",
    "col = plPivot.columns\n",
    "col.name = ''\n",
    "plPivot.columns = col\n",
    "\n",
    "plPivot.head()"
   ]
  },
  {
   "cell_type": "markdown",
   "metadata": {},
   "source": [
    "## _EN Exercise 1.3: generate the dataframe above following a better procedure\n",
    "\n",
    "## _PT Exercício 1.3: gere o dataframe acima seguindo um procedimento melhor\n",
    "<br/>\n",
    "<br/>\n",
    "**Obs.: Melhor tirar todo o código feito pela professora na versão final, deixando apenas o que precisamos para nossa solução**"
   ]
  },
  {
   "cell_type": "code",
   "execution_count": null,
   "metadata": {
    "collapsed": false
   },
   "outputs": [],
   "source": [
    "# A tabela que queremos gerar\n",
    "plPivot"
   ]
  },
  {
   "cell_type": "code",
   "execution_count": null,
   "metadata": {
    "collapsed": false
   },
   "outputs": [],
   "source": [
    "# A tabela com os dados brutos \"tratados\"\n",
    "pl.head()"
   ]
  },
  {
   "cell_type": "code",
   "execution_count": null,
   "metadata": {
    "collapsed": false
   },
   "outputs": [],
   "source": [
    "# A tabela com os dados brutos\n",
    "premierLeague2016_2017Raw.tail()"
   ]
  },
  {
   "cell_type": "code",
   "execution_count": null,
   "metadata": {
    "collapsed": false,
    "scrolled": true
   },
   "outputs": [],
   "source": [
    "# Limpando os dados com o que nos interessa\n",
    "ourPLData = premierLeague2016_2017Raw[premierLeague2016_2017Raw.columns[1:6]]\n",
    "\n",
    "# Renomeando algumas das colunas para algo mais legível\n",
    "ourPLData.columns.values[3] = 'HomeTeamGoals'\n",
    "ourPLData.columns.values[4] = 'AwayTeamGoals'\n",
    "\n",
    "# Adicionando coluna da partida\n",
    "# Obs.: Essa linha parece ser a origem de um warning chato pra cacete que não consegui retirar, mesmo seguindo a dica dele\n",
    "ourPLData['Match'] = range(1, premierLeague2016_2017Raw.shape[0]+1)\n",
    "\n",
    "# Ordenando as colunas para a ordem desejada\n",
    "cols = ourPLData.columns.tolist()\n",
    "cols = cols[-1:] + cols[:-1]\n",
    "ourPLData = ourPLData[cols]\n",
    "\n",
    "# Passando dados em Date para formato data\n",
    "ourPLData.Date = pd.to_datetime(ourPLData.Date)\n",
    "\n",
    "ourPLData"
   ]
  },
  {
   "cell_type": "markdown",
   "metadata": {},
   "source": [
    "## *TODO*\n",
    "A ideia dos seguintes passos para formar nossa tabela final é separar cada linha de **ourPLData** em duas novas linhas que possuam cada uma o nome do time e o respectivo número de gols feitos por ele na partida. Ou seja, devemos formar \"duplas\" de linhas que representem uma partida por dupla. Cada dupla então tem em comum o número da partida, a data e o local onde o jogo aconteceu, tendo como particularidade o nome do time e quantos gols fez nessa partida (olhar a tabela final feita pela professora pra melhor entendimento: **plPivot**)."
   ]
  },
  {
   "cell_type": "code",
   "execution_count": null,
   "metadata": {
    "collapsed": false
   },
   "outputs": [],
   "source": [
    "# Criando dataframe final\n",
    "ourPLPivot = pd.DataFrame(columns=('Match', 'Date', 'Location', 'Team', 'Goals'))\n",
    "for i in range(0, len(ourPLData)):\n",
    "    \n",
    "    # Pegando dados de cada time por índice de partida\n",
    "    homeTeam = []\n",
    "    awayTeam = []\n",
    "    homeTeam += [ourPLData[ourPLData.columns.values[0]].values[i], ourPLData[ourPLData.columns.values[1]].values[i], ourPLData[ourPLData.columns.values[2]].values[i], ourPLData[ourPLData.columns.values[2]].values[i], ourPLData[ourPLData.columns.values[4]].values[i]]\n",
    "    awayTeam += [ourPLData[ourPLData.columns.values[0]].values[i], ourPLData[ourPLData.columns.values[1]].values[i], ourPLData[ourPLData.columns.values[2]].values[i], ourPLData[ourPLData.columns.values[3]].values[i], ourPLData[ourPLData.columns.values[5]].values[i]]\n",
    "    \n",
    "    # Passando os dados ao dataframe final através de temporário\n",
    "    df = pd.DataFrame([homeTeam, awayTeam], columns=('Match', 'Date', 'Location', 'Team', 'Goals'))\n",
    "    ourPLPivot = ourPLPivot.append(df)\n",
    "\n",
    "# Ordenando tabela por ordem de partida primeiro, alfabética em segundo e finalizando por ordenar índices da tabela\n",
    "# Obs.: Para poder atribuir a mudança no dataframe com sort_values, tive que atribuir o dataframe gerado pela função ao original. A professora fez sem atribuir no material.\n",
    "ourPLPivot = ourPLPivot.sort_values(['Match','Team'], ascending=[True,True])\n",
    "ourPLPivot = ourPLPivot.reset_index(drop = True)\n",
    "ourPLPivot"
   ]
  },
  {
   "cell_type": "code",
   "execution_count": null,
   "metadata": {
    "collapsed": true
   },
   "outputs": [],
   "source": []
  }
 ],
 "metadata": {
  "kernelspec": {
   "display_name": "Python 3",
   "language": "python",
   "name": "python3"
  },
  "language_info": {
   "codemirror_mode": {
    "name": "ipython",
    "version": 3
   },
   "file_extension": ".py",
   "mimetype": "text/x-python",
   "name": "python",
   "nbconvert_exporter": "python",
   "pygments_lexer": "ipython3",
   "version": "3.5.4"
  }
 },
 "nbformat": 4,
 "nbformat_minor": 2
}
