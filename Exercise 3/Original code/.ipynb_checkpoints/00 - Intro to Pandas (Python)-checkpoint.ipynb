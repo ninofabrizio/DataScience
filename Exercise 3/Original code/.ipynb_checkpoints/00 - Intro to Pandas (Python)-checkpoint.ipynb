{
 "cells": [
  {
   "cell_type": "markdown",
   "metadata": {},
   "source": [
    "# Introduction to Pandas"
   ]
  },
  {
   "cell_type": "code",
   "execution_count": null,
   "metadata": {
    "collapsed": true
   },
   "outputs": [],
   "source": [
    "import pandas as pd # pandas: python data analysis\n",
    "import numpy as np  # numpy: numerical analysis"
   ]
  },
  {
   "cell_type": "markdown",
   "metadata": {},
   "source": [
    "## _EN Pandas Series\n",
    "## _PT Série Pandas"
   ]
  },
  {
   "cell_type": "code",
   "execution_count": null,
   "metadata": {
    "collapsed": false
   },
   "outputs": [],
   "source": [
    "lst = ['a', 'b', 'c', 'd']\n",
    "print('lista:')\n",
    "print(lst)\n",
    "\n",
    "## _EN creating a series from a list\n",
    "## _PT criando uma série a partir de uma lista\n",
    "\n",
    "ser = pd.Series(lst)\n",
    "print('series:')\n",
    "print(ser)"
   ]
  },
  {
   "cell_type": "code",
   "execution_count": null,
   "metadata": {
    "collapsed": false
   },
   "outputs": [],
   "source": [
    "## _EN getting a month's name from its number\n",
    "## _PT obtendo o nome de um mês a partir do seu número\n",
    "\n",
    "import calendar as cal\n",
    "monthNums = [i for i in range(1,13)]\n",
    "print(monthNums)\n",
    "\n",
    "monthNames = [cal.month_name[i] for i in monthNums]\n",
    "print(monthNames)"
   ]
  },
  {
   "cell_type": "code",
   "execution_count": null,
   "metadata": {
    "collapsed": false
   },
   "outputs": [],
   "source": [
    "## _EN creating a series with element names\n",
    "## _PT criando uma série com nomes de elementos\n",
    "\n",
    "months = pd.Series(monthNums, index=monthNames, name='meses')\n",
    "print(months)"
   ]
  },
  {
   "cell_type": "code",
   "execution_count": null,
   "metadata": {
    "collapsed": false
   },
   "outputs": [],
   "source": [
    "# _EN element names\n",
    "# _PT nomes dos elementos\n",
    "\n",
    "months.index"
   ]
  },
  {
   "cell_type": "code",
   "execution_count": null,
   "metadata": {
    "collapsed": false
   },
   "outputs": [],
   "source": [
    "# _EN creating a series from a dictionary\n",
    "# _PT criando série a partir de um dicionário\n",
    "\n",
    "stockPricesDict = {'GOOG': 1345, 'FB': 543, 'TWTR': 125.3, 'AAPL': 420}\n",
    "\n",
    "stockPricesSer = pd.Series(stockPricesDict)\n",
    "stockPricesSer"
   ]
  },
  {
   "cell_type": "code",
   "execution_count": null,
   "metadata": {
    "collapsed": false
   },
   "outputs": [],
   "source": [
    "print(stockPricesDict) \n",
    "\n",
    "# _EN creating a series from a dictionary,\n",
    "# _EN specifying keys to be included\n",
    "# _PT criando série a partir de um dicionário, \n",
    "# _PT especificando as chaves a serem incluídas\n",
    "\n",
    "stockPricesSer = pd.Series(stockPricesDict, \n",
    "                           index=['GOOG', 'FB', 'TWTR'])\n",
    "stockPricesSer"
   ]
  },
  {
   "cell_type": "code",
   "execution_count": null,
   "metadata": {
    "collapsed": false
   },
   "outputs": [],
   "source": [
    "# _EN creating a series from dictionary with specific element names\n",
    "# _EN (completing with NaN when a specified name is not a key in the dictionary)\n",
    "# _PT criando uma série a partir de um dicionário, com nomes de elementos específicos\n",
    "# _PT (completando com NaN quando o nome especificado não for chave do dicionário)\n",
    "\n",
    "stockPricesSer = pd.Series(stockPricesDict, \n",
    "                           index=['AAPL', 'AMZN', 'FB', \n",
    "                                  'GOOG', 'TWTR'],\n",
    "                           name='stockPrices')\n",
    "stockPricesSer"
   ]
  },
  {
   "cell_type": "code",
   "execution_count": null,
   "metadata": {
    "collapsed": false
   },
   "outputs": [],
   "source": [
    "# _EN accessing a value indexed by its name\n",
    "# _PT acessando um valor indexado pelo seu nome\n",
    "\n",
    "stockPricesSer['AMZN']"
   ]
  },
  {
   "cell_type": "code",
   "execution_count": null,
   "metadata": {
    "collapsed": false
   },
   "outputs": [],
   "source": [
    "# _EN to check whether a value is NaN,\n",
    "# _EN check if it is equal to itself\n",
    "# _PT para verificar se um valor é NaN,\n",
    "# _PT verifique se é igual a ele mesmo\n",
    "\n",
    "stockPricesSer['AMZN'] == stockPricesSer['AMZN']"
   ]
  },
  {
   "cell_type": "code",
   "execution_count": null,
   "metadata": {
    "collapsed": false
   },
   "outputs": [],
   "source": [
    "# _EN to check whether a value is NaN,\n",
    "# _EN you may use np.isnan from the numpy package\n",
    "# _PT para verificar se um valor é NaN,\n",
    "# _PT pode-se usar np.isnan do pacote numpy\n",
    "\n",
    "np.isnan(stockPricesSer['AMZN'])"
   ]
  },
  {
   "cell_type": "code",
   "execution_count": null,
   "metadata": {
    "collapsed": false
   },
   "outputs": [],
   "source": [
    "print(stockPricesSer)\n",
    "\n",
    "# _EN changing a series element indexed by its key\n",
    "# _PT mudando um elemento de série indexado pela sua chave\n",
    "\n",
    "stockPricesSer['AMZN'] = 1456\n",
    "stockPricesSer"
   ]
  },
  {
   "cell_type": "code",
   "execution_count": null,
   "metadata": {
    "collapsed": false
   },
   "outputs": [],
   "source": [
    "# _EN indexing with a that doesn't belong to the series issues an error\n",
    "# _PT indexar com um elemento que não pertence à série gera erro\n",
    "\n",
    "stockPricesSer['MSFT']"
   ]
  },
  {
   "cell_type": "code",
   "execution_count": null,
   "metadata": {
    "collapsed": false
   },
   "outputs": [],
   "source": [
    "'MSFT' in stockPricesSer"
   ]
  },
  {
   "cell_type": "code",
   "execution_count": null,
   "metadata": {
    "collapsed": false
   },
   "outputs": [],
   "source": [
    "'AMZN' in stockPricesSer"
   ]
  },
  {
   "cell_type": "code",
   "execution_count": null,
   "metadata": {
    "collapsed": false
   },
   "outputs": [],
   "source": [
    "# _EN adding a new element to the series (using a new key)\n",
    "# _PT acrescentando um elemento à série (usando uma nova chave)\n",
    "\n",
    "stockPricesSer['MSFT'] = 3987\n",
    "stockPricesSer"
   ]
  },
  {
   "cell_type": "markdown",
   "metadata": {},
   "source": [
    "### _EN Operations with Series Elements\n",
    "### _PT Operações com Elementos de Série"
   ]
  },
  {
   "cell_type": "code",
   "execution_count": null,
   "metadata": {
    "collapsed": false
   },
   "outputs": [],
   "source": [
    "# _EN calculating with series elements\n",
    "# _PT fazendo cálculos com elementos de uma série\n",
    "stockPricesSer * 1.1"
   ]
  },
  {
   "cell_type": "code",
   "execution_count": null,
   "metadata": {
    "collapsed": false
   },
   "outputs": [],
   "source": [
    "# _EN we can use numpy functions with pandas series\n",
    "# _PT podemos usar funções do numpy com séries de pandas\n",
    "\n",
    "np.mean(stockPricesSer)"
   ]
  },
  {
   "cell_type": "markdown",
   "metadata": {},
   "source": [
    "### _EN Slicing a Series\n",
    "### _PT Fatiando uma Série"
   ]
  },
  {
   "cell_type": "code",
   "execution_count": null,
   "metadata": {
    "collapsed": false
   },
   "outputs": [],
   "source": [
    "print(stockPricesSer)\n",
    "\n",
    "# _EN accessing a range of elements\n",
    "# _PT acessando uma faixa de elementos\n",
    "\n",
    "stockPricesSer[1:3]"
   ]
  },
  {
   "cell_type": "code",
   "execution_count": null,
   "metadata": {
    "collapsed": false
   },
   "outputs": [],
   "source": [
    "print(stockPricesSer)\n",
    "\n",
    "# _EN accessing a range of elements\n",
    "# _PT acessando uma faixa de elementos\n",
    "\n",
    "stockPricesSer[3:-1]"
   ]
  },
  {
   "cell_type": "markdown",
   "metadata": {},
   "source": [
    "## _EN Pandas DataFrame\n",
    "## _PT DataFrame Pandas"
   ]
  },
  {
   "cell_type": "code",
   "execution_count": null,
   "metadata": {
    "collapsed": false
   },
   "outputs": [],
   "source": [
    "moviesDict = [\n",
    "    { 'title': 'Avatar', 'gross': 2787965087, 'year': 2009},\n",
    "    { 'title': 'Titanic', 'gross': 2187463944, 'year': 1997},\n",
    "    { 'title': 'Star Wars: The Force Awakens', 'gross': 2068223624, 'year': 2015},\n",
    "    { 'title': 'Jurassic World', 'gross': 1671713208, 'year': 2015},\n",
    "    { 'title': 'The Avengers', 'gross': 1518812988, 'year': 2012}\n",
    "]\n",
    "\n",
    "# _EN creating a dataframe from a dictionary\n",
    "# _PT criando um dataframe a partir de um dicionário\n",
    "\n",
    "moviesDF = pd.DataFrame(moviesDict, columns=['year', 'title', 'gross'])\n",
    "moviesDF"
   ]
  },
  {
   "cell_type": "code",
   "execution_count": null,
   "metadata": {
    "collapsed": false
   },
   "outputs": [],
   "source": [
    "# _EN dataframe dimensions (rows, columns)\n",
    "# _PT dimensões do dataframe (linhas, colunas)\n",
    "\n",
    "moviesDF.shape"
   ]
  },
  {
   "cell_type": "code",
   "execution_count": null,
   "metadata": {
    "collapsed": false
   },
   "outputs": [],
   "source": [
    "# _EN dataframe row names\n",
    "# _PT nomes das linhas do dataframe\n",
    "\n",
    "moviesDF.index"
   ]
  },
  {
   "cell_type": "code",
   "execution_count": null,
   "metadata": {
    "collapsed": false
   },
   "outputs": [],
   "source": [
    "# _EN dataframe column names\n",
    "# _PT nomes das colunas do dataframe\n",
    "\n",
    "moviesDF.columns"
   ]
  },
  {
   "cell_type": "code",
   "execution_count": null,
   "metadata": {
    "collapsed": false
   },
   "outputs": [],
   "source": [
    "# _EN dataframe column data types\n",
    "# _PT tipos de dados das colunas do dataframe\n",
    "\n",
    "moviesDF.dtypes"
   ]
  },
  {
   "cell_type": "code",
   "execution_count": null,
   "metadata": {
    "collapsed": false
   },
   "outputs": [],
   "source": [
    "# _EN basic dataframe info\n",
    "# _PT informações básicas sobre o dataframe\n",
    "\n",
    "moviesDF.info()"
   ]
  },
  {
   "cell_type": "code",
   "execution_count": null,
   "metadata": {
    "collapsed": false
   },
   "outputs": [],
   "source": [
    "# _EN some basic descriptive stats of the dataframe\n",
    "# _PT algumas estatísticas descritivas básicas do dataframe\n",
    "\n",
    "moviesDF.describe()"
   ]
  },
  {
   "cell_type": "code",
   "execution_count": null,
   "metadata": {
    "collapsed": false
   },
   "outputs": [],
   "source": [
    "# _EN dataframe column values\n",
    "# _PT valores de uma coluna do dataframe\n",
    "\n",
    "moviesDF['title']"
   ]
  },
  {
   "cell_type": "code",
   "execution_count": null,
   "metadata": {
    "collapsed": false
   },
   "outputs": [],
   "source": [
    "moviesDF.title"
   ]
  },
  {
   "cell_type": "markdown",
   "metadata": {},
   "source": [
    "### _EN Adding and removing columns\n",
    "### _PT Acrescentando e removendo colunas"
   ]
  },
  {
   "cell_type": "code",
   "execution_count": null,
   "metadata": {
    "collapsed": false
   },
   "outputs": [],
   "source": [
    "# _EN inserting a column in a dataframe, in a specific position\n",
    "# _PT inserindo uma coluna no dataframe, numa posição específica\n",
    "\n",
    "moviesDF.insert(2, 'director',\n",
    "                ['James Cameron', 'James Cameron', 'J. J. Abrams', \n",
    "                 'Colin Trevorrow', 'Joss Whedom'])\n",
    "moviesDF"
   ]
  },
  {
   "cell_type": "code",
   "execution_count": null,
   "metadata": {
    "collapsed": false
   },
   "outputs": [],
   "source": [
    "# _EN extracting a column of a dataframe\n",
    "# _PT extraindo uma coluna de um dataframe\n",
    "\n",
    "directors = moviesDF.pop('director')\n",
    "directors"
   ]
  },
  {
   "cell_type": "code",
   "execution_count": null,
   "metadata": {
    "collapsed": false
   },
   "outputs": [],
   "source": [
    "# _EN the popped column is removed from the dataframe\n",
    "# _PT a coluna utilizada no pop() é removida do dataframe\n",
    "\n",
    "moviesDF"
   ]
  },
  {
   "cell_type": "markdown",
   "metadata": {},
   "source": [
    "### _EN Filtering dataframe rows\n",
    "### _PT Filtrando linhas de um dataframe"
   ]
  },
  {
   "cell_type": "code",
   "execution_count": null,
   "metadata": {
    "collapsed": false
   },
   "outputs": [],
   "source": [
    "# _EN evaluating a logical expression for every element in a column\n",
    "# _PT avaliando uma expressão lógica para cada elemento em uma coluna\n",
    "\n",
    "moviesDF['year'] > 2010"
   ]
  },
  {
   "cell_type": "code",
   "execution_count": null,
   "metadata": {
    "collapsed": false
   },
   "outputs": [],
   "source": [
    "# _EN filtering rows of a dataframe using a logical expression as a mask\n",
    "# _PT filtrando linhas de um dataframe usando uma expressão lógica como máscara\n",
    "\n",
    "moviesDF[moviesDF['year'] > 2010]"
   ]
  },
  {
   "cell_type": "code",
   "execution_count": null,
   "metadata": {
    "collapsed": false
   },
   "outputs": [],
   "source": [
    "# _EN filtering rows of a dataframe using a list of values\n",
    "# _PT filtrando linhas de um dataframe usando uma lista de valores\n",
    "\n",
    "moviesDF[moviesDF.year.isin([2009, 2015])]"
   ]
  },
  {
   "cell_type": "code",
   "execution_count": null,
   "metadata": {
    "collapsed": false
   },
   "outputs": [],
   "source": [
    "# _EN filtering rows of a dataframe using where\n",
    "# _PT filtrando linhas de um dataframe usando where\n",
    "\n",
    "moviesDF.where(moviesDF.year.isin([2009, 2015]))"
   ]
  },
  {
   "cell_type": "markdown",
   "metadata": {},
   "source": [
    "## _EN Reading dataframe from local CSV file\n",
    "## _PT Lendo dataframe de um arquivo CSV local"
   ]
  },
  {
   "cell_type": "code",
   "execution_count": null,
   "metadata": {
    "collapsed": true
   },
   "outputs": [],
   "source": [
    "## _EN reading local CSV file into a pandas dataframe\n",
    "## _PT lendo arquivo CSV local para um dataframe pandas\n",
    "\n",
    "gdpRaw = pd.read_csv('in.data/us_gdp_1947_2017.csv')"
   ]
  },
  {
   "cell_type": "code",
   "execution_count": null,
   "metadata": {
    "collapsed": false
   },
   "outputs": [],
   "source": [
    "## _EN If loading the file takes a lot of time, it may be useful to work on a copy\n",
    "## _PT Se carregar o arquivo leva muito tempo, pode ser útil trabalhar em uma cópia\n",
    "gdp = gdpRaw\n",
    "gdp.shape"
   ]
  },
  {
   "cell_type": "code",
   "execution_count": null,
   "metadata": {
    "collapsed": false
   },
   "outputs": [],
   "source": [
    "# _EN examine first 5 rows of dataframe\n",
    "# _PT examine as 5 primeiras linhas do dataframe\n",
    "\n",
    "gdp.head()"
   ]
  },
  {
   "cell_type": "code",
   "execution_count": null,
   "metadata": {
    "collapsed": false
   },
   "outputs": [],
   "source": [
    "# _EN examine last 5 rows of dataframe\n",
    "# _PT examine as 5 últimas linhas do dataframe\n",
    "\n",
    "gdp.tail()"
   ]
  },
  {
   "cell_type": "markdown",
   "metadata": {},
   "source": [
    "Antes de examinar os valores de um dataframe, é bom conferir os nomes das colunas."
   ]
  },
  {
   "cell_type": "code",
   "execution_count": null,
   "metadata": {
    "collapsed": false
   },
   "outputs": [],
   "source": [
    "# _EN column values (w ERROR)\n",
    "# _PT valores de uma coluna (com ERRO)\n",
    "\n",
    "gdp['Value']"
   ]
  },
  {
   "cell_type": "code",
   "execution_count": null,
   "metadata": {
    "collapsed": false
   },
   "outputs": [],
   "source": [
    "gdp.columns"
   ]
  },
  {
   "cell_type": "code",
   "execution_count": null,
   "metadata": {
    "collapsed": false
   },
   "outputs": [],
   "source": [
    "## _EN renaming a column using a dictionary\n",
    "## _PT alterando o nome de uma coluna usando um dicionário\n",
    "\n",
    "gdp.rename(columns = {'Date': 'date', 'Value ': 'value'}, inplace=True)\n",
    "gdp.head()"
   ]
  },
  {
   "cell_type": "code",
   "execution_count": null,
   "metadata": {
    "collapsed": false
   },
   "outputs": [],
   "source": [
    "## _EN renaming a column using a list\n",
    "## _PT alterando o nome de uma coluna usando uma lista\n",
    "\n",
    "gdp.columns = ['data', 'valor']\n",
    "gdp.head()"
   ]
  },
  {
   "cell_type": "code",
   "execution_count": null,
   "metadata": {
    "collapsed": false
   },
   "outputs": [],
   "source": [
    "# _EN column values\n",
    "# _PT valores de uma coluna\n",
    "\n",
    "gdp['valor'].head()"
   ]
  },
  {
   "cell_type": "code",
   "execution_count": null,
   "metadata": {
    "collapsed": false
   },
   "outputs": [],
   "source": [
    "# _EN column values using dot operator\n",
    "# _PT valores de uma coluna usando ponto\n",
    "\n",
    "gdp.valor.head()"
   ]
  },
  {
   "cell_type": "markdown",
   "metadata": {},
   "source": [
    "### _EN Adjusting data types\n",
    "### _PT Ajustando os tipos de dados"
   ]
  },
  {
   "cell_type": "code",
   "execution_count": null,
   "metadata": {
    "collapsed": false
   },
   "outputs": [],
   "source": [
    "## _EN dataframe columns' data types\n",
    "## _PT tipos de dados das colunas de um dataframe\n",
    "\n",
    "gdp.dtypes"
   ]
  },
  {
   "cell_type": "code",
   "execution_count": null,
   "metadata": {
    "collapsed": false
   },
   "outputs": [],
   "source": [
    "## _EN converting a column's  data types to datetime\n",
    "## _PT convertendo os tipos de dados de uma coluna para datetime\n",
    "\n",
    "gdp.data = pd.to_datetime(gdp.data)\n",
    "gdp.data.head()"
   ]
  },
  {
   "cell_type": "code",
   "execution_count": null,
   "metadata": {
    "collapsed": false
   },
   "outputs": [],
   "source": [
    "## _EN converting a column's  data types to numeric (w ERROR)\n",
    "## _PT convertendo os tipos de dados de uma coluna para numérico (com ERRO)\n",
    "\n",
    "pd.to_numeric(gdp.valor).head()"
   ]
  },
  {
   "cell_type": "markdown",
   "metadata": {},
   "source": [
    "_EN What caused the error?\n",
    "\n",
    "_PT Por que deu erro?"
   ]
  },
  {
   "cell_type": "code",
   "execution_count": null,
   "metadata": {
    "collapsed": false
   },
   "outputs": [],
   "source": [
    "## _EN examining values\n",
    "## _PT examinando valores\n",
    "\n",
    "gdp.valor.head()"
   ]
  },
  {
   "cell_type": "code",
   "execution_count": null,
   "metadata": {
    "collapsed": false
   },
   "outputs": [],
   "source": [
    "## _EN replacing text in a dataframe column\n",
    "## _PT substituindo texto em uma coluna de dataframe\n",
    "\n",
    "import re\n",
    "\n",
    "def stripComma (a):\n",
    "    return re.sub(r',', '', str(a))\n",
    "\n",
    "gdp.valor = gdp.valor.apply(stripComma)\n",
    "print(gdp.valor.dtype)\n",
    "gdp.head()"
   ]
  },
  {
   "cell_type": "code",
   "execution_count": null,
   "metadata": {
    "collapsed": false
   },
   "outputs": [],
   "source": [
    "gdp.dtypes"
   ]
  },
  {
   "cell_type": "code",
   "execution_count": null,
   "metadata": {
    "collapsed": false
   },
   "outputs": [],
   "source": [
    "## _EN converting a column's  data types to float\n",
    "## _PT convertendo os tipos de dados de uma coluna para float\n",
    "\n",
    "gdp.valor = gdp.valor.astype(float)\n",
    "print(gdp.valor.dtype)\n",
    "gdp.head()"
   ]
  },
  {
   "cell_type": "markdown",
   "metadata": {},
   "source": [
    "### _EN Slicing a Dataframe\n",
    "### _PT Fatiando um Dataframe"
   ]
  },
  {
   "cell_type": "code",
   "execution_count": null,
   "metadata": {
    "collapsed": false
   },
   "outputs": [],
   "source": [
    "# _EN range of rows\n",
    "# _PT faixa de linhas\n",
    "\n",
    "gdp[0:2]"
   ]
  },
  {
   "cell_type": "code",
   "execution_count": null,
   "metadata": {
    "collapsed": false
   },
   "outputs": [],
   "source": [
    "# _EN rows from 10 to 10, starting in the second row\n",
    "# _PT linhas de 10 em 10, começando na segunda linha\n",
    "\n",
    "gdp[1::10]"
   ]
  },
  {
   "cell_type": "markdown",
   "metadata": {},
   "source": [
    "### _EN Operations on a columns\n",
    "### _PT Operações sobre uma coluna"
   ]
  },
  {
   "cell_type": "code",
   "execution_count": null,
   "metadata": {
    "collapsed": false
   },
   "outputs": [],
   "source": [
    "## _EN basic stats of a column\n",
    "## _PT estatísticas básicas de uma coluna\n",
    "\n",
    "gdp.valor.describe()"
   ]
  },
  {
   "cell_type": "code",
   "execution_count": null,
   "metadata": {
    "collapsed": false
   },
   "outputs": [],
   "source": [
    "## _EN obtain specific stats of a column\n",
    "## _PT obtando estatísticas específicas de uma coluna\n",
    "\n",
    "gdp.valor.describe()['mean']"
   ]
  },
  {
   "cell_type": "code",
   "execution_count": null,
   "metadata": {
    "collapsed": false,
    "scrolled": false
   },
   "outputs": [],
   "source": [
    "## _EN calculating the mean of a column's values\n",
    "## _PT calculando a média dos valores de uma coluna\n",
    "\n",
    "np.mean(gdp.valor)"
   ]
  },
  {
   "cell_type": "markdown",
   "metadata": {},
   "source": [
    "# _EN Example - PIB Brasil (Censo 2010)\n",
    "# _PT Exemplo - PIB Brasil (Censo 2010)"
   ]
  },
  {
   "cell_type": "markdown",
   "metadata": {},
   "source": [
    "### _EN Reading dataframe from remote CSV file\n",
    "### _PT Lendo dataframe de um arquivo CSV remoto"
   ]
  },
  {
   "cell_type": "code",
   "execution_count": null,
   "metadata": {
    "collapsed": true,
    "scrolled": false
   },
   "outputs": [],
   "source": [
    "## _EN reading remote CSV file into a pandas dataframe (w ERROR)\n",
    "## _PT lendo arquivo CSV remoto para um dataframe pandas (com ERRO)\n",
    "\n",
    "pib = pd.read_csv('http://www.geoservicos.ibge.gov.br/geoserver/wms?service=WFS&version=1.0.0&request=GetFeature&typeName=CGEO:vw_pib_percapita&outputFormat=CSV')"
   ]
  },
  {
   "cell_type": "code",
   "execution_count": null,
   "metadata": {
    "collapsed": true
   },
   "outputs": [],
   "source": [
    "## _EN reading remote CSV file into a pandas dataframe (with latin1 encoding)\n",
    "## _PT lendo arquivo CSV remoto para um dataframe pandas (com encoding latin1)\n",
    "\n",
    "pibRaw = pd.read_csv('http://www.geoservicos.ibge.gov.br/geoserver/wms?service=WFS&version=1.0.0&request=GetFeature&typeName=CGEO:vw_pib_percapita&outputFormat=CSV',\n",
    "                   encoding='latin1')"
   ]
  },
  {
   "cell_type": "code",
   "execution_count": null,
   "metadata": {
    "collapsed": false
   },
   "outputs": [],
   "source": [
    "## _EN dataframe dimensions (rows, columns)\n",
    "## _PT dimensões do dataframe (linhas, colunas)\n",
    "\n",
    "pibRaw.shape"
   ]
  },
  {
   "cell_type": "code",
   "execution_count": null,
   "metadata": {
    "collapsed": false
   },
   "outputs": [],
   "source": [
    "## _EN dataframe columns\n",
    "## _PT colunas do dataframe\n",
    "\n",
    "pibRaw.columns"
   ]
  },
  {
   "cell_type": "code",
   "execution_count": null,
   "metadata": {
    "collapsed": false
   },
   "outputs": [],
   "source": [
    "## _EN copy dataframe (specific columns, in the specified order)\n",
    "## _PT copia dataframe (colunas específicas, na ordem especificada)\n",
    "\n",
    "pib = pibRaw[['UF', 'nome', 'PIB_percapita', 'Pop_est_2009', 'Censo']]\n",
    "pib.head()"
   ]
  },
  {
   "cell_type": "code",
   "execution_count": null,
   "metadata": {
    "collapsed": false
   },
   "outputs": [],
   "source": [
    "## _EN create list of unique UF values\n",
    "## _PT cria lista com valores de UF únicos\n",
    "\n",
    "ufs = sorted(list(set(pib.UF)))\n",
    "ufs"
   ]
  },
  {
   "cell_type": "code",
   "execution_count": null,
   "metadata": {
    "collapsed": false
   },
   "outputs": [],
   "source": [
    "regiaoUF = pd.read_csv('in.data/uf_regiao.csv')\n",
    "display(regiaoUF.head())"
   ]
  },
  {
   "cell_type": "code",
   "execution_count": null,
   "metadata": {
    "collapsed": false
   },
   "outputs": [],
   "source": [
    "print(pib.columns)\n",
    "print(regiaoUF.columns)\n",
    "\n",
    "## _EN merge two dataframes according to shared columns\n",
    "## _EN (in this case, UF)\n",
    "## _PT junta dois dataframes conforme colunas compartilhadas\n",
    "## _PT (neste caso, UF)\n",
    "\n",
    "pib = pd.merge(pib, regiaoUF)\n",
    "pib.head()"
   ]
  },
  {
   "cell_type": "code",
   "execution_count": null,
   "metadata": {
    "collapsed": false
   },
   "outputs": [],
   "source": [
    "## _EN get unique values (set) of Censo values\n",
    "## _PT obtém valores únicos (conjunto) de valores de Censo\n",
    "\n",
    "set(pib.Censo)"
   ]
  },
  {
   "cell_type": "code",
   "execution_count": null,
   "metadata": {
    "collapsed": false
   },
   "outputs": [],
   "source": [
    "## _EN How many rows with NaN values are there?\n",
    "## _PT Quantas linhas contêm valores NaN?\n",
    "\n",
    "print(pib[pib.Censo.isnull()].shape)"
   ]
  },
  {
   "cell_type": "code",
   "execution_count": null,
   "metadata": {
    "collapsed": false
   },
   "outputs": [],
   "source": [
    "## _EN examine NaN values\n",
    "## _PT examina valores nulos\n",
    "\n",
    "pib[pib.Censo.isnull()]"
   ]
  },
  {
   "cell_type": "code",
   "execution_count": null,
   "metadata": {
    "collapsed": false
   },
   "outputs": [],
   "source": [
    "## _EN examine NaN values (using np.isnan)\n",
    "## _PT examina valores nulos (usando np.isnan)\n",
    "\n",
    "pib[np.isnan(pib.Censo)]"
   ]
  },
  {
   "cell_type": "code",
   "execution_count": null,
   "metadata": {
    "collapsed": false
   },
   "outputs": [],
   "source": [
    "## _EN How many rows with non null values?\n",
    "## _PT Quantas linhas com valores não nulos?\n",
    "\n",
    "## _EN Using isnull\n",
    "## _PT Usando isnull\n",
    "\n",
    "print(pib[pib.Censo.isnull() == False].shape)\n",
    "\n",
    "## _EN Using np.isnan\n",
    "## _PT Usando np.isnan\n",
    "\n",
    "print(pib[np.isnan(pib.Censo) == False].shape)"
   ]
  },
  {
   "cell_type": "code",
   "execution_count": null,
   "metadata": {
    "collapsed": false
   },
   "outputs": [],
   "source": [
    "## _EN Filtering dataframe to include only rows with non-null values\n",
    "## _PT Filtrando um dataframe para incluir apenas linhas com valores não nulos\n",
    "\n",
    "pib = pib[np.isnan(pib.Censo) == False]\n",
    "pib.shape"
   ]
  },
  {
   "cell_type": "code",
   "execution_count": null,
   "metadata": {
    "collapsed": false
   },
   "outputs": [],
   "source": [
    "## _EN Check that Censo NaN values were removed\n",
    "## _PT Verifica que os valores NaN do Censo foram removidos\n",
    "\n",
    "set(pib.Censo)"
   ]
  },
  {
   "cell_type": "code",
   "execution_count": null,
   "metadata": {
    "collapsed": false
   },
   "outputs": [],
   "source": [
    "pib.Censo = pib.Censo.apply(int)\n",
    "pib.head()"
   ]
  },
  {
   "cell_type": "code",
   "execution_count": null,
   "metadata": {
    "collapsed": false
   },
   "outputs": [],
   "source": [
    "## _EN How many data points from 2007?\n",
    "## _PT Quantos dados são de 2007?\n",
    "\n",
    "pib[pib.Censo == 2007].shape"
   ]
  },
  {
   "cell_type": "code",
   "execution_count": null,
   "metadata": {
    "collapsed": false
   },
   "outputs": [],
   "source": [
    "## _EN As there are few, we can examine them all\n",
    "## _PT Como são poucos, podemos ver todos\n",
    "\n",
    "pib[pib.Censo == 2007]"
   ]
  },
  {
   "cell_type": "markdown",
   "metadata": {},
   "source": [
    "_EN Why are there so few data points from 2007?\n",
    "_EN Hypothesis: Maybe they couldn't collect data in 2010 from those places.\n",
    "\n",
    "_PT Por que há tão poucos dados de 2007?\n",
    "_PT Hipótese: Talvez não tenham conseguido coletar dados desses locais em 2010."
   ]
  },
  {
   "cell_type": "code",
   "execution_count": null,
   "metadata": {
    "collapsed": false,
    "scrolled": false
   },
   "outputs": [],
   "source": [
    "## _EN check whether there are also 2010 values for these cities\n",
    "## _PT verifica se também há dados de 2010 para esses municípios\n",
    "\n",
    "## _EN create list of cities with 2007 data\n",
    "## _PT cria lista de cidades com dados de 2007\n",
    "\n",
    "cit = list(pib[pib.Censo == 2007].nome)\n",
    "print(cit)\n",
    "\n",
    "## _EN subset dataframe with data about those cities\n",
    "## _PT obtém fração do dataframe com dados dessas cidades\n",
    "pib_cit = pib[pib.nome.isin(cit)]\n",
    "\n",
    "## _EN examine size of resulting dataframe and of 2010 data\n",
    "## _PT examina tamanho do dataframe resultante e dos dados de 2010\n",
    "print(pib_cit.shape)\n",
    "print(pib_cit[pib_cit.Censo == 2010].shape)\n",
    "\n",
    "\n",
    "## _EN examine resulting dataframe\n",
    "## _PT examina dataframe resultante\n",
    "pib_cit"
   ]
  },
  {
   "cell_type": "markdown",
   "metadata": {},
   "source": [
    "### _EN Multi-index\n",
    "### _PT Multi-índice"
   ]
  },
  {
   "cell_type": "code",
   "execution_count": null,
   "metadata": {
    "collapsed": false
   },
   "outputs": [],
   "source": [
    "# _EN select columns to use as index\n",
    "# _PT seleciona colunas para utilizar como índice\n",
    "pibmi = pib.set_index(['regiao', 'UF', 'nome'])\n",
    "\n",
    "# _EN define index order\n",
    "# _PT define ordenação dos índices\n",
    "pibmi = pibmi.sort_index(level=['regiao','UF', 'nome'])\n",
    "\n",
    "pibmi.head()"
   ]
  },
  {
   "cell_type": "code",
   "execution_count": null,
   "metadata": {
    "collapsed": false
   },
   "outputs": [],
   "source": [
    "## _EN How many cities are there in the SE region?\n",
    "## _PT Quantas cidades há na região SE?\n",
    "\n",
    "pibmi.loc['SE'].shape"
   ]
  },
  {
   "cell_type": "markdown",
   "metadata": {},
   "source": [
    "### _EN Filtering dataframe rows\n",
    "### _PT Filtrando linhas de um dataframe"
   ]
  },
  {
   "cell_type": "code",
   "execution_count": null,
   "metadata": {
    "collapsed": false
   },
   "outputs": [],
   "source": [
    "## _EN Which cities have the highest GDP per capita?\n",
    "## _PT Quais cidades têm o maior PIB per capita?\n",
    "\n",
    "pibmi[pibmi.PIB_percapita >= 100000]"
   ]
  },
  {
   "cell_type": "code",
   "execution_count": null,
   "metadata": {
    "collapsed": false
   },
   "outputs": [],
   "source": [
    "## _EN Which cities have the lowest GDP per capita?\n",
    "## _PT Quais cidades têm o menor PIB per capita?\n",
    "\n",
    "pibmi[pibmi.PIB_percapita < 2500]"
   ]
  },
  {
   "cell_type": "markdown",
   "metadata": {},
   "source": [
    "### _EN Using multi-indices to access data\n",
    "### _PT Usando multi-índices para acessar dados"
   ]
  },
  {
   "cell_type": "code",
   "execution_count": null,
   "metadata": {
    "collapsed": false
   },
   "outputs": [],
   "source": [
    "# _EN Acessing dataframe rows through indices\n",
    "# _PT Acessando linhas do dataframe por índices\n",
    "\n",
    "pibmi.loc[['NE','CO']]"
   ]
  },
  {
   "cell_type": "code",
   "execution_count": null,
   "metadata": {
    "collapsed": false
   },
   "outputs": [],
   "source": [
    "# _EN Acessing dataframe rows and columns through indices and column names\n",
    "# _PT Acessando linhas e colunas do dataframe por índices\n",
    "\n",
    "sum(pibmi.loc[['SE']]['PIB_percapita'])"
   ]
  },
  {
   "cell_type": "markdown",
   "metadata": {},
   "source": [
    "## _EN Acessing through row and column ranges\n",
    "## _PT Acessando por faixas de linhas e colunas"
   ]
  },
  {
   "cell_type": "code",
   "execution_count": null,
   "metadata": {
    "collapsed": false
   },
   "outputs": [],
   "source": [
    "# _EN last 10 rows, first 2 columns\n",
    "# _PT últimas 10 linhas, primeiras 2 colunas\n",
    "\n",
    "pibmi.iloc[-10:, :2]"
   ]
  },
  {
   "cell_type": "markdown",
   "metadata": {},
   "source": [
    "### _EN Cross sections\n",
    "### _PT Seccionamentos (Cortes)"
   ]
  },
  {
   "cell_type": "code",
   "execution_count": null,
   "metadata": {
    "collapsed": false
   },
   "outputs": [],
   "source": [
    "# _EN getting a fraction of a dataframe using an intermediate index\n",
    "# _PT obtendo uma fração de dataframe usando um dos índicoes\n",
    "\n",
    "gdpRJ = pibmi.xs('RIO DE JANEIRO', level='UF')\n",
    "print(gdpRJ.shape)\n",
    "gdpRJ.head()"
   ]
  },
  {
   "cell_type": "code",
   "execution_count": null,
   "metadata": {
    "collapsed": false
   },
   "outputs": [],
   "source": [
    "# _EN getting a fraction of a dataframe using an intermediate index\n",
    "# _PT obtendo uma fração de dataframe usando um dos índicoes\n",
    "\n",
    "pibmi.xs('Rio Claro', level='nome')"
   ]
  },
  {
   "cell_type": "markdown",
   "metadata": {},
   "source": [
    "### _EN Transforming indices into columns\n",
    "### _PT Transformando índices em colunas"
   ]
  },
  {
   "cell_type": "code",
   "execution_count": null,
   "metadata": {
    "collapsed": false
   },
   "outputs": [],
   "source": [
    "# _EN transform all indices to columns\n",
    "# _PT transforma todos os índices em colunas\n",
    "\n",
    "pibmi.reset_index().head() # transform indices into columns"
   ]
  },
  {
   "cell_type": "markdown",
   "metadata": {},
   "source": [
    "_EN Back to the original dataframe, without multi-index\n",
    "\n",
    "_PT De volta ao dataframe anterior, sem multi-índice"
   ]
  },
  {
   "cell_type": "code",
   "execution_count": null,
   "metadata": {
    "collapsed": false
   },
   "outputs": [],
   "source": [
    "pib.head()"
   ]
  },
  {
   "cell_type": "code",
   "execution_count": null,
   "metadata": {
    "collapsed": false
   },
   "outputs": [],
   "source": [
    "# _EN group by a column\n",
    "# _PT agrupa por uma coluna\n",
    "\n",
    "pib_pib_grp_UF = pib[['UF','PIB_percapita']].groupby('UF')\n",
    "pib_pib_grp_UF"
   ]
  },
  {
   "cell_type": "code",
   "execution_count": null,
   "metadata": {
    "collapsed": false,
    "scrolled": true
   },
   "outputs": [],
   "source": [
    "# _EN examine the grouping\n",
    "# _PT examina o agrupamento\n",
    "\n",
    "print(len(pib_pib_grp_UF.groups))\n",
    "pib_pib_grp_UF.groups"
   ]
  },
  {
   "cell_type": "code",
   "execution_count": null,
   "metadata": {
    "collapsed": false
   },
   "outputs": [],
   "source": [
    "# _EN number of cities per state\n",
    "# _PT número de cidades por estado\n",
    "\n",
    "pib_pib_grp_UF.size().sort_values(ascending = False)"
   ]
  },
  {
   "cell_type": "markdown",
   "metadata": {},
   "source": [
    "### _EN Aggregating columns\n",
    "### _PT Agregando colunas"
   ]
  },
  {
   "cell_type": "markdown",
   "metadata": {},
   "source": [
    "_EN Goal: create a dataframe with median PIB_percapita and sum of population of each state\n",
    "\n",
    "_PT Objetivo: criar um dataframe com mediana de PIB_percapita e soma da população de cada estado"
   ]
  },
  {
   "cell_type": "code",
   "execution_count": null,
   "metadata": {
    "collapsed": false
   },
   "outputs": [],
   "source": [
    "# _EN mean of the column values, by UF\n",
    "# _PT média dos valores das colunas, por UF\n",
    "\n",
    "pib_pib_grp_UF.mean().head()"
   ]
  },
  {
   "cell_type": "code",
   "execution_count": null,
   "metadata": {
    "collapsed": false
   },
   "outputs": [],
   "source": [
    "# _EN calculate the median PIB\n",
    "# _PT calcula a mediana do PIB\n",
    "\n",
    "pib_mediana_pib_UF = pib_pib_grp_UF.aggregate(np.median)\n",
    "pib_mediana_pib_UF.columns=['median_PIB_percapita']\n",
    "pib_mediana_pib_UF.head()"
   ]
  },
  {
   "cell_type": "code",
   "execution_count": null,
   "metadata": {
    "collapsed": false
   },
   "outputs": [],
   "source": [
    "# _EN calculate the total population of each UF\n",
    "# _PT calcula o total da população de cada UF\n",
    "\n",
    "pib_pop_grp_UF = pib[['UF','Pop_est_2009']].groupby('UF')\n",
    "pip_soma_pop_UF = pib_pop_grp_UF.aggregate(np.sum)\n",
    "pip_soma_pop_UF.columns=['total_state_pop_2009']\n",
    "pip_soma_pop_UF.head()"
   ]
  },
  {
   "cell_type": "code",
   "execution_count": null,
   "metadata": {
    "collapsed": false
   },
   "outputs": [],
   "source": [
    "# _EN join the two dataframes (median PIB per capita and total population)\n",
    "# _PT junta os dois dataframes (mediana do PIB e total da população)\n",
    "\n",
    "pib_agg = pib_mediana_pib_UF.join(pip_soma_pop_UF)\n",
    "pib_agg.head()"
   ]
  },
  {
   "cell_type": "markdown",
   "metadata": {},
   "source": [
    "### _EN Aggregating with multiple functions\n",
    "### _PT Agregando com múltiplas funções"
   ]
  },
  {
   "cell_type": "code",
   "execution_count": null,
   "metadata": {
    "collapsed": false,
    "scrolled": true
   },
   "outputs": [],
   "source": [
    "# _EN aggregate a grouped dataframe using multiple functions\n",
    "# _PT agrega um dataframe agrupado usando múltiplas funções\n",
    "\n",
    "pib_pib_grp_UF.aggregate([np.min, np.median, np.mean, np.max, np.std]).head()"
   ]
  },
  {
   "cell_type": "markdown",
   "metadata": {},
   "source": [
    "# Example - Premier League Season 2016_2017"
   ]
  },
  {
   "cell_type": "code",
   "execution_count": null,
   "metadata": {
    "collapsed": false
   },
   "outputs": [],
   "source": [
    "# _EN read CSV file from the Web\n",
    "# _PT lê arquivo CSV da Web\n",
    "\n",
    "premierLeague2016_2017Raw = pd.read_csv('http://www.football-data.co.uk/mmz4281/1617/E0.csv')\n",
    "\n",
    "# _EN check the dataframe dimensions\n",
    "# _PT verifica as dimensões do dataframe\n",
    "\n",
    "premierLeague2016_2017Raw.shape"
   ]
  },
  {
   "cell_type": "code",
   "execution_count": null,
   "metadata": {
    "collapsed": false,
    "scrolled": true
   },
   "outputs": [],
   "source": [
    "# _EN examine first few rows\n",
    "# _PT examina as primeiras linhas\n",
    "\n",
    "premierLeague2016_2017Raw.head()"
   ]
  },
  {
   "cell_type": "code",
   "execution_count": null,
   "metadata": {
    "collapsed": false
   },
   "outputs": [],
   "source": [
    "# _EN create a dataframe with selected columns\n",
    "# _PT cria um dataframe com colunas selecionadas\n",
    "\n",
    "pl = premierLeague2016_2017Raw.loc[ : , 'Date':'FTR']\n",
    "pl.head()"
   ]
  },
  {
   "cell_type": "code",
   "execution_count": null,
   "metadata": {
    "collapsed": false
   },
   "outputs": [],
   "source": [
    "# _EN examine the column data types\n",
    "# _PT examina os tipos de dados das colunas\n",
    "\n",
    "pl.dtypes"
   ]
  },
  {
   "cell_type": "code",
   "execution_count": null,
   "metadata": {
    "collapsed": false
   },
   "outputs": [],
   "source": [
    "# _EN convert dates to datetime\n",
    "# _PT converte as datas para datetime\n",
    "\n",
    "pl.Date = pd.to_datetime(pl.Date)\n",
    "pl.Date.head()"
   ]
  },
  {
   "cell_type": "code",
   "execution_count": null,
   "metadata": {
    "collapsed": false
   },
   "outputs": [],
   "source": [
    "pl.Date.tail()"
   ]
  },
  {
   "cell_type": "code",
   "execution_count": null,
   "metadata": {
    "collapsed": false
   },
   "outputs": [],
   "source": [
    "# _EN How many matches?\n",
    "# _PT Quantas partidas?\n",
    "\n",
    "pl.shape[0]"
   ]
  },
  {
   "cell_type": "code",
   "execution_count": null,
   "metadata": {
    "collapsed": false
   },
   "outputs": [],
   "source": [
    "# _EN How many teams?\n",
    "# _PT Quantos times?\n",
    "\n",
    "allTeams = list(set(pl['HomeTeam'].append(pl['AwayTeam'])))\n",
    "print(len(allTeams))\n",
    "sorted(allTeams)[0:5]"
   ]
  },
  {
   "cell_type": "code",
   "execution_count": null,
   "metadata": {
    "collapsed": false
   },
   "outputs": [],
   "source": [
    "# _EN How long (in days) is the championship?\n",
    "# _PT Quantos dias dura o campeonato?\n",
    "\n",
    "duracaoErro = max(pl['Date']) - min(pl['Date'])\n",
    "print(duracaoErro)\n",
    "print(duracaoErro.days)\n",
    "print('certo')\n",
    "pl.Date.iloc[-1]-pl.Date.iloc[0]"
   ]
  },
  {
   "cell_type": "code",
   "execution_count": null,
   "metadata": {
    "collapsed": false
   },
   "outputs": [],
   "source": [
    "# _EN create a sequential number for the match\n",
    "# _PT cria um número sequencial para partidas\n",
    "\n",
    "pl['Match'] = range(1, pl.shape[0]+1)\n",
    "\n",
    "# _EN create column with winner's name, if any\n",
    "# _PT cria coluna com o nome do vencedor, se houver\n",
    "\n",
    "pl['Winner']= ''\n",
    "pl['Winner'] = pl.apply(\n",
    "    lambda row: row['HomeTeam'] if row['FTR'] == 'H' else row['Winner'], axis=1\n",
    ")\n",
    "pl['Winner'] = pl.apply(\n",
    "    lambda row: row['AwayTeam'] if row['FTR'] == 'A' else row['Winner'], axis=1\n",
    ")\n",
    "\n",
    "# _EN create column with goal difference\n",
    "# _PT cria coluna com saldo de gols\n",
    "\n",
    "pl['GoalDiff'] = abs(pl['FTHG']-pl['FTAG'])\n",
    "\n",
    "pl.head()"
   ]
  },
  {
   "cell_type": "code",
   "execution_count": null,
   "metadata": {
    "collapsed": false
   },
   "outputs": [],
   "source": [
    "# _EN sort rows in descending order by goal difference and ascending order by winner's name\n",
    "# _PT ordena linhas por saldo de gols (maior para o menor) e nome do vencedor (em ordem alfabética)\n",
    "\n",
    "pl.sort_values(['GoalDiff','Winner'], ascending=[False,True]).head()"
   ]
  },
  {
   "cell_type": "code",
   "execution_count": null,
   "metadata": {
    "collapsed": false,
    "scrolled": true
   },
   "outputs": [],
   "source": [
    "# _EN group by winner\n",
    "# _PT agrupa por vencedor\n",
    "\n",
    "plWinners = pl.groupby(['Winner'])\n",
    "plWinners.groups"
   ]
  },
  {
   "cell_type": "code",
   "execution_count": null,
   "metadata": {
    "collapsed": false
   },
   "outputs": [],
   "source": [
    "# _EN How many victories per team? Which team had the most victories?\n",
    "# _PT Quantas vitórias por time? Qual time teve mais vitórias?\n",
    "\n",
    "victoryCount = plWinners.size().sort_values(ascending = False)\n",
    "victoryCount"
   ]
  },
  {
   "cell_type": "code",
   "execution_count": null,
   "metadata": {
    "collapsed": false
   },
   "outputs": [],
   "source": [
    "# _EN create a dataframe with victory count\n",
    "# _PT cria um dataframe com contagem de vitórias\n",
    "\n",
    "plWin = pd.DataFrame(victoryCount, columns=['victories'])\n",
    "plWin.head()"
   ]
  },
  {
   "cell_type": "code",
   "execution_count": null,
   "metadata": {
    "collapsed": false
   },
   "outputs": [],
   "source": [
    "# _EN calculate goal differences stats for each team\n",
    "# _PT calcula estatísticas de saldo de gols para cada time\n",
    "\n",
    "plWinners[['GoalDiff']].aggregate([np.min, np.median, np.mean, np.max])"
   ]
  },
  {
   "cell_type": "markdown",
   "metadata": {},
   "source": [
    "### Melt"
   ]
  },
  {
   "cell_type": "code",
   "execution_count": null,
   "metadata": {
    "collapsed": false,
    "scrolled": false
   },
   "outputs": [],
   "source": [
    "# _EN melt dataframe to long format\n",
    "# _PT remodela dataframe para formato \"longo\"\n",
    "\n",
    "plLong = pd.melt(pl, id_vars=['Match','Date','HomeTeam', 'AwayTeam', 'Winner'], \n",
    "            value_vars=['FTHG', 'FTAG'], var_name='GoalPlace', value_name='GoalNum')\n",
    "plLong.sort_values(['Match']).head()"
   ]
  },
  {
   "cell_type": "code",
   "execution_count": null,
   "metadata": {
    "collapsed": false
   },
   "outputs": [],
   "source": [
    "# _EN rename columns\n",
    "# _PT altera nomes de colunas\n",
    "\n",
    "plLong.columns = ['Match', 'Date', 'Home', 'Away', 'Winner', 'GoalPlace', 'GoalNum']\n",
    "plLong['Location'] = plLong.Home\n",
    "plLong.head()"
   ]
  },
  {
   "cell_type": "code",
   "execution_count": null,
   "metadata": {
    "collapsed": false
   },
   "outputs": [],
   "source": [
    "# _EN melt again\n",
    "# _PT remodela novamente\n",
    "\n",
    "plLong2 = pd.melt(plLong, \n",
    "                  id_vars = ['Match', 'Date', 'Location', 'Winner', 'GoalPlace', 'GoalNum'], \n",
    "            value_vars=['Home', 'Away'], var_name='Place', value_name='Team')\n",
    "# _EN \n",
    "# _PT \n",
    "\n",
    "plLong2.sort_values(['Match','Place'], ascending=[True, False], inplace=True)\n",
    "\n",
    "# _EN \n",
    "# _PT \n",
    "\n",
    "plLong2[['Match','Date', 'Location', 'Team','Place','GoalNum','GoalPlace','Winner']].head()"
   ]
  },
  {
   "cell_type": "code",
   "execution_count": null,
   "metadata": {
    "collapsed": false
   },
   "outputs": [],
   "source": [
    "# _EN \n",
    "# _PT \n",
    "\n",
    "plLong2.dtypes"
   ]
  },
  {
   "cell_type": "code",
   "execution_count": null,
   "metadata": {
    "collapsed": false
   },
   "outputs": [],
   "source": [
    "# _EN eliminate senseless rows ((Home and FTAG) or (Away and FTHG))\n",
    "# _PT elimina linhas que não fazem sentido ((Home e FTAG) ou (Away e FTHG))\n",
    "\n",
    "plLongOK = plLong2[((plLong2.Place=='Home') & (plLong2.GoalPlace=='FTHG'))|((plLong2.Place=='Away') & (plLong2.GoalPlace=='FTAG'))]\n",
    "plLongOK = plLongOK[['Match', 'Date', 'Location', 'Team', 'Place', 'GoalNum']]\n",
    "plLongOK.head()"
   ]
  },
  {
   "cell_type": "code",
   "execution_count": null,
   "metadata": {
    "collapsed": false
   },
   "outputs": [],
   "source": [
    "# _EN create a pivot dataframe with multi-index (w ERROR)\n",
    "# _EN (original dataframe is not complete; needs filling)\n",
    "# _PT cria dataframe pivot com multi-índice (com ERRO)\n",
    "# _PT (dataframe original não está completo; precisa preencher)\n",
    "\n",
    "plLongOK.pivot(index=['Match', 'Date', 'Location', 'Team'], columns='Place', values='GoalNum')"
   ]
  },
  {
   "cell_type": "code",
   "execution_count": null,
   "metadata": {
    "collapsed": false
   },
   "outputs": [],
   "source": [
    "pl.head()"
   ]
  },
  {
   "cell_type": "code",
   "execution_count": null,
   "metadata": {
    "collapsed": false,
    "scrolled": true
   },
   "outputs": [],
   "source": [
    "# _EN create a pivot dataframe with multi-index, filling with 0\n",
    "# _PT cria dataframe pivot com multi-índice, preenchendo com 0\n",
    "\n",
    "plPivot = pd.pivot_table(plLongOK, \n",
    "                         index=['Match', 'Date', 'Location', 'Team'],\n",
    "                         columns=['Place'], values='GoalNum', fill_value=0)\n",
    "plPivot.head()"
   ]
  },
  {
   "cell_type": "markdown",
   "metadata": {},
   "source": [
    "_EN Does plPivot make sense? No, because the Away/Home columns are mutually exclusive.\n",
    "\n",
    "_PT O dataframe plPivot faz sentido? Não, porque as colunas Away/Home são mutuamente exclusivas."
   ]
  },
  {
   "cell_type": "code",
   "execution_count": null,
   "metadata": {
    "collapsed": false
   },
   "outputs": [],
   "source": [
    "# _EN create column with number of goals\n",
    "# _PT cria coluna com número de goals\n",
    "\n",
    "plPivot['Goals'] = plPivot.apply(lambda x: max(x['Away'], x['Home']), axis=1)\n",
    "plPivot.head()"
   ]
  },
  {
   "cell_type": "code",
   "execution_count": null,
   "metadata": {
    "collapsed": false
   },
   "outputs": [],
   "source": [
    "# _EN eliminate redundant columns\n",
    "# _PT elimina colunas redundantes\n",
    "\n",
    "plPivot = plPivot[['Goals']]\n",
    "plPivot.head()"
   ]
  },
  {
   "cell_type": "code",
   "execution_count": null,
   "metadata": {
    "collapsed": false
   },
   "outputs": [],
   "source": [
    "# _EN remove index\n",
    "# _PT remove índice\n",
    "\n",
    "plPivot = plPivot.reset_index()\n",
    "plPivot.head()"
   ]
  },
  {
   "cell_type": "code",
   "execution_count": null,
   "metadata": {
    "collapsed": false
   },
   "outputs": [],
   "source": [
    "# _EN Why is the index column named Place?\n",
    "# _PT Por que a coluna de índice está com nome Place?\n",
    "\n",
    "plPivot.columns"
   ]
  },
  {
   "cell_type": "code",
   "execution_count": null,
   "metadata": {
    "collapsed": false
   },
   "outputs": [],
   "source": [
    "# _EN changing the name of the index coiumn\n",
    "# _PT alterando o nome da coluna de índice\n",
    "col = plPivot.columns\n",
    "col.name = ''\n",
    "plPivot.columns = col\n",
    "\n",
    "plPivot.head()"
   ]
  },
  {
   "cell_type": "markdown",
   "metadata": {},
   "source": [
    "_EN Exercise 1.3: generate the dataframe above following a better procedure\n",
    "\n",
    "_PT Exercício 1.3: gere o dataframe acima seguindo um procedimento melhor"
   ]
  },
  {
   "cell_type": "code",
   "execution_count": null,
   "metadata": {
    "collapsed": true
   },
   "outputs": [],
   "source": []
  }
 ],
 "metadata": {
  "kernelspec": {
   "display_name": "Python 3",
   "language": "python",
   "name": "python3"
  },
  "language_info": {
   "codemirror_mode": {
    "name": "ipython",
    "version": 3
   },
   "file_extension": ".py",
   "mimetype": "text/x-python",
   "name": "python",
   "nbconvert_exporter": "python",
   "pygments_lexer": "ipython3",
   "version": "3.5.4"
  }
 },
 "nbformat": 4,
 "nbformat_minor": 2
}
