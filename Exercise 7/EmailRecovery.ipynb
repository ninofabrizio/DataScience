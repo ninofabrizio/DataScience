{
 "cells": [
  {
   "cell_type": "markdown",
   "metadata": {},
   "source": [
    "# Exercise 2.2 - Solution\n",
    "## Authors:\n",
    "- Leonardo Kaplan 1212509\n",
    "- Nino Fabrizio Tiriticco Lizardo 1113203"
   ]
  },
  {
   "cell_type": "markdown",
   "metadata": {},
   "source": [
    "## Sobre o data set:\n",
    "https://www.kaggle.com/rtatman/fraudulent-email-corpus\n",
    "\n",
    "This dataset is a collection of more than 2,500 \"Nigerian\" Fraud Letters, dating from 1998 to 2007.These emails are in a single text file. Each e-mail has a header which includes the following information:\n",
    "\n",
    "* Return-Path: address the email was sent from\n",
    "\n",
    "* X-Sieve: the X-Sieve host (always cmu-sieve 2.0)\n",
    "\n",
    "* Message-Id: a unique identifier for each message\n",
    "\n",
    "* From: the message sender (sometimes blank)\n",
    "\n",
    "* Reply-To: the email address to which replies will be sent\n",
    "\n",
    "* To: the email address to which the e-mail was originally set (some are truncated for anonymity)\n",
    "\n",
    "* Date: Date e-mail was sent\n",
    "\n",
    "* Subject: Subject line of e-mail\n",
    "\n",
    "* X-Mailer: The platform the e-mail was sent from\n",
    "\n",
    "* MIME-Version: The Multipurpose Internet Mail Extension version\n",
    "\n",
    "* Content-Type: type of content & character encoding\n",
    "\n",
    "* Content-Transfer-Encoding: encoding in bits\n",
    "\n",
    "* X-MIME-Autoconverted: the type of autoconversion done\n",
    "\n",
    "* Status: r (read) and o (opened)"
   ]
  },
  {
   "cell_type": "code",
   "execution_count": null,
   "metadata": {
    "collapsed": true
   },
   "outputs": [],
   "source": [
    "# Importando pacotes\n",
    "import re # REEEEEEEE\n",
    "#import email\n",
    "#import pandas as pd"
   ]
  },
  {
   "cell_type": "code",
   "execution_count": null,
   "metadata": {
    "collapsed": false
   },
   "outputs": [],
   "source": [
    "# Pegando dados do arquivo\n",
    "dataset = open(\"in/fradulent_emails.txt\", \"r\").read()"
   ]
  },
  {
   "cell_type": "code",
   "execution_count": null,
   "metadata": {
    "collapsed": false
   },
   "outputs": [],
   "source": [
    "# So um teste...\n",
    "i = 0\n",
    "for stringMatch in re.findall(\"From:.*\", dataset):\n",
    "    print(stringMatch)\n",
    "    i = i + 1\n",
    "    if i == 3:\n",
    "        break"
   ]
  },
  {
   "cell_type": "code",
   "execution_count": null,
   "metadata": {
    "collapsed": true
   },
   "outputs": [],
   "source": []
  }
 ],
 "metadata": {
  "kernelspec": {
   "display_name": "Python 3",
   "language": "python",
   "name": "python3"
  },
  "language_info": {
   "codemirror_mode": {
    "name": "ipython",
    "version": 3
   },
   "file_extension": ".py",
   "mimetype": "text/x-python",
   "name": "python",
   "nbconvert_exporter": "python",
   "pygments_lexer": "ipython3",
   "version": "3.5.4"
  }
 },
 "nbformat": 4,
 "nbformat_minor": 0
}
