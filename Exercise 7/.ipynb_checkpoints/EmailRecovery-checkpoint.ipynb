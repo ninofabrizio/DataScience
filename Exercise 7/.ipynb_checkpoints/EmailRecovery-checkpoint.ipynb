{
 "cells": [
  {
   "cell_type": "markdown",
   "metadata": {},
   "source": [
    "# Exercise 2.2 - Solution\n",
    "## Authors:\n",
    "- Leonardo Kaplan 1212509\n",
    "- Nino Fabrizio Tiriticco Lizardo 1113203"
   ]
  },
  {
   "cell_type": "markdown",
   "metadata": {},
   "source": [
    "## Sobre o data set:\n",
    "https://www.kaggle.com/rtatman/fraudulent-email-corpus\n",
    "\n",
    "This dataset is a collection of more than 2,500 \"Nigerian\" Fraud Letters, dating from 1998 to 2007.These emails are in a single text file. Each e-mail has a header which includes the following information:\n",
    "\n",
    "* Return-Path: address the email was sent from\n",
    "\n",
    "* X-Sieve: the X-Sieve host (always cmu-sieve 2.0)\n",
    "\n",
    "* Message-Id: a unique identifier for each message\n",
    "\n",
    "* From: the message sender (sometimes blank)\n",
    "\n",
    "* Reply-To: the email address to which replies will be sent\n",
    "\n",
    "* To: the email address to which the e-mail was originally set (some are truncated for anonymity)\n",
    "\n",
    "* Date: Date e-mail was sent\n",
    "\n",
    "* Subject: Subject line of e-mail\n",
    "\n",
    "* X-Mailer: The platform the e-mail was sent from\n",
    "\n",
    "* MIME-Version: The Multipurpose Internet Mail Extension version\n",
    "\n",
    "* Content-Type: type of content & character encoding\n",
    "\n",
    "* Content-Transfer-Encoding: encoding in bits\n",
    "\n",
    "* X-MIME-Autoconverted: the type of autoconversion done\n",
    "\n",
    "* Status: r (read) and o (opened)"
   ]
  },
  {
   "cell_type": "code",
   "execution_count": null,
   "metadata": {
    "collapsed": false
   },
   "outputs": [],
   "source": [
    "# Importando pacotes\n",
    "import re\n",
    "import email\n",
    "import pandas as pd # Para montar data frame com os valores que queremos recuperar\n",
    "from IPython.display import display # Para mostrar mais de uma informação em uma mesma célula"
   ]
  },
  {
   "cell_type": "code",
   "execution_count": null,
   "metadata": {
    "collapsed": false
   },
   "outputs": [],
   "source": [
    "# Pegando dados do arquivo\n",
    "data = open(\"in/fradulent_emails.txt\", \"r\").read()"
   ]
  },
  {
   "cell_type": "code",
   "execution_count": null,
   "metadata": {
    "collapsed": false
   },
   "outputs": [],
   "source": [
    "# Verificando quantos emails conseguimos identificar\n",
    "emailQuantity = 0\n",
    "for stringMatch in re.findall(\"From:.*\", data):\n",
    "    emailQuantity = emailQuantity + 1\n",
    "emailQuantity"
   ]
  },
  {
   "cell_type": "code",
   "execution_count": null,
   "metadata": {
    "collapsed": false
   },
   "outputs": [],
   "source": [
    "# Separando emails em uma lista\n",
    "emailList = re.split(\"From r\", data)\n",
    "display(len(emailList)) # Obtivemos uma perda significativa...\n",
    "display(emailList[0]) # Primeiro campo está vazio, removamos ele\n",
    "del emailList[0]\n",
    "display(len(emailList))"
   ]
  },
  {
   "cell_type": "code",
   "execution_count": null,
   "metadata": {
    "collapsed": false
   },
   "outputs": [],
   "source": [
    "# Analisando o primeiro email, parece que pegamos body e subject\n",
    "emailList[0]"
   ]
  },
  {
   "cell_type": "code",
   "execution_count": null,
   "metadata": {
    "collapsed": true
   },
   "outputs": [],
   "source": [
    "# Construíndo lista de dicionários, cada índice representando um dos emails\n",
    "recoveredEmails = []\n",
    "\n",
    "for item in emailList:\n",
    "    emailDict = {}\n",
    "    \n",
    "    # Pegando subject\n",
    "    result = re.search(\"Subject:(?P<subject>.*)\", item)\n",
    "    if result is not None:\n",
    "        subject = result.group(\"subject\")\n",
    "    else:\n",
    "        subject = None\n",
    "    emailDict['Subject'] = subject\n",
    "    \n",
    "    # Pegando body\n",
    "    fullEmail = email.message_from_string(item)\n",
    "    body = fullEmail.get_payload()\n",
    "    emailDict[\"Body\"] = body\n",
    "    \n",
    "    recoveredEmails.append(emailDict)"
   ]
  },
  {
   "cell_type": "code",
   "execution_count": null,
   "metadata": {
    "collapsed": false
   },
   "outputs": [],
   "source": [
    "# Passando lista em um data frame\n",
    "emailsDF = pd.DataFrame(recoveredEmails)\n",
    "\n",
    "# Vendo os 5 primeiros emails, vemos que nossa recuperação ainda possui falhas...\n",
    "emailsDF.head()"
   ]
  }
 ],
 "metadata": {
  "kernelspec": {
   "display_name": "Python 3",
   "language": "python",
   "name": "python3"
  },
  "language_info": {
   "codemirror_mode": {
    "name": "ipython",
    "version": 3
   },
   "file_extension": ".py",
   "mimetype": "text/x-python",
   "name": "python",
   "nbconvert_exporter": "python",
   "pygments_lexer": "ipython3",
   "version": "3.5.4"
  }
 },
 "nbformat": 4,
 "nbformat_minor": 0
}
