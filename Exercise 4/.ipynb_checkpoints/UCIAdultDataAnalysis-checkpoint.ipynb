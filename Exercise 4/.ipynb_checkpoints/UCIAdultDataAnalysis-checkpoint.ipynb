{
 "cells": [
  {
   "cell_type": "markdown",
   "metadata": {},
   "source": [
    "# Exercise 1.4 - Solution\n",
    "## Authors:\n",
    "- Leonardo Kaplan 1212509\n",
    "- Nino Fabrizio Tiriticco Lizardo 1113203"
   ]
  },
  {
   "cell_type": "markdown",
   "metadata": {},
   "source": [
    "# Material da professora - Análise Exploratória de Dados"
   ]
  },
  {
   "cell_type": "code",
   "execution_count": null,
   "metadata": {
    "collapsed": true
   },
   "outputs": [],
   "source": [
    "from IPython.display import display, Markdown, Latex"
   ]
  },
  {
   "cell_type": "markdown",
   "metadata": {},
   "source": [
    "## 1.  Lê Dados"
   ]
  },
  {
   "cell_type": "code",
   "execution_count": null,
   "metadata": {
    "collapsed": true
   },
   "outputs": [],
   "source": [
    "# Data source:\n",
    "# https://archive.ics.uci.edu/ml/datasets/Adult\n",
    "\n",
    "url = 'https://archive.ics.uci.edu/ml/machine-learning-databases/adult/adult.data'\n",
    "# Arquivo texto, delimitado por vírgulas, sem cabeçalho"
   ]
  },
  {
   "cell_type": "markdown",
   "metadata": {},
   "source": [
    "Descrição do arquivo em:\n",
    "https://archive.ics.uci.edu/ml/machine-learning-databases/adult/adult.names\n",
    "\n",
    "### Atributos:\n",
    "\n",
    "1. **age**: continuous.\n",
    "* **workclass**: Private, Self-emp-not-inc, Self-emp-inc, Federal-gov, Local-gov, State-gov, Without-pay, Never-worked.\n",
    "* **fnlwgt**: continuous.\n",
    "* **education**: Bachelors, Some-college, 11th, HS-grad, Prof-school, Assoc-acdm, Assoc-voc, 9th, 7th-8th, 12th, Masters, 1st-4th, 10th, Doctorate, 5th-6th, Preschool.\n",
    "* **education-num**: continuous.\n",
    "* **marital-status**: Married-civ-spouse, Divorced, Never-married, Separated, Widowed, Married-spouse-absent, Married-AF-spouse.\n",
    "* **occupation**: Tech-support, Craft-repair, Other-service, Sales, Exec-managerial, Prof-specialty, Handlers-cleaners, Machine-op-inspct, Adm-clerical, Farming-fishing, Transport-moving, Priv-house-serv, Protective-serv, Armed-Forces.\n",
    "* **relationship**: Wife, Own-child, Husband, Not-in-family, Other-relative, Unmarried.\n",
    "* **race**: White, Asian-Pac-Islander, Amer-Indian-Eskimo, Other, Black.\n",
    "* **sex**: Female, Male.\n",
    "* **capital-gain**: continuous.\n",
    "* **capital-loss**: continuous.\n",
    "* **hours-per-week**: continuous.\n",
    "* **native-country**: United-States, Cambodia, England, Puerto-Rico, Canada, Germany, Outlying-US(Guam-USVI-etc), India, Japan, Greece, South, China, Cuba, Iran, Honduras, Philippines, Italy, Poland, Jamaica, Vietnam, Mexico, Portugal, Ireland, France, Dominican-Republic, Laos, Ecuador, Taiwan, Haiti, Columbia, Hungary, Guatemala, Nicaragua, Scotland, Thailand, Yugoslavia, El-Salvador, Trinadad&Tobago, Peru, Hong, Holand-Netherlands.\n",
    "* **income**: >50K, <=50K.\n"
   ]
  },
  {
   "cell_type": "code",
   "execution_count": null,
   "metadata": {
    "collapsed": false
   },
   "outputs": [],
   "source": [
    "# lê arquivo texto da internet, linha a linha\n",
    "# Nino OBS.: Tive que incluir request no import abaixo pra poder fazer a chamada urllib.request no for\n",
    "import urllib.request\n",
    "\n",
    "data_raw=[]\n",
    "\n",
    "for line in urllib.request.urlopen(url):\n",
    "    # from bytes-like object to string\n",
    "    lined = line.decode()\n",
    "    # separa cada linha em campos (separados por vírgula)\n",
    "    field_lst = str(lined).split(', ')\n",
    "    \n",
    "    # inclui no data frame se o número de atributos for o esperado\n",
    "    if len(field_lst)==15:\n",
    "        data_raw.append(field_lst[0:15])\n",
    "    else:\n",
    "        print('skipped data (error? blank line?):', line)\n"
   ]
  },
  {
   "cell_type": "code",
   "execution_count": null,
   "metadata": {
    "collapsed": false
   },
   "outputs": [],
   "source": [
    "print (data_raw[0])"
   ]
  },
  {
   "cell_type": "code",
   "execution_count": null,
   "metadata": {
    "collapsed": false
   },
   "outputs": [],
   "source": [
    "# cria dataframe pandas com dados\n",
    "\n",
    "import pandas as pd\n",
    "df = pd.DataFrame(data_raw)\n",
    "df.shape"
   ]
  },
  {
   "cell_type": "code",
   "execution_count": null,
   "metadata": {
    "collapsed": true
   },
   "outputs": [],
   "source": [
    "# define colunas conforme definição do data set\n",
    "\n",
    "df.columns = ['age', 'type_employer', 'fnlwgt', 'education', \n",
    "                \"education_num\",\"marital\", \"occupation\", \"relationship\", \"race\",\"sex\",\n",
    "                \"capital_gain\", \"capital_loss\", \"hr_per_week\",\"country\",\"income\"]"
   ]
  },
  {
   "cell_type": "code",
   "execution_count": null,
   "metadata": {
    "collapsed": false
   },
   "outputs": [],
   "source": [
    "df.head()"
   ]
  },
  {
   "cell_type": "code",
   "execution_count": null,
   "metadata": {
    "collapsed": false
   },
   "outputs": [],
   "source": [
    "df.info()"
   ]
  },
  {
   "cell_type": "markdown",
   "metadata": {},
   "source": [
    "## 2. Prepara dados para análise"
   ]
  },
  {
   "cell_type": "code",
   "execution_count": null,
   "metadata": {
    "collapsed": false
   },
   "outputs": [],
   "source": [
    "# ajusta os tipos das colunas numéricas\n",
    "\n",
    "def str_to_int(c):\n",
    "    if isinstance(c, int):\n",
    "        return c\n",
    "    else:\n",
    "        try:\n",
    "            return int(c)\n",
    "        except:\n",
    "            return None\n",
    "  \n",
    "\n",
    "df.age = df.age.apply(str_to_int)\n",
    "df.fnlwgt = df.fnlwgt.apply(str_to_int)\n",
    "df.education_num = df.education_num.apply(str_to_int)\n",
    "df.capital_gain = df.capital_gain.apply(str_to_int)\n",
    "df.capital_loss = df.capital_loss.apply(str_to_int)\n",
    "df.hr_per_week = df.hr_per_week.apply(str_to_int)\n",
    "\n",
    "df.info()"
   ]
  },
  {
   "cell_type": "markdown",
   "metadata": {},
   "source": [
    "## 3. Examina dados\n",
    "\n",
    "### 3.1 Examina dados numéricos"
   ]
  },
  {
   "cell_type": "code",
   "execution_count": null,
   "metadata": {
    "collapsed": false
   },
   "outputs": [],
   "source": [
    "df.describe()"
   ]
  },
  {
   "cell_type": "markdown",
   "metadata": {},
   "source": [
    "### 3.2. Visualiza dados numéricos (distribuições)"
   ]
  },
  {
   "cell_type": "code",
   "execution_count": null,
   "metadata": {
    "collapsed": false
   },
   "outputs": [],
   "source": [
    "import matplotlib\n",
    "import matplotlib.pyplot as plt\n",
    "\n",
    "matplotlib.rcParams.update({'font.size': 11})\n",
    "\n",
    "fig, ((ax1,ax2,ax3), (ax4,ax5,ax6)) = plt.subplots(2, 3, sharex=False, sharey=False, figsize=(40,20))\n",
    "\n",
    "ax1.hist(df.age)\n",
    "ax1.set_title('Age')\n",
    "\n",
    "ax2.hist(df.fnlwgt/1000)\n",
    "ax2.set_title('Final weight (in thousands)')\n",
    "\n",
    "ax3.hist(df.education_num)\n",
    "ax3.set_title('Education num')\n",
    "\n",
    "ax4.hist(df.capital_gain)\n",
    "ax4.set_title('Capital gain')\n",
    "\n",
    "ax5.hist(df.capital_loss)\n",
    "ax5.set_title('Capital loss')\n",
    "\n",
    "ax6.hist(df.hr_per_week)\n",
    "ax6.set_title('Hours per week')\n",
    "\n",
    "plt.show()\n",
    "#pass"
   ]
  },
  {
   "cell_type": "code",
   "execution_count": null,
   "metadata": {
    "collapsed": true
   },
   "outputs": [],
   "source": [
    "fig, ax1 = plt.subplots(figsize=(5,5))\n",
    "matplotlib.rcParams.update({'font.size': 14})\n",
    "ax1.hist(df[(df.sex=='Male')].age,   color='#4499CC', alpha=0.3)\n",
    "ax1.hist(df[(df.sex=='Female')].age, color='#CC0000', alpha=0.3)\n",
    "ax1.set_title('Age')\n",
    "plt.legend(labels = ['Male', 'Female'], loc='upper right')\n",
    "#plt.legend(labels = ['Male', 'Female'], bbox_to_anchor = (1, 1))\n",
    "\n",
    "#plt.show()\n",
    "pass"
   ]
  },
  {
   "cell_type": "code",
   "execution_count": null,
   "metadata": {
    "collapsed": true
   },
   "outputs": [],
   "source": [
    "fig, ax1 = plt.subplots(figsize=(5,5))\n",
    "matplotlib.rcParams.update({'font.size': 14})\n",
    "ax1.hist(df[(df.sex=='Male')].age, normed=True,   color='#4499CC', alpha=0.3)\n",
    "ax1.hist(df[(df.sex=='Female')].age, normed=True,color='#CC0000', alpha=0.3)\n",
    "ax1.set_title('Age')\n",
    "plt.legend(labels = ['Male', 'Female'], loc='upper right')\n",
    "#plt.legend(labels = ['Male', 'Female'], bbox_to_anchor = (1, 1))\n",
    "\n",
    "plt.show()\n",
    "#pass"
   ]
  },
  {
   "cell_type": "markdown",
   "metadata": {},
   "source": [
    "### 3.3 Examina dados categóricos"
   ]
  },
  {
   "cell_type": "code",
   "execution_count": null,
   "metadata": {
    "collapsed": false
   },
   "outputs": [],
   "source": [
    "counts_by_marital = df.groupby('marital').size()\n",
    "print(counts_by_marital)"
   ]
  },
  {
   "cell_type": "code",
   "execution_count": null,
   "metadata": {
    "collapsed": false
   },
   "outputs": [],
   "source": [
    "counts_by_type_employer = df.groupby('type_employer').size()\n",
    "print (counts_by_type_employer)"
   ]
  },
  {
   "cell_type": "code",
   "execution_count": null,
   "metadata": {
    "collapsed": true,
    "scrolled": false
   },
   "outputs": [],
   "source": [
    "counts_by_country = df.groupby('country').size()\n",
    "counts_by_education = df.groupby('education').size()\n",
    "counts_by_occupation = df.groupby('occupation').size()\n",
    "counts_by_relationship = df.groupby('relationship').size()\n",
    "counts_by_sex = df.groupby('sex').size()\n",
    "counts_by_race = df.groupby('race').size()\n",
    "counts_by_income = df.groupby('income').size()"
   ]
  },
  {
   "cell_type": "markdown",
   "metadata": {},
   "source": [
    "### 3.2 Visualiza dados categóricos"
   ]
  },
  {
   "cell_type": "code",
   "execution_count": null,
   "metadata": {
    "collapsed": false
   },
   "outputs": [],
   "source": [
    "# plota com pandas\n",
    "counts_by_type_employer.plot(kind='barh', color='#446699')\n",
    "\n",
    "plt.show()"
   ]
  },
  {
   "cell_type": "code",
   "execution_count": null,
   "metadata": {
    "collapsed": false,
    "scrolled": false
   },
   "outputs": [],
   "source": [
    "def my_barh_plot(data, title, fontsize, figsize=(10,5)):\n",
    "\n",
    "    matplotlib.rcParams.update({'font.size': fontsize})\n",
    "\n",
    "    fig, ax = plt.subplots(figsize=figsize)\n",
    "    y_pos = [i for i in range(0,len(data))]\n",
    "    x_values = list(data)\n",
    "    ax.barh(y_pos, x_values, height=0.7)\n",
    "    ax.set_title(title)\n",
    "    ax.set_yticks(y_pos)\n",
    "    ax.set_yticklabels(list(data.index))\n",
    "    plt.xlim((0,max(x_values)*1.2))\n",
    "    rects = ax.patches\n",
    "\n",
    "    # For each bar: Place a label\n",
    "    for rect in rects:\n",
    "        # Get X and Y placement of label from rect.\n",
    "        x_value = rect.get_width()\n",
    "        y_value = rect.get_y() + rect.get_height() / 2\n",
    "\n",
    "        # Use Y value as label and format number with one decimal place\n",
    "        label = \"{:}\".format(x_value)\n",
    "\n",
    "        # Create annotation\n",
    "        plt.annotate(\n",
    "            label,                      # Use `label` as label\n",
    "            (x_value, y_value),         # Place label at end of the bar\n",
    "            xytext=(5, 5),              #  Shift label (horizontally,vertically)\n",
    "            textcoords=\"offset points\", # Interpret `xytext` as offset in points\n",
    "            ha='left',                  # Horizontal label alignment\n",
    "            va='top')                   # Vertical label alignment\n",
    "\n",
    "    plt.show()"
   ]
  },
  {
   "cell_type": "code",
   "execution_count": null,
   "metadata": {
    "collapsed": false
   },
   "outputs": [],
   "source": [
    "my_barh_plot(counts_by_type_employer.sort_values(), 'Type of employer', 14, (10,5))"
   ]
  },
  {
   "cell_type": "code",
   "execution_count": null,
   "metadata": {
    "collapsed": true
   },
   "outputs": [],
   "source": [
    "my_barh_plot(counts_by_education.sort_values(), 'Education', 14, (10,10))"
   ]
  },
  {
   "cell_type": "code",
   "execution_count": null,
   "metadata": {
    "collapsed": true
   },
   "outputs": [],
   "source": [
    "my_barh_plot(counts_by_marital.sort_values(), 'Marital status', 14, (10,5))"
   ]
  },
  {
   "cell_type": "code",
   "execution_count": null,
   "metadata": {
    "collapsed": true
   },
   "outputs": [],
   "source": [
    "my_barh_plot(counts_by_occupation.sort_values(), 'Occupation', 14, (10,10))"
   ]
  },
  {
   "cell_type": "code",
   "execution_count": null,
   "metadata": {
    "collapsed": true
   },
   "outputs": [],
   "source": [
    "my_barh_plot(counts_by_relationship.sort_values(), 'Relationship', 14, (10,5))"
   ]
  },
  {
   "cell_type": "code",
   "execution_count": null,
   "metadata": {
    "collapsed": true
   },
   "outputs": [],
   "source": [
    "my_barh_plot(counts_by_sex.sort_values(), 'Sex', 14, (10,2))"
   ]
  },
  {
   "cell_type": "code",
   "execution_count": null,
   "metadata": {
    "collapsed": true
   },
   "outputs": [],
   "source": [
    "my_barh_plot(counts_by_race.sort_values(), 'Race', 14, (10,5))"
   ]
  },
  {
   "cell_type": "code",
   "execution_count": null,
   "metadata": {
    "collapsed": true
   },
   "outputs": [],
   "source": [
    "my_barh_plot(counts_by_country.sort_values(), 'Country', 10, (10,20))"
   ]
  },
  {
   "cell_type": "code",
   "execution_count": null,
   "metadata": {
    "collapsed": true
   },
   "outputs": [],
   "source": [
    "my_barh_plot(counts_by_income.sort_values(), 'Income', 14, (10,2))"
   ]
  },
  {
   "cell_type": "code",
   "execution_count": null,
   "metadata": {
    "collapsed": false
   },
   "outputs": [],
   "source": [
    "df_sex_income = df.groupby(['sex', 'income']).size()\n",
    "display(df_sex_income)\n",
    "df_sex_income = df_sex_income.unstack('income').fillna(0)\n",
    "display(df_sex_income)\n",
    "df_sex_income.plot(kind='barh', stacked=True)\n",
    "\n",
    "plt.show()"
   ]
  },
  {
   "cell_type": "code",
   "execution_count": null,
   "metadata": {
    "collapsed": false
   },
   "outputs": [],
   "source": [
    "df_sex_income = df.groupby(['sex', 'income']).size()\n",
    "display(df_sex_income)\n",
    "df_sex_income = df_sex_income.unstack('income').fillna(0)\n",
    "display(df_sex_income)\n",
    "df_sex_income.plot(kind='barh', stacked=False)\n",
    "\n",
    "plt.show()"
   ]
  },
  {
   "cell_type": "markdown",
   "metadata": {},
   "source": [
    "## 4. Examinando dados por categoria"
   ]
  },
  {
   "cell_type": "code",
   "execution_count": null,
   "metadata": {
    "collapsed": false
   },
   "outputs": [],
   "source": [
    "import numpy as np\n",
    "grand_total = np.sum(df_sex_income.sum())\n",
    "print(grand_total)"
   ]
  },
  {
   "cell_type": "code",
   "execution_count": null,
   "metadata": {
    "collapsed": false
   },
   "outputs": [],
   "source": [
    "df_percent_sex_income = 100.* df_sex_income / grand_total\n",
    "df_percent_sex_income"
   ]
  },
  {
   "cell_type": "code",
   "execution_count": null,
   "metadata": {
    "collapsed": false
   },
   "outputs": [],
   "source": [
    "df_high_income = df_percent_sex_income['>50K\\n']\n",
    "display(df_high_income)"
   ]
  },
  {
   "cell_type": "code",
   "execution_count": null,
   "metadata": {
    "collapsed": false
   },
   "outputs": [],
   "source": [
    "print('The rate of men with high income is:    ', '{:5.2f}'.format(df_high_income['Male']), '%.')\n",
    "print('The rate of women with high income is:  ', '{:5.2f}'.format(df_high_income['Female']), '%.')\n",
    "print('The rate of people with high income is: ', '{:5.2f}'.format(df_high_income.sum()), '%.')"
   ]
  },
  {
   "cell_type": "code",
   "execution_count": null,
   "metadata": {
    "collapsed": false
   },
   "outputs": [],
   "source": [
    "df_high_income_male = df[(df.sex == 'Male') & (df.income == '>50K\\n')]\n",
    "print(df_high_income_male.shape)\n",
    "df_high_income_male.head()"
   ]
  },
  {
   "cell_type": "code",
   "execution_count": null,
   "metadata": {
    "collapsed": false
   },
   "outputs": [],
   "source": [
    "df_high_income_female = df[(df.sex == 'Female') & (df.income == '>50K\\n')]\n",
    "print(df_high_income_female.shape)\n",
    "df_high_income_female.head()"
   ]
  },
  {
   "cell_type": "code",
   "execution_count": null,
   "metadata": {
    "collapsed": true
   },
   "outputs": [],
   "source": [
    "fig, ax = plt.subplots(figsize=(8,4))\n",
    "\n",
    "ax.boxplot([df_high_income_female.age.values, df_high_income_male.age.values], widths=0.5, labels=['female', 'male'], vert=False)\n",
    "ax.set_title('Age distribution of high-income people')\n",
    "\n",
    "plt.show()\n",
    "#pass"
   ]
  },
  {
   "cell_type": "code",
   "execution_count": null,
   "metadata": {
    "collapsed": false
   },
   "outputs": [],
   "source": [
    "df_income_hr = df[['income', 'hr_per_week']]\n",
    "display(df_income_hr.head())"
   ]
  },
  {
   "cell_type": "code",
   "execution_count": null,
   "metadata": {
    "collapsed": true
   },
   "outputs": [],
   "source": [
    "fig, ax = plt.subplots(figsize=(8,4))\n",
    "\n",
    "df_high = df_income_hr[df_income_hr.income == '<=50K\\n']\n",
    "df_low = df_income_hr[df_income_hr.income == '>50K\\n']\n",
    "ax.boxplot([df_low.hr_per_week.values, df_high.hr_per_week.values], widths=0.5, labels=['low (<=50K)', 'high (>50K)'], vert=False)\n",
    "ax.set_title('Hours per week x income')\n",
    "\n",
    "plt.show()\n",
    "#pass"
   ]
  },
  {
   "cell_type": "code",
   "execution_count": null,
   "metadata": {
    "collapsed": true
   },
   "outputs": [],
   "source": [
    "# boxplot com cores e símbolos customizados\n",
    "import matplotlib.pyplot as plt\n",
    "import numpy as np\n",
    "\n",
    "def set_box_color(bp, color):\n",
    "    plt.setp(bp['boxes'],    color=color)\n",
    "    plt.setp(bp['whiskers'], color=color)\n",
    "    plt.setp(bp['caps'],     color=color)\n",
    "    plt.setp(bp['medians'],  color='k')\n",
    "    plt.setp(bp['fliers'],   markersize=2.5, markeredgecolor='#000000', alpha=0.2)\n",
    "\n",
    "fig, ax = plt.subplots(figsize=(10,4))\n",
    "\n",
    "ticks = ['low (<=50K)', 'high (>50K)']\n",
    "y_ticks = [0.25, 0.75]\n",
    "df_high = df_income_hr[df_income_hr.income == '<=50K\\n']\n",
    "df_low = df_income_hr[df_income_hr.income == '>50K\\n']\n",
    "bp1 = ax.boxplot(df_low.hr_per_week.values, positions = [0.25], widths=0.2, labels=['low (<=50K)'], vert=False)\n",
    "bp2 = ax.boxplot(df_high.hr_per_week.values, positions = [0.75], widths=0.2, labels=['high (>50K)'], vert=False)\n",
    "set_box_color(bp1, '#4466CC')\n",
    "set_box_color(bp2, '#CC6644')\n",
    "plt.ylim((0, 1))\n",
    "plt.yticks(y_ticks, ticks)\n",
    "ax.set_title('Hours per week - high x low income')\n",
    "\n",
    "plt.show()\n",
    "#pass"
   ]
  },
  {
   "cell_type": "code",
   "execution_count": null,
   "metadata": {
    "collapsed": true
   },
   "outputs": [],
   "source": [
    "fig, ((ax1, ax2)) = plt.subplots(1,2, figsize=(15,4))\n",
    "\n",
    "ax1.scatter(df.hr_per_week, df.capital_gain, alpha=0.3, facecolors='none', color='#4466cc')\n",
    "ax1.set_title('Capital gain x Hours per week')\n",
    "\n",
    "ax2.scatter(df.hr_per_week, df.capital_loss, alpha=0.3, facecolors='none', color='#cc6666')\n",
    "ax2.set_title('Capital loss x Hours per week')\n",
    "\n",
    "plt.show()\n",
    "#pass"
   ]
  },
  {
   "cell_type": "code",
   "execution_count": null,
   "metadata": {
    "collapsed": true
   },
   "outputs": [],
   "source": [
    "fig, ((ax1, ax2)) = plt.subplots(1,2, figsize=(15,4))\n",
    "\n",
    "ax1.scatter(df.age, df.capital_gain, alpha=0.3, marker='.')\n",
    "ax1.set_title('Capital gain x Age')\n",
    "\n",
    "ax2.scatter(df.age, df.capital_loss, alpha=0.3, marker='.', color='#cc6666')\n",
    "ax2.set_title('Capital loss x Age')\n",
    "\n",
    "plt.show()\n",
    "#pass"
   ]
  },
  {
   "cell_type": "code",
   "execution_count": null,
   "metadata": {
    "collapsed": true
   },
   "outputs": [],
   "source": [
    "fig, ax1 = plt.subplots(figsize=(20,10))\n",
    "\n",
    "ax1.scatter(df.capital_gain, df.age, alpha=0.3, marker='.')\n",
    "ax1.scatter(-df.capital_loss, df.age, alpha=0.3, marker='.', color='#cc6666')\n",
    "ax1.set_title('Age x Capital change')\n",
    "\n",
    "plt.show()\n",
    "#pass"
   ]
  },
  {
   "cell_type": "markdown",
   "metadata": {},
   "source": [
    "### Scatterplot sem outliers"
   ]
  },
  {
   "cell_type": "code",
   "execution_count": null,
   "metadata": {
    "collapsed": true
   },
   "outputs": [],
   "source": [
    "fig, ax1 = plt.subplots(figsize=(20,10))\n",
    "outlier_threshold = 90000\n",
    "ax1.scatter(df.capital_gain[(df.capital_gain <= outlier_threshold)], df.age[(df.capital_gain <= outlier_threshold)], alpha=0.3, marker='.')\n",
    "ax1.scatter(-df.capital_loss, df.age, alpha=0.3, marker='.', color='#cc6666')\n",
    "ax1.set_title('Age x Capital change (no outliers)')\n",
    "\n",
    "plt.show()\n",
    "#pass"
   ]
  },
  {
   "cell_type": "code",
   "execution_count": null,
   "metadata": {
    "collapsed": false
   },
   "outputs": [],
   "source": [
    "temp = df[(df.capital_gain >=90000)]\n",
    "print(temp.shape)\n",
    "display(temp)"
   ]
  },
  {
   "cell_type": "markdown",
   "metadata": {},
   "source": [
    "### Correlação de Pearson $\\rho$ (Correlação linear)\n",
    "Utilizada quando as distribuições são próximas da normal.\n",
    "\n",
    "Produtos dos scores z padrão:\n",
    "\n",
    "$$ p_i = \\frac{(x_i - \\mu_X)}{\\sigma_X} \\frac{(y_i - \\mu_Y)}{\\sigma_Y} $$\n",
    " \n",
    "Média desses produtos:\n",
    "\n",
    "$$ \\rho = \\frac{1}{n} \\sum p_i = \\frac{1}{n} \\sum  \\frac{(x_i - \\mu_X)}{\\sigma_X} \\frac{(y_i - \\mu_Y)}{\\sigma_Y}  $$\n",
    "\n",
    "Fatorando $\\sigma_X$ e $\\sigma_Y$:\n",
    "\n",
    "$$ \\rho = \\frac{Cov(X,Y)}{\\sigma_X \\sigma_Y}$$\n",
    "\n",
    " \n"
   ]
  },
  {
   "cell_type": "markdown",
   "metadata": {},
   "source": [
    "Pergunta: Há correlação entre capital gain e hours per week?"
   ]
  },
  {
   "cell_type": "code",
   "execution_count": null,
   "metadata": {
    "collapsed": false
   },
   "outputs": [],
   "source": [
    "display(Markdown('### Pearson correlation coefficient (numpy)\\n'))\n",
    "print(np.corrcoef(df.capital_gain.values, df.hr_per_week.values))\n",
    "\n",
    "from scipy.stats.stats import pearsonr   \n",
    "r, p_value = pearsonr(df.capital_gain.values, df.hr_per_week.values)\n",
    "display(Markdown('### Pearson correlation coefficient (scipy)\\n'))\n",
    "display(Markdown('{:.5f}'.format(r)))\n",
    "\n",
    "if abs(r) > 0.8:\n",
    "    display(Markdown('forte correlação'))\n",
    "else:\n",
    "    if abs(r) > 0.5:\n",
    "        display(Markdown('correlação média'))\n",
    "    else:\n",
    "        display(Markdown('correlação fraca ou não há correlação'))"
   ]
  },
  {
   "cell_type": "markdown",
   "metadata": {},
   "source": [
    "### Correlação de Spearman (rank)\n",
    "\n",
    "Usada quando as distribuições são assimétricas. Computa-se o rank de cada valor, e depois computa-se a correlação de Pearson sobre os ranks."
   ]
  },
  {
   "cell_type": "code",
   "execution_count": null,
   "metadata": {
    "collapsed": false
   },
   "outputs": [],
   "source": [
    "from scipy.stats.stats import spearmanr   \n",
    "\n",
    "r, p_value = pearsonr(df.capital_gain.values, df.hr_per_week.values)\n",
    "display(Markdown('#### Pearson correlation coefficient (scipy)'))\n",
    "display(Markdown('{:.5f}'.format(r)))\n",
    "\n",
    "if abs(r) > 0.8:\n",
    "    display(Markdown('forte correlação'))\n",
    "else:\n",
    "    if abs(r) > 0.5:\n",
    "        display(Markdown('correlação média'))\n",
    "    else:\n",
    "        display(Markdown('correlação fraca ou não há correlação'))\n",
    "\n",
    "from scipy.stats.stats import spearmanr   \n",
    "\n",
    "display(Markdown('#### Spearman rank correlation coefficient (scipy)'))\n",
    "spearman_rho = spearmanr(df.capital_gain.values, df.hr_per_week.values)[0]\n",
    "display(Markdown('{:.5f}'.format(spearman_rho)))"
   ]
  },
  {
   "cell_type": "code",
   "execution_count": null,
   "metadata": {
    "collapsed": false
   },
   "outputs": [],
   "source": [
    "# forma \"manual\" de calcular o Spearman rank correlation coefficient\n",
    "\n",
    "def list2rank(l):\n",
    "    #l is a list of numbers\n",
    "    # returns a list of 1-based index; mean when multiple instances\n",
    "    return [np.mean([i+1 for i, sorted_el in enumerate(sorted(l)) if sorted_el == el]) for el in l]\n",
    "\n",
    "def spearmanRank(X, Y):\n",
    "    # X and Y are same-length lists\n",
    "    print (list2rank(X) )\n",
    "    print (list2rank(Y))\n",
    "    return pearsonr(list2rank(X), list2rank(Y))[0]\n",
    "\n",
    "X = [10, 20, 30, 40, 1000]\n",
    "Y = [-70, -1000, -50, -10, -20]\n",
    "plt.plot(X,'ro')\n",
    "plt.plot(Y,'go')\n",
    "\n",
    "plt.show()\n",
    "\n",
    "print (\"Pearson rank coefficient: %.2f\" % pearsonr(X,Y)[0])\n",
    "print (\"Spearman rank coefficient: %.2f\" % spearmanr(X,Y)[0])"
   ]
  },
  {
   "cell_type": "markdown",
   "metadata": {},
   "source": [
    "## **<span style=\"color:red\">Obs.: Retirar o código acima que não formos utilizar, antes da entrega do exercício!!!</span>**\n",
    "</b>\n",
    "</b>\n",
    "</b>\n",
    "# Nossas hipóteses:"
   ]
  },
  {
   "cell_type": "markdown",
   "metadata": {
    "collapsed": true
   },
   "source": [
    "## *1ª Hipótese: Será que há correlação entre etnia e horas de trabalho?*"
   ]
  },
  {
   "cell_type": "code",
   "execution_count": null,
   "metadata": {
    "collapsed": false
   },
   "outputs": [],
   "source": [
    "# Verificando quais são as etnias listadas\n",
    "df.race.unique()"
   ]
  },
  {
   "cell_type": "code",
   "execution_count": null,
   "metadata": {
    "collapsed": false
   },
   "outputs": [],
   "source": [
    "# Mudando por uma numeração, para poder fazer os cálculos de correlação\n",
    "dfRaces = df.replace(['White', 'Black', 'Asian-Pac-Islander', 'Amer-Indian-Eskimo', 'Other'], \n",
    "                     [1, 2, 3, 4, 5])\n",
    "dfRaces.race.unique()"
   ]
  },
  {
   "cell_type": "code",
   "execution_count": null,
   "metadata": {
    "collapsed": false
   },
   "outputs": [],
   "source": [
    "# Calculando as correlações, usando Pearson e Spearman\n",
    "from scipy.stats.stats import spearmanr   \n",
    "\n",
    "r, p_value = pearsonr(dfRaces.race.values, dfRaces.hr_per_week.values)\n",
    "display(Markdown('#### Coeficiente de Correlação de Pearson, usando scipy'))\n",
    "display(Markdown('{:.5f}'.format(r)))\n",
    "\n",
    "if abs(r) > 0.8:\n",
    "    display(Markdown('Forte correlação'))\n",
    "else:\n",
    "    if abs(r) > 0.5:\n",
    "        display(Markdown('Correlação média'))\n",
    "    else:\n",
    "        display(Markdown('Correlação fraca ou não há correlação'))\n",
    "\n",
    "from scipy.stats.stats import spearmanr\n",
    "\n",
    "display(Markdown('#### Coeficiente de Correlação de ranking de Spearman, usando scipy'))\n",
    "spearman_rho = spearmanr(dfRaces.race.values, dfRaces.hr_per_week.values)[0]\n",
    "display(Markdown('{:.5f}'.format(spearman_rho)))"
   ]
  },
  {
   "cell_type": "markdown",
   "metadata": {},
   "source": [
    "Vemos que de fato a correlação para ambos os casos é extremamente baixa"
   ]
  },
  {
   "cell_type": "code",
   "execution_count": null,
   "metadata": {
    "collapsed": false
   },
   "outputs": [],
   "source": [
    "# Montando um Scatterplot para vasualizar os valores\n",
    "fig, ax1 = plt.subplots(1, figsize=(15,4))\n",
    "\n",
    "ax1.scatter(dfRaces.race, dfRaces.hr_per_week, alpha=0.3, marker='.')\n",
    "ax1.set_title('Race x Hours per week')\n",
    "\n",
    "plt.show()"
   ]
  },
  {
   "cell_type": "markdown",
   "metadata": {},
   "source": [
    "O gráfico nos mostra que existe uma distribuição relativamente equilibrada entre o tempo semanal de trabalho entre cada uma das cinco etnias registradas nos dados, tendo maiores concentrações entre 20 e 60 horas para todas com algumas exceções de distanciando bem dessa média. O gráfico também nos mostra a enorme diferença da quantidade de registros para Brancos em relação às demais."
   ]
  },
  {
   "cell_type": "markdown",
   "metadata": {},
   "source": [
    "## **<span style=\"color:red\">Melhoras/ideias para esta hipótese:</span>**\n",
    "- Tentar mostrar no scatterplot o nome das etnias ao invés da numeração\n",
    "- Mostrar informações como média, valor máximo e mínimo de horas trabalhadas para cada etnia"
   ]
  },
  {
   "cell_type": "code",
   "execution_count": null,
   "metadata": {
    "collapsed": true
   },
   "outputs": [],
   "source": []
  }
 ],
 "metadata": {
  "anaconda-cloud": {},
  "kernelspec": {
   "display_name": "Python 3",
   "language": "python",
   "name": "python3"
  },
  "language_info": {
   "codemirror_mode": {
    "name": "ipython",
    "version": 3
   },
   "file_extension": ".py",
   "mimetype": "text/x-python",
   "name": "python",
   "nbconvert_exporter": "python",
   "pygments_lexer": "ipython3",
   "version": "3.5.4"
  }
 },
 "nbformat": 4,
 "nbformat_minor": 1
}
