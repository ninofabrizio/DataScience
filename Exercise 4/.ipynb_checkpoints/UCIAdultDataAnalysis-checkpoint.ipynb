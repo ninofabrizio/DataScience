{
 "cells": [
  {
   "cell_type": "markdown",
   "metadata": {},
   "source": [
    "# Exercise 1.4 - Solution\n",
    "## Authors:\n",
    "- Leonardo Kaplan 1212509\n",
    "- Nino Fabrizio Tiriticco Lizardo 1113203"
   ]
  },
  {
   "cell_type": "code",
   "execution_count": null,
   "metadata": {
    "collapsed": true
   },
   "outputs": [],
   "source": [
    "# Pacotes usados\n",
    "import matplotlib.pyplot as plt\n",
    "import numpy as np\n",
    "import pandas as pd\n",
    "from IPython.display import display\n",
    "from scipy.stats.stats import spearmanr\n",
    "from scipy.stats.stats import pearsonr\n",
    "from IPython.display import display, Markdown"
   ]
  },
  {
   "cell_type": "markdown",
   "metadata": {},
   "source": [
    "# Código da aula mantido para nossa solução:"
   ]
  },
  {
   "cell_type": "code",
   "execution_count": null,
   "metadata": {
    "collapsed": true
   },
   "outputs": [],
   "source": [
    "# Data source:\n",
    "# https://archive.ics.uci.edu/ml/datasets/Adult\n",
    "\n",
    "url = 'https://archive.ics.uci.edu/ml/machine-learning-databases/adult/adult.data'\n",
    "# Arquivo texto, delimitado por vírgulas, sem cabeçalho"
   ]
  },
  {
   "cell_type": "markdown",
   "metadata": {},
   "source": [
    "Descrição do arquivo em:\n",
    "https://archive.ics.uci.edu/ml/machine-learning-databases/adult/adult.names\n",
    "\n",
    "### Atributos:\n",
    "\n",
    "1. **age**: continuous.\n",
    "* **workclass**: Private, Self-emp-not-inc, Self-emp-inc, Federal-gov, Local-gov, State-gov, Without-pay, Never-worked.\n",
    "* **fnlwgt**: continuous.\n",
    "* **education**: Bachelors, Some-college, 11th, HS-grad, Prof-school, Assoc-acdm, Assoc-voc, 9th, 7th-8th, 12th, Masters, 1st-4th, 10th, Doctorate, 5th-6th, Preschool.\n",
    "* **education-num**: continuous.\n",
    "* **marital-status**: Married-civ-spouse, Divorced, Never-married, Separated, Widowed, Married-spouse-absent, Married-AF-spouse.\n",
    "* **occupation**: Tech-support, Craft-repair, Other-service, Sales, Exec-managerial, Prof-specialty, Handlers-cleaners, Machine-op-inspct, Adm-clerical, Farming-fishing, Transport-moving, Priv-house-serv, Protective-serv, Armed-Forces.\n",
    "* **relationship**: Wife, Own-child, Husband, Not-in-family, Other-relative, Unmarried.\n",
    "* **race**: White, Asian-Pac-Islander, Amer-Indian-Eskimo, Other, Black.\n",
    "* **sex**: Female, Male.\n",
    "* **capital-gain**: continuous.\n",
    "* **capital-loss**: continuous.\n",
    "* **hours-per-week**: continuous.\n",
    "* **native-country**: United-States, Cambodia, England, Puerto-Rico, Canada, Germany, Outlying-US(Guam-USVI-etc), India, Japan, Greece, South, China, Cuba, Iran, Honduras, Philippines, Italy, Poland, Jamaica, Vietnam, Mexico, Portugal, Ireland, France, Dominican-Republic, Laos, Ecuador, Taiwan, Haiti, Columbia, Hungary, Guatemala, Nicaragua, Scotland, Thailand, Yugoslavia, El-Salvador, Trinadad&Tobago, Peru, Hong, Holand-Netherlands.\n",
    "* **income**: >50K, <=50K.\n"
   ]
  },
  {
   "cell_type": "code",
   "execution_count": null,
   "metadata": {
    "collapsed": false
   },
   "outputs": [],
   "source": [
    "# lê arquivo texto da internet, linha a linha\n",
    "# Nino OBS.: Tive que incluir request no import abaixo pra poder fazer a chamada urllib.request no for\n",
    "import urllib.request\n",
    "\n",
    "data_raw=[]\n",
    "\n",
    "for line in urllib.request.urlopen(url):\n",
    "    # from bytes-like object to string\n",
    "    lined = line.decode()\n",
    "    # separa cada linha em campos (separados por vírgula)\n",
    "    field_lst = str(lined).split(', ')\n",
    "    \n",
    "    # inclui no data frame se o número de atributos for o esperado\n",
    "    if len(field_lst)==15:\n",
    "        data_raw.append(field_lst[0:15])\n",
    "    else:\n",
    "        print('skipped data (error? blank line?):', line)\n"
   ]
  },
  {
   "cell_type": "code",
   "execution_count": null,
   "metadata": {
    "collapsed": false
   },
   "outputs": [],
   "source": [
    "# cria dataframe pandas com dados\n",
    "\n",
    "\n",
    "df = pd.DataFrame(data_raw)\n",
    "df.shape"
   ]
  },
  {
   "cell_type": "code",
   "execution_count": null,
   "metadata": {
    "collapsed": true
   },
   "outputs": [],
   "source": [
    "# define colunas conforme definição do data set\n",
    "\n",
    "df.columns = ['age', 'type_employer', 'fnlwgt', 'education', \n",
    "                \"education_num\",\"marital\", \"occupation\", \"relationship\", \"race\",\"sex\",\n",
    "                \"capital_gain\", \"capital_loss\", \"hr_per_week\",\"country\",\"income\"]"
   ]
  },
  {
   "cell_type": "code",
   "execution_count": null,
   "metadata": {
    "collapsed": false
   },
   "outputs": [],
   "source": [
    "# ajusta os tipos das colunas numéricas\n",
    "\n",
    "def str_to_int(c):\n",
    "    if isinstance(c, int):\n",
    "        return c\n",
    "    else:\n",
    "        try:\n",
    "            return int(c)\n",
    "        except:\n",
    "            return None\n",
    "  \n",
    "\n",
    "df.age = df.age.apply(str_to_int)\n",
    "df.fnlwgt = df.fnlwgt.apply(str_to_int)\n",
    "df.education_num = df.education_num.apply(str_to_int)\n",
    "df.capital_gain = df.capital_gain.apply(str_to_int)\n",
    "df.capital_loss = df.capital_loss.apply(str_to_int)\n",
    "df.hr_per_week = df.hr_per_week.apply(str_to_int)\n",
    "\n",
    "df.info()"
   ]
  },
  {
   "cell_type": "markdown",
   "metadata": {},
   "source": [
    "# Nossas hipóteses:"
   ]
  },
  {
   "cell_type": "markdown",
   "metadata": {
    "collapsed": true
   },
   "source": [
    "## *1ª Hipótese: Será que há correlação entre etnia e horas de trabalho?*"
   ]
  },
  {
   "cell_type": "code",
   "execution_count": null,
   "metadata": {
    "collapsed": false
   },
   "outputs": [],
   "source": [
    "# Verificando quais são as etnias listadas\n",
    "df.race.unique()"
   ]
  },
  {
   "cell_type": "code",
   "execution_count": null,
   "metadata": {
    "collapsed": false
   },
   "outputs": [],
   "source": [
    "# Mudando por uma numeração, para poder fazer os cálculos de correlação\n",
    "dfRaces = df.replace(['White', 'Black', 'Asian-Pac-Islander', 'Amer-Indian-Eskimo', 'Other'], \n",
    "                     [1, 2, 3, 4, 5])\n",
    "dfRaces.race.unique()"
   ]
  },
  {
   "cell_type": "code",
   "execution_count": null,
   "metadata": {
    "collapsed": false
   },
   "outputs": [],
   "source": [
    "# Calculando as correlações, usando Pearson e Spearman\n",
    "r, p_value = pearsonr(dfRaces.race.values, dfRaces.hr_per_week.values)\n",
    "display(Markdown('#### Coeficiente de Correlação de Pearson, usando scipy'))\n",
    "display(Markdown('{:.5f}'.format(r)))\n",
    "\n",
    "if abs(r) > 0.8:\n",
    "    display(Markdown('Forte correlação'))\n",
    "else:\n",
    "    if abs(r) > 0.5:\n",
    "        display(Markdown('Correlação média'))\n",
    "    else:\n",
    "        display(Markdown('Correlação fraca ou não há correlação'))\n",
    "\n",
    "from scipy.stats.stats import spearmanr\n",
    "\n",
    "display(Markdown('#### Coeficiente de Correlação de ranking de Spearman, usando scipy'))\n",
    "spearman_rho = spearmanr(dfRaces.race.values, dfRaces.hr_per_week.values)[0]\n",
    "display(Markdown('{:.5f}'.format(spearman_rho)))"
   ]
  },
  {
   "cell_type": "markdown",
   "metadata": {},
   "source": [
    "Vemos que de fato a correlação para ambos os casos é extremamente baixa"
   ]
  },
  {
   "cell_type": "code",
   "execution_count": null,
   "metadata": {
    "collapsed": false
   },
   "outputs": [],
   "source": [
    "# Montando um Scatterplot para vasualizar os valores\n",
    "fig, ax1 = plt.subplots(1, figsize=(15,4))\n",
    "\n",
    "# Substituindo os valores numéricos pela string de etnia que representam para mostrar no gráfico\n",
    "Xuniques, Xaxis = np.unique(df['race'], return_inverse=True)\n",
    "ax1.scatter(Xaxis, dfRaces.hr_per_week, alpha=0.3, marker='.')\n",
    "ax1.set(xticks=range(len(Xuniques)), xticklabels=Xuniques)\n",
    "\n",
    "ax1.set_title('Race x Hours per week')\n",
    "\n",
    "plt.show()"
   ]
  },
  {
   "cell_type": "markdown",
   "metadata": {},
   "source": [
    "O gráfico nos mostra que existe uma distribuição relativamente equilibrada entre o tempo semanal de trabalho entre cada uma das cinco etnias registradas nos dados, tendo maiores concentrações entre 20 e 60 horas para todas com algumas exceções de distanciando bem dessa média. O gráfico também nos mostra a enorme diferença da quantidade de registros para Brancos em relação às demais.\n",
    "\n",
    "Como não existe a correlação, a hipótese é rejeitada."
   ]
  },
  {
   "cell_type": "markdown",
   "metadata": {},
   "source": [
    "## *2ª Hipótese: Será que empregados de empresas particulares têm maior perda de capital do que servidores públicos em média?*"
   ]
  },
  {
   "cell_type": "code",
   "execution_count": null,
   "metadata": {
    "collapsed": false
   },
   "outputs": [],
   "source": [
    "# Analisando o que temos no campo de tipo de empregado, nos interessam inicialmente os campos ['State-gov', 'Private', 'Federal-gov','Local-gov']\n",
    "df.type_employer.unique()"
   ]
  },
  {
   "cell_type": "code",
   "execution_count": null,
   "metadata": {
    "collapsed": false
   },
   "outputs": [],
   "source": [
    "# Agrupando apenas os dados que nos interessam\n",
    "dfEmployerType = df.loc[(df['type_employer'] == 'State-gov') | (df['type_employer'] == 'Private') | (df['type_employer'] == 'Federal-gov') | (df['type_employer'] == 'Local-gov')]\n",
    "dfEmployerType = dfEmployerType[['type_employer','capital_loss']]\n",
    "dfEmployerType = dfEmployerType.reset_index(drop = True)\n",
    "dfEmployerType.type_employer.unique()"
   ]
  },
  {
   "cell_type": "code",
   "execution_count": null,
   "metadata": {
    "collapsed": false,
    "scrolled": true
   },
   "outputs": [],
   "source": [
    "# Calculando a média, montando o data frame pelos valores únicos do tipo de empregado\n",
    "dfEmployerTypeMeans = dfEmployerType.groupby('type_employer').mean()\n",
    "display(dfEmployerTypeMeans)\n",
    "dfEmployerTypeMeans.plot(kind='barh', stacked=True, legend=False)\n",
    "\n",
    "plt.show()"
   ]
  },
  {
   "cell_type": "markdown",
   "metadata": {},
   "source": [
    "Os valores numéricos e o gráfico nos mostram que, em média, servidores públicos têm maior perda de capital do que empregados de empresas privadas. Sendo assim, a hipótese é rejeitada."
   ]
  },
  {
   "cell_type": "markdown",
   "metadata": {
    "collapsed": true
   },
   "source": [
    "## *3ª Hipótese: Qual é a area de atuação que menos valoriza instrução em termos de ganho de capital?*"
   ]
  },
  {
   "cell_type": "code",
   "execution_count": null,
   "metadata": {
    "collapsed": false
   },
   "outputs": [],
   "source": [
    "# Começamos mostrando o ganho de capital em relação ao grau de escolaridade\n",
    "# x salário\n",
    "# y instrução\n",
    "# cada conjunto horizontal de pontos, uma área de atuação\n",
    "fig, (ax1) = plt.subplots(1,1, figsize=(15,4))\n",
    "\n",
    "Xuniques, Xaxis = np.unique(df['education'], return_inverse=True)\n",
    "ax1.scatter(df.capital_gain, Xaxis, alpha=0.3, facecolors='none', color='#4466cc')\n",
    "ax1.set(yticks=range(len(Xuniques)), yticklabels=Xuniques)\n",
    "\n",
    "plt.show()"
   ]
  },
  {
   "cell_type": "markdown",
   "metadata": {},
   "source": [
    "O gráfico nos mostra que grau de escolaridade alto não influencia em um maior ganho de capital, assemelhando-se a grau de escolaridade médio. Porém, graus de escolaridades menores possuem ganho de capital pouco expressivo, que é o que se esperaria.\n",
    "\n",
    "Também podemos ver alguns pontos que se sobressaem positivamente das médias de ganho para graus médios a altos de escolaridade."
   ]
  },
  {
   "cell_type": "code",
   "execution_count": null,
   "metadata": {
    "collapsed": false
   },
   "outputs": [],
   "source": [
    "# Montando gráfico de cargos para cargos por nível de escolaridade\n",
    "\n",
    "plt.subplots(1,1, figsize=(15,4))\n",
    "df1 = pd.DataFrame(df, columns=('education_num', 'occupation', 'capital_gain'))\n",
    "df1 = df1.groupby(['occupation','education_num']).mean()\n",
    "df1 = df1.reset_index()\n",
    "\n",
    "df1.set_index('education_num',inplace=True)\n",
    "df1.groupby(['occupation'])['capital_gain'].plot(kind='line',legend=True)\n",
    "plt.legend(loc='center left', bbox_to_anchor=(1, 0.5))\n",
    "\n",
    "plt.show()"
   ]
  },
  {
   "cell_type": "markdown",
   "metadata": {},
   "source": [
    "Nosso objetivo era mostrar no eixo X os nomes dos graus de escolaridade, porém não conseguimos achar uma solução para a forma com que desenvolvemos nosso gráfico até o tempo limite da entrega do exercício. O gráfico mostra como os cargos (cada linha) se distribuem pela quantidade de pessoas (eixo Y) que possuem uma certa instrução (eixo X).\n",
    "\n",
    "De qualquer forma, vemos que os últimos graus de escolaridade representados no gráfico possuem o maior número de pessoas dentre alguns dos cargos listados. A maioria dos níveis de instrução englobam até 5000 pessoas em todos os cargos."
   ]
  }
 ],
 "metadata": {
  "anaconda-cloud": {},
  "kernelspec": {
   "display_name": "Python 3",
   "language": "python",
   "name": "python3"
  },
  "language_info": {
   "codemirror_mode": {
    "name": "ipython",
    "version": 3
   },
   "file_extension": ".py",
   "mimetype": "text/x-python",
   "name": "python",
   "nbconvert_exporter": "python",
   "pygments_lexer": "ipython3",
   "version": "3.5.4"
  }
 },
 "nbformat": 4,
 "nbformat_minor": 1
}
