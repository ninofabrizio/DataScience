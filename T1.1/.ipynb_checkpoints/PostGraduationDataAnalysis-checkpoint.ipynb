{
 "cells": [
  {
   "cell_type": "markdown",
   "metadata": {},
   "source": [
    "# T1.1 - Solution\n",
    "## Authors:\n",
    "- Leonardo Kaplan 1212509\n",
    "- Nino Fabrizio Tiriticco Lizardo 1113203"
   ]
  },
  {
   "cell_type": "code",
   "execution_count": null,
   "metadata": {
    "collapsed": true
   },
   "outputs": [],
   "source": [
    "# Pacotes usados\n",
    "import pandas as pd # Para pegar os dados dos arquivos\n",
    "from IPython.display import display # Para mostrar informações\n",
    "import ast # Para transformar string/object em estruturas de dados (listas, dicionários, ...)"
   ]
  },
  {
   "cell_type": "code",
   "execution_count": null,
   "metadata": {
    "collapsed": true
   },
   "outputs": [],
   "source": [
    "# Carregando dados de cada um dos arquivos\n",
    "DataQualisRaw = pd.read_excel('Files/Qualis CC 2013-2016.xlsx')#, sheetname = 'Tab 1.2.1.1 e 1.2.1.2')\n",
    "DataDocentesRaw = pd.read_csv('Files/docentes.csv')\n",
    "DataIESRaw = pd.read_csv('Files/IES.csv')\n",
    "DataProducaoRaw = pd.read_csv('Files/producao.csv')"
   ]
  },
  {
   "cell_type": "markdown",
   "metadata": {},
   "source": [
    "## Análise prévia dos dados:"
   ]
  },
  {
   "cell_type": "code",
   "execution_count": null,
   "metadata": {
    "collapsed": false
   },
   "outputs": [],
   "source": [
    "# Pela função info, parece que temos todos os dados disponíveis para cada coluna (sem valores nulos)\n",
    "display(DataQualisRaw.info())\n",
    "\n",
    "# Pelas 5 primeiras tuplas, os dados parecem não precisar tratamento\n",
    "DataQualisRaw.head()\n",
    "\n",
    "# Fazendo uma análise prévia dos dados, DataQualisRaw parece representar o título de papers associado a um código(?)"
   ]
  },
  {
   "cell_type": "code",
   "execution_count": null,
   "metadata": {
    "collapsed": false
   },
   "outputs": [],
   "source": [
    "# Pela função info, parece que temos todos os dados disponíveis para cada coluna (sem valores nulos)\n",
    "display(DataDocentesRaw.info())\n",
    "\n",
    "# Pelas 5 primeiras tuplas, os dados parecem não precisar tratamento\n",
    "DataDocentesRaw.head()\n",
    "\n",
    "# Fazendo uma análise prévia dos dados, DataDocentesRaw parece representar docentes e sua relação com a instiuição acadêmica/universidade"
   ]
  },
  {
   "cell_type": "code",
   "execution_count": null,
   "metadata": {
    "collapsed": false
   },
   "outputs": [],
   "source": [
    "# Pela função info, parece que temos todos os dados disponíveis para cada coluna (sem valores nulos)\n",
    "display(DataIESRaw.info())\n",
    "\n",
    "# Pelas tabela, os dados a princípio não precisam tratamento\n",
    "DataIESRaw\n",
    "\n",
    "# Fazendo uma análise prévia dos dados, DataIESRaw parece representar as instituições acadêmicas/universidades"
   ]
  },
  {
   "cell_type": "code",
   "execution_count": null,
   "metadata": {
    "collapsed": false
   },
   "outputs": [],
   "source": [
    "# A função info nos mostra que temos valores nulos em algumas das colunas (valores menores que o total de tuplas na tabela)\n",
    "display(DataProducaoRaw.info())\n",
    "\n",
    "# As 5 primeiras tuplas da tabela nos mostram que pelo menos alguns dados precisam ser tratados nas colunas:\n",
    "# - dict_paper_autores (os dados dessa coluna na verdade representam listas de dicionários) [VER PRÓXIMA CÉLULA]\n",
    "# - paper_autores (os dados dessa coluna na verdade representam listas de strings/objects) [VER CÉLULA PRÓXIMA À SEGUINTE]\n",
    "DataProducaoRaw.head()\n",
    "\n",
    "# Fazendo uma análise prévia dos dados, parece que DataProducaoRaw lista papers publicados por integrantes (docentes?) de instituições acadêmicas/universidades, informando vários outros dados ligados a esses papers."
   ]
  },
  {
   "cell_type": "code",
   "execution_count": null,
   "metadata": {
    "collapsed": false
   },
   "outputs": [],
   "source": [
    "# Vemos que uma célula da segunda coluna de DataProducaoRaw é uma string/object que representa uma lista de dicionários\n",
    "display(DataProducaoRaw['dict_paper_autores'][0])\n",
    "\n",
    "# Transformando uma dessas string/objects em uma lista de dicionários\n",
    "dictionaryList = ast.literal_eval(DataProducaoRaw['dict_paper_autores'][0])\n",
    "\n",
    "display(dictionaryList) # Lista de dicionários\n",
    "display(dictionaryList[0]) # Dicionário\n",
    "display(dictionaryList[0]['categoria']) # Valor atribuído à chave 'categoria'\n",
    "dictionaryList[0]['nome'] # Valor atribuído à chave 'nome'"
   ]
  },
  {
   "cell_type": "code",
   "execution_count": null,
   "metadata": {
    "collapsed": false
   },
   "outputs": [],
   "source": [
    "# Vemos que uma célula da coluna 'paper_autores' de DataProducaoRaw é uma string/object que representa uma lista de strings/objects\n",
    "display(DataProducaoRaw['paper_autores'][0])\n",
    "\n",
    "stringList = ast.literal_eval(DataProducaoRaw['paper_autores'][0])\n",
    "\n",
    "display(stringList) # Lista de strings/objects\n",
    "display(stringList[0]) # Uma (TADAM!) string/object"
   ]
  },
  {
   "cell_type": "markdown",
   "metadata": {},
   "source": [
    "## Limpeza dos dados:"
   ]
  },
  {
   "cell_type": "code",
   "execution_count": null,
   "metadata": {
    "collapsed": true
   },
   "outputs": [],
   "source": []
  },
  {
   "cell_type": "markdown",
   "metadata": {},
   "source": [
    "## **<span style=\"color:red\">Detalhes a ficar atento para o trabalho:</span>**\n",
    "- Verificar repetição de dados (aparentemente temos papers duplicados)\n",
    "- Os arquivos de dados vão mudar, não esquecer de atualizar eles antes de continuar"
   ]
  },
  {
   "cell_type": "code",
   "execution_count": null,
   "metadata": {
    "collapsed": true
   },
   "outputs": [],
   "source": []
  }
 ],
 "metadata": {
  "kernelspec": {
   "display_name": "Python 3",
   "language": "python",
   "name": "python3"
  },
  "language_info": {
   "codemirror_mode": {
    "name": "ipython",
    "version": 3
   },
   "file_extension": ".py",
   "mimetype": "text/x-python",
   "name": "python",
   "nbconvert_exporter": "python",
   "pygments_lexer": "ipython3",
   "version": "3.5.4"
  }
 },
 "nbformat": 4,
 "nbformat_minor": 2
}
