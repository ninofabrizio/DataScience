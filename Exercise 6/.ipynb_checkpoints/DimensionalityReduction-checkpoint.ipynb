{
 "cells": [
  {
   "cell_type": "markdown",
   "metadata": {},
   "source": [
    "# Exercise 2.1 - Solution\n",
    "## Authors:\n",
    "- Leonardo Kaplan 1212509\n",
    "- Nino Fabrizio Tiriticco Lizardo 1113203"
   ]
  },
  {
   "cell_type": "code",
   "execution_count": null,
   "metadata": {
    "collapsed": true
   },
   "outputs": [],
   "source": [
    "import pandas as pd # Para carregar os dados do arquivo\n",
    "import seaborn as sns # Para fazer os gráficos do seaborn\n",
    "import matplotlib.pyplot as plt # Para fazer os gráficos do pce e mds\n",
    "from IPython.display import display # Para mostrar mais de uma informação em uma mesma célula\n",
    "\n",
    "from sklearn.decomposition import PCA # Para usar o PCA\n",
    "\n",
    "from sklearn.manifold import MDS # Para usar o MDS\n",
    "from scipy.spatial.distance import pdist, squareform # Para calcular as distâncias ucadas no MD5"
   ]
  },
  {
   "cell_type": "code",
   "execution_count": null,
   "metadata": {
    "collapsed": false
   },
   "outputs": [],
   "source": [
    "# Carregando dados de do arquivo\n",
    "data = pd.read_csv('Files/winequality-red.csv',sep=';')\n",
    "#data.describe()\n",
    "display(data.head())\n",
    "data[\"quality\"].unique() # As classes de vinho(?)"
   ]
  },
  {
   "cell_type": "markdown",
   "metadata": {},
   "source": [
    "## 1) Com o dataset de vinhos, faça uma redução de dimensionalidade para plotar os dados em 2D. Utilize cores distintas para as diversas classes de vinho. Faça isso utilizando PCA e MDS. Discuta as diferenças entre os dois resultados."
   ]
  },
  {
   "cell_type": "code",
   "execution_count": null,
   "metadata": {
    "collapsed": false
   },
   "outputs": [],
   "source": [
    "# Função para adicionar coluna de cores com uma respectiva cor para cada classe de vinho\n",
    "def addcolor(dataframe):\n",
    "\n",
    "    df = dataframe.copy()\n",
    "    df['color'] = 0\n",
    "    df.loc[df['quality'] == 3, 'color'] = 'red'\n",
    "    df.loc[df['quality'] == 4, 'color'] = 'green'\n",
    "    df.loc[df['quality'] == 5, 'color'] = 'blue'\n",
    "    df.loc[df['quality'] == 6, 'color'] = 'yellow'\n",
    "    df.loc[df['quality'] == 7, 'color'] = 'orange'\n",
    "    df.loc[df['quality'] == 8, 'color'] = 'black'\n",
    "    \n",
    "    return df"
   ]
  },
  {
   "cell_type": "markdown",
   "metadata": {},
   "source": [
    "# <span style=color:red>Atenção!</span>\n",
    "Confirmar que as \"diversas classes de vinho\" são de fato os valores em 'quality'."
   ]
  },
  {
   "cell_type": "code",
   "execution_count": null,
   "metadata": {
    "collapsed": false
   },
   "outputs": [],
   "source": [
    "winesDF = addcolor(data)"
   ]
  },
  {
   "cell_type": "code",
   "execution_count": null,
   "metadata": {
    "collapsed": false
   },
   "outputs": [],
   "source": [
    "# PCA\n",
    "pca = PCA(n_components=2)\n",
    "fit_t = pca.fit_transform(data)\n",
    "\n",
    "fig = plt.figure()\n",
    "ax = fig.add_subplot(111)\n",
    "ax.set_title('PCA of wine data')\n",
    "ax.set_xlabel('PC-1')\n",
    "ax.set_ylabel('PC-2')\n",
    "ax.scatter(x=fit_t[:, 0], y=fit_t[:, 1], c=winesDF['color'])\n",
    "\n",
    "plt.show()"
   ]
  },
  {
   "cell_type": "code",
   "execution_count": null,
   "metadata": {
    "collapsed": false
   },
   "outputs": [],
   "source": [
    "# MDS\n",
    "D = pdist(data, metric='euclidean')\n",
    "D = squareform(D)\n",
    "\n",
    "mds = MDS(n_components=2, dissimilarity='precomputed')\n",
    "fit_t = mds.fit_transform(D)\n",
    "\n",
    "fig = plt.figure()\n",
    "\n",
    "ax = fig.add_subplot(111)\n",
    "ax.set_title('MDS of wine data')\n",
    "ax.set_xlabel('PC-1')\n",
    "ax.set_ylabel('PC-2')\n",
    "ax.scatter(x=fit_t[:, 0], y=fit_t[:, 1], c=winesDF['color'])\n",
    "\n",
    "plt.show()"
   ]
  },
  {
   "cell_type": "markdown",
   "metadata": {},
   "source": [
    "## PCA\n",
    "O resultado encontrado no PCA é sempre o mesmo, o que faz sentido se ele sempre irá selecionar apenas aqueles atributos que explicam maior parte da variância nos dados do nosso data set.<br/>\n",
    "Seu gráfico mostra que as classes se concentram mais no valor 50 da coordenada X, não passando deste, e suas componentes vão se espalhando mais antre ambos os eixos conforme vai diminuindo o eixo X. Vale destacar também que dois valores da classe 7 estão completamente isolados do resto dos dados.\n",
    "<br/><br/>\n",
    "## MDS\n",
    "Para o MDS, podemos encontar diferentes representações gráficas para o mesmo data set. A razão disso talvez seja porque as componentes geram diferentes matrizes de distância por terem pouca variância em seus atributos.<br/>\n",
    "A principal diferença que vemos com PCA é que os valores estão mais agrupados no MDS e não se espalham tanto quanto no PCA. Isso deve dizer que no MDS a variância encontrada não é tão ampla. Também podemos voltar a ver os dois valores da classe 7 que estão muito afastados do resto dos valores."
   ]
  },
  {
   "cell_type": "markdown",
   "metadata": {},
   "source": [
    "## 2) Utilizando o seaborn, faça um grid cujas colunas são os níveis de qualidade dos vinhos e as linhas são os diversos atributos (do dataset original, e não do redimensionado)."
   ]
  },
  {
   "cell_type": "code",
   "execution_count": null,
   "metadata": {
    "collapsed": true
   },
   "outputs": [],
   "source": []
  }
 ],
 "metadata": {
  "kernelspec": {
   "display_name": "Python 3",
   "language": "python",
   "name": "python3"
  },
  "language_info": {
   "codemirror_mode": {
    "name": "ipython",
    "version": 3
   },
   "file_extension": ".py",
   "mimetype": "text/x-python",
   "name": "python",
   "nbconvert_exporter": "python",
   "pygments_lexer": "ipython3",
   "version": "3.5.4"
  }
 },
 "nbformat": 4,
 "nbformat_minor": 1
}
