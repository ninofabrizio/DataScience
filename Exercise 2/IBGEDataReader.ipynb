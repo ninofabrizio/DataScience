{
 "cells": [
  {
   "cell_type": "markdown",
   "metadata": {},
   "source": [
    "# Exercise 1.2 - Solution\n",
    "## Authors:\n",
    "- Leonardo Kaplan (matrícula aqui)\n",
    "- Nino Fabrizio Tiriticco Lizardo 1113203"
   ]
  },
  {
   "cell_type": "code",
   "execution_count": null,
   "metadata": {
    "collapsed": true
   },
   "outputs": [],
   "source": [
    "# We will use this library to read the Excel Files (execute this cell to make it available for)\n",
    "import pandas"
   ]
  },
  {
   "cell_type": "code",
   "execution_count": null,
   "metadata": {
    "collapsed": false
   },
   "outputs": [],
   "source": [
    "# Getting data from IBGE\n",
    "Data2013 = pandas.read_excel('http://servicodados.ibge.gov.br/Download/Download.ashx?u=ftp.ibge.gov.br/Acesso_a_internet_e_posse_celular/2013/tabelas_xls/01pessoas/02equipamentos.xls',\n",
    "                             sheetname = 'Tab 1.2.1.1 e 1.2.1.2')\n",
    "Data2014 = pandas.read_excel('http://servicodados.ibge.gov.br/Download/Download.ashx?u=ftp.ibge.gov.br/Acesso_a_internet_e_posse_celular/2014/Tabelas_de_Resultados/xlsx/01_Pessoas_de_10_Anos_ou_Mais_de_Idade/02_Equipamento_Utlizado_para_Acessar_a_Internet.xlsx',\n",
    "                            sheetname = 'Tab 1.2.1.1 e 1.2.1.2')\n",
    "Data2015 = pandas.read_excel('http://servicodados.ibge.gov.br/Download/Download.ashx?u=ftp.ibge.gov.br/Acesso_a_internet_e_posse_celular/2015/Tabelas_de_Resultados/xlsx/01_Pessoas_de_10_Anos_ou_Mais_de_Idade/02_Equipamento_Utlizado_para_Acessar_a_Internet.xlsx',\n",
    "                            sheetname = 'Tab 1.2.1.1 e 1.2.1.2')"
   ]
  },
  {
   "cell_type": "code",
   "execution_count": null,
   "metadata": {
    "collapsed": false
   },
   "outputs": [],
   "source": [
    "# Checking column names from Data2013. All the 3 files contain the same kind of data, so it's expected we see something like this \n",
    "# in Data2014 and Data2015\n",
    "Data2013.columns"
   ]
  },
  {
   "cell_type": "code",
   "execution_count": null,
   "metadata": {
    "collapsed": false
   },
   "outputs": [],
   "source": [
    "# Checkin column 'Unnamed: 1''s content\n",
    "Data2013['Unnamed: 1']"
   ]
  },
  {
   "cell_type": "code",
   "execution_count": null,
   "metadata": {
    "collapsed": false
   },
   "outputs": [],
   "source": [
    "# And column 'Unnamed: 6''s content. Columns 'Unnamed: 1' to 'Unnamed: 6' seem to be the columns that hold the numeric data we need.\n",
    "Data2013['Unnamed: 6']"
   ]
  },
  {
   "cell_type": "code",
   "execution_count": null,
   "metadata": {
    "collapsed": false
   },
   "outputs": [],
   "source": [
    "# The first column seems to hold the category of each row's numeric value\n",
    "Data2013['Tabela 1.2.1.1 - Pessoas de 10 anos ou mais de idade que utilizaram a Internet, no período de referência dos últimos três meses, por Grandes Regiões, segundo o equipamento utilizado para acessar a Internet - 2013']"
   ]
  },
  {
   "cell_type": "code",
   "execution_count": null,
   "metadata": {
    "collapsed": true
   },
   "outputs": [],
   "source": []
  }
 ],
 "metadata": {
  "kernelspec": {
   "display_name": "Python 3",
   "language": "python",
   "name": "python3"
  },
  "language_info": {
   "codemirror_mode": {
    "name": "ipython",
    "version": 3
   },
   "file_extension": ".py",
   "mimetype": "text/x-python",
   "name": "python",
   "nbconvert_exporter": "python",
   "pygments_lexer": "ipython3",
   "version": "3.5.4"
  }
 },
 "nbformat": 4,
 "nbformat_minor": 0
}
