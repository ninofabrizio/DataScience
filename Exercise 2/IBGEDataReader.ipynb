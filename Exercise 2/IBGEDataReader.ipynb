{
 "cells": [
  {
   "cell_type": "markdown",
   "metadata": {},
   "source": [
    "# Exercise 1.2 - Solution\n",
    "## Authors:\n",
    "- Leonardo Kaplan 1212509\n",
    "- Nino Fabrizio Tiriticco Lizardo 1113203"
   ]
  },
  {
   "cell_type": "code",
   "execution_count": null,
   "metadata": {
    "collapsed": true
   },
   "outputs": [],
   "source": [
    "# Importanto pacote pandas para baixar os dados dos arquivos do IBGE\n",
    "import pandas"
   ]
  },
  {
   "cell_type": "code",
   "execution_count": null,
   "metadata": {
    "collapsed": false
   },
   "outputs": [],
   "source": [
    "# Pegando dados de apenas 3 arquivos, seguindo o requisitado pelo enunciado do trabalho\n",
    "# Em alguns lugares deve-se substituir sheetname por sheet_name, ainda não sabemos o que gera o warning\n",
    "Data2013 = pandas.read_excel('http://servicodados.ibge.gov.br/Download/Download.ashx?u=ftp.ibge.gov.br/Acesso_a_internet_e_posse_celular/2013/tabelas_xls/01pessoas/02equipamentos.xls',\n",
    "                             sheetname = 'Tab 1.2.1.1 e 1.2.1.2')\n",
    "Data2014 = pandas.read_excel('http://servicodados.ibge.gov.br/Download/Download.ashx?u=ftp.ibge.gov.br/Acesso_a_internet_e_posse_celular/2014/Tabelas_de_Resultados/xlsx/01_Pessoas_de_10_Anos_ou_Mais_de_Idade/02_Equipamento_Utlizado_para_Acessar_a_Internet.xlsx',\n",
    "                            sheetname = 'Tab 1.2.1.1 e 1.2.1.2')\n",
    "Data2015 = pandas.read_excel('http://servicodados.ibge.gov.br/Download/Download.ashx?u=ftp.ibge.gov.br/Acesso_a_internet_e_posse_celular/2015/Tabelas_de_Resultados/xlsx/01_Pessoas_de_10_Anos_ou_Mais_de_Idade/02_Equipamento_Utlizado_para_Acessar_a_Internet.xlsx',\n",
    "                            sheetname = 'Tab 1.2.1.1 e 1.2.1.2')"
   ]
  },
  {
   "cell_type": "code",
   "execution_count": null,
   "metadata": {
    "collapsed": false
   },
   "outputs": [],
   "source": [
    "#Visualização preliminar dos dados\n",
    "#Data2013\n",
    "#Data2014\n",
    "#Data2015"
   ]
  },
  {
   "cell_type": "code",
   "execution_count": null,
   "metadata": {
    "collapsed": true
   },
   "outputs": [],
   "source": [
    "#função genérica (para esse padrão) de limpeza e filtragem de dados (segundo nossas necessidades)\n",
    "#observação: muitas das operações abaixo tiveram mais fins didáticos que produtivos\n",
    "def cleanData(dataSource,year):\n",
    "    #remoção de cabeçalhos inúteis\n",
    "    data = dataSource[dataSource.columns[:7]]\n",
    "    #renomeando as colunas\n",
    "    data.columns.values[0] = 'Uso'\n",
    "    data.columns.values[1] = data[data.columns.values[1]][2]\n",
    "    for i in range(2,7):\n",
    "        data.columns.values[i] = data[data.columns.values[i]][3]\n",
    "    #retirando linhas não úteis\n",
    "    data = data[5:-2]\n",
    "    \n",
    "    #criando a coluna Equipamento, discriminadora\n",
    "    equip = []\n",
    "    indx = []\n",
    "    #existem dados que andam de 3 em 3\n",
    "    for i in range(0,len(data)-6,4):\n",
    "        equip += [data[data.columns.values[0]].values[i]]*3\n",
    "        indx += [i]\n",
    "    #e dados que andam de 2 em 2\n",
    "    for i in range(len(data)-6,len(data),3):\n",
    "        equip += [data[data.columns.values[0]].values[i]]*2\n",
    "        indx += [i]\n",
    "    #limpeza dos cabeçalhos internos\n",
    "    data = data.drop(data.index[indx])\n",
    "    #Normalização dos valores de 'Somente X' para 'Somente'\n",
    "    data[data.columns.values[0]] = data[data.columns.values[0]].str.replace(r'Somente .+','Somente')\n",
    "    #inserindo a coluna equipamento, agora com a dimensionalidade correta\n",
    "    data['Equipamento'] = equip\n",
    "    #inserção da coluna ano\n",
    "    data['Ano'] = year\n",
    "    return data"
   ]
  },
  {
   "cell_type": "code",
   "execution_count": null,
   "metadata": {
    "collapsed": false
   },
   "outputs": [],
   "source": [
    "#reunião dos diversos anos em uma tabela única\n",
    "data = [cleanData(Data2013,2013),cleanData(Data2014,2014),cleanData(Data2015,2015)]\n",
    "data = pandas.concat(data)\n",
    "data = data.reset_index(drop = True)\n",
    "data"
   ]
  },
  {
   "cell_type": "code",
   "execution_count": null,
   "metadata": {
    "collapsed": false
   },
   "outputs": [],
   "source": [
    "#Agora realizando o trabalho de fato, filtramos apenas o que interessa\n",
    "indx = []\n",
    "wanted = ['Microcomputador','Tablet','Telefone móvel celular']\n",
    "for i in range(0, len(data.index)):\n",
    "    if 'Utilizaram' not in data.iloc[i]['Uso']:\n",
    "        indx += [i]\n",
    "data = data.drop(data.index[indx])\n",
    "data = data[data.Equipamento.isin(wanted)]\n",
    "data = data.reset_index(drop = True)\n",
    "data"
   ]
  },
  {
   "cell_type": "code",
   "execution_count": 113,
   "metadata": {},
   "outputs": [
    {
     "data": {
      "text/plain": [
       "47"
      ]
     },
     "execution_count": 113,
     "metadata": {},
     "output_type": "execute_result"
    }
   ],
   "source": [
    "len(data.index)-1"
   ]
  },
  {
   "cell_type": "code",
   "execution_count": 159,
   "metadata": {},
   "outputs": [
    {
     "data": {
      "text/plain": [
       "False"
      ]
     },
     "execution_count": 159,
     "metadata": {},
     "output_type": "execute_result"
    }
   ],
   "source": [
    "'Telefone móvel celular' is not 'Telefone móvel celular'"
   ]
  },
  {
   "cell_type": "code",
   "execution_count": null,
   "metadata": {
    "collapsed": true
   },
   "outputs": [],
   "source": []
  }
 ],
 "metadata": {
  "kernelspec": {
   "display_name": "Python 3",
   "language": "python",
   "name": "python3"
  },
  "language_info": {
   "codemirror_mode": {
    "name": "ipython",
    "version": 3
   },
   "file_extension": ".py",
   "mimetype": "text/x-python",
   "name": "python",
   "nbconvert_exporter": "python",
   "pygments_lexer": "ipython3",
   "version": "3.5.4"
  }
 },
 "nbformat": 4,
 "nbformat_minor": 1
}
