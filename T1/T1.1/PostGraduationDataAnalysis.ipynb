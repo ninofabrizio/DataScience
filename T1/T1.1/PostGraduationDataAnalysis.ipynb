{
 "cells": [
  {
   "cell_type": "markdown",
   "metadata": {},
   "source": [
    "# T1.1 - Solution\n",
    "## Authors:\n",
    "- Leonardo Kaplan 1212509\n",
    "- Nino Fabrizio Tiriticco Lizardo 1113203"
   ]
  },
  {
   "cell_type": "code",
   "execution_count": null,
   "metadata": {
    "collapsed": true
   },
   "outputs": [],
   "source": [
    "# Pacotes usados\n",
    "import pandas as pd # Para pegar os dados dos arquivos\n",
    "from IPython.display import display # Para mostrar mais de uma informação em uma mesma célula\n",
    "import ast # Para transformar string/object em estruturas de dados (listas, dicionários, ...)\n",
    "import numpy as np # Para obter o total de valores por um atributo"
   ]
  },
  {
   "cell_type": "code",
   "execution_count": null,
   "metadata": {
    "collapsed": true
   },
   "outputs": [],
   "source": [
    "# Carregando dados de cada um dos arquivos\n",
    "DataQualisRaw = pd.read_excel('Files/Qualis CC 2013-2016.xlsx')\n",
    "DataDocentesRaw = pd.read_csv('Files/docentes.csv')\n",
    "DataDiscentesRaw = pd.read_csv('Files/discentes.csv')\n",
    "DataProducaoRaw = pd.read_csv('Files/producao.csv')\n",
    "DataTrabalhosRaw = pd.read_csv('Files/trabalhos.csv')"
   ]
  },
  {
   "cell_type": "markdown",
   "metadata": {},
   "source": [
    "## Análise prévia dos dados:"
   ]
  },
  {
   "cell_type": "code",
   "execution_count": null,
   "metadata": {},
   "outputs": [],
   "source": [
    "# Pela função info, parece que temos todos os dados disponíveis para cada coluna (sem valores nulos)\n",
    "display(DataQualisRaw.info())\n",
    "\n",
    "# Pelas 5 primeiras tuplas, os dados parecem não precisar tratamento\n",
    "DataQualisRaw.head()\n",
    "\n",
    "# Fazendo uma análise prévia dos dados, DataQualisRaw parece representar o título de papers associado a um código(?)"
   ]
  },
  {
   "cell_type": "code",
   "execution_count": null,
   "metadata": {},
   "outputs": [],
   "source": [
    "# Pela função info, parece que temos todos os dados disponíveis para cada coluna (sem valores nulos)\n",
    "display(DataDocentesRaw.info())\n",
    "\n",
    "# Pelas 5 primeiras tuplas, os dados parecem não precisar tratamento\n",
    "DataDocentesRaw.head()\n",
    "\n",
    "# Fazendo uma análise prévia dos dados, DataDocentesRaw parece representar docentes e sua relação com a instiuição acadêmica/universidade"
   ]
  },
  {
   "cell_type": "code",
   "execution_count": null,
   "metadata": {},
   "outputs": [],
   "source": [
    "# Pela função info, parece que temos dados faltando para algumas das colunas (há valores nulos)\n",
    "display(DataDiscentesRaw.info())\n",
    "\n",
    "# Pelas tabela, devemos precisar tratar os dados da coluna \"abrev\". Importante ressaltar que alguns dos dados em \"orientadores\" parecem representar listas de dicionários através de string/object.\n",
    "DataDiscentesRaw.head()\n",
    "\n",
    "# Fazendo uma análise prévia dos dados, DataDiscentesRaw parece representar os alunos de pós-graduação das instituições acadêmicas/universidades e todos os dados atrelados a eles."
   ]
  },
  {
   "cell_type": "code",
   "execution_count": null,
   "metadata": {},
   "outputs": [],
   "source": [
    "# A função info nos mostra que temos valores nulos em algumas das colunas (total de valores não-nulos menor que o total de tuplas da tabela)\n",
    "display(DataProducaoRaw.info())\n",
    "\n",
    "pd.set_option('display.max_columns', 35) # Para poder visualizar todas as colunas deste data frame\n",
    "\n",
    "# As 5 primeiras tuplas da tabela nos mostram que pelo menos alguns dados precisam ser tratados nas colunas:\n",
    "# - dict_paper_autores (os dados dessa coluna na verdade representam listas de dicionários) [VER PRÓXIMA CÉLULA]\n",
    "# - paper_autores (os dados dessa coluna na verdade representam listas de strings/objects) [VER CÉLULA PRÓXIMA À SEGUINTE]\n",
    "# - doi\n",
    "# - periodico (talvez?)\n",
    "# - ano (número fracionário para ano faz sentido? cuidado, faz sim se formos considerar como período [ex.: 2018.1 e 2018.2])\n",
    "DataProducaoRaw.head()\n",
    "\n",
    "# Fazendo uma análise prévia dos dados, parece que DataProducaoRaw lista papers publicados por integrantes (docentes?) de instituições acadêmicas/universidades, informando vários outros dados ligados a esses papers."
   ]
  },
  {
   "cell_type": "code",
   "execution_count": null,
   "metadata": {},
   "outputs": [],
   "source": [
    "# Vemos que uma célula da segunda coluna de DataProducaoRaw é uma string/object que representa uma lista de dicionários\n",
    "display(DataProducaoRaw['dict_paper_autores'][0])\n",
    "\n",
    "# Transformando uma dessas string/objects em uma lista de dicionários\n",
    "dictionaryList = ast.literal_eval(DataProducaoRaw['dict_paper_autores'][0])\n",
    "\n",
    "display(dictionaryList) # Lista de dicionários\n",
    "display(dictionaryList[0]) # Dicionário\n",
    "display(dictionaryList[0]['categoria']) # Valor atribuído à chave 'categoria'\n",
    "dictionaryList[0]['nome'] # Valor atribuído à chave 'nome'"
   ]
  },
  {
   "cell_type": "code",
   "execution_count": null,
   "metadata": {},
   "outputs": [],
   "source": [
    "# Vemos que uma célula da coluna 'paper_autores' de DataProducaoRaw é uma string/object que representa uma lista de strings/objects\n",
    "display(DataProducaoRaw['paper_autores'][0])\n",
    "\n",
    "stringList = ast.literal_eval(DataProducaoRaw['paper_autores'][0])\n",
    "\n",
    "display(stringList) # Lista de strings/objects\n",
    "display(stringList[0]) # Uma (TADAM!) string/object"
   ]
  },
  {
   "cell_type": "code",
   "execution_count": null,
   "metadata": {},
   "outputs": [],
   "source": [
    "# Pela função info, parece que temos valores nulos em algumas das colunas\n",
    "display(DataTrabalhosRaw.info())\n",
    "\n",
    "# Pelas 5 primeiras tuplas, parece que precisaremos tratar os dados das colunas:\n",
    "# - keywords\n",
    "# - palavras-chave\n",
    "# - paginas (número fracionário para páginas faz sentido?)\n",
    "# - programa (talvez?)\n",
    "DataTrabalhosRaw.head()\n",
    "\n",
    "# Fazendo uma análise prévia dos dados, DataTrabalhosRaw parece representar os dados referentes aos trabalhos de conclusão de curso dos alunos de pós-graduação"
   ]
  },
  {
   "cell_type": "markdown",
   "metadata": {},
   "source": [
    "## Limpeza dos dados:\n",
    "Obs.: Esta parte pode ser retirada do trabalho, visto que podemos precisar fazer limpezas mais rigorosas para responder uma pergunta e outras menos rigorosas para responder outras perguntas com o mesmo data frame original. Talvez vale a pena manter esta área se conseguirmos fazer uma limpeza otimizada para um mesmo data frame que case bem com todas as perguntas que vão usar o data frame original em questão. Fica como algo extra a fazer no trabalho, se acabarmos com tempo sobrando..."
   ]
  },
  {
   "cell_type": "code",
   "execution_count": null,
   "metadata": {},
   "outputs": [],
   "source": [
    "# Para DataProducaoRaw\n",
    "\n",
    "# Vimos que a tabela \"ano\" possui valores nuyméricos fracionários e um valor nulo. Vemos que apenas dois:\n",
    "display(DataProducaoRaw['ano'].unique())\n",
    "\n",
    "# Vemos que há apenas uma tupla onde temos esse valor e ela na verdade está cheia de valores nulos. Vale a pena retirar ela por esse aspecto, mas podemos usar o valor de \"paper_id\" presente para encontrar problemas equivalentes nos outros data frames que tenham o mesmo id.\n",
    "display(DataProducaoRaw.loc[DataProducaoRaw['ano'].isnull()])\n",
    "\n",
    "# O data frame \"limpo\" (obs.: pode ir mudando conforme vamos respondendo as perguntas)\n",
    "producaoDF = DataProducaoRaw.loc[DataProducaoRaw['ano'].isnull() == False]\n",
    "producaoDF = producaoDF.reset_index(drop = True)\n",
    "producaoDF.info()"
   ]
  },
  {
   "cell_type": "markdown",
   "metadata": {},
   "source": [
    "# Perguntas:\n",
    "## 1) Quantos professores (docentes) havia em cada instituição em 2017, em cada quadro (permanente, colaborador)?"
   ]
  },
  {
   "cell_type": "code",
   "execution_count": null,
   "metadata": {},
   "outputs": [],
   "source": [
    "# DataDocentesRaw contém os dados necessários para responder a pergunta (colunas \"ies\" e \"categoria\")\n",
    "DataDocentesRaw.head()"
   ]
  },
  {
   "cell_type": "code",
   "execution_count": null,
   "metadata": {},
   "outputs": [],
   "source": [
    "# Verificando quais as instituições, parecem OK\n",
    "display(DataDocentesRaw['ies'].unique())\n",
    "\n",
    "# Verificando quais as categorias, parecem OK\n",
    "DataDocentesRaw['categoria'].unique()"
   ]
  },
  {
   "cell_type": "code",
   "execution_count": null,
   "metadata": {},
   "outputs": [],
   "source": [
    "# Montando nosso data frame\n",
    "docentesByIESDF = pd.DataFrame(columns=('IES', 'Permanentes', 'Colaboradores'))\n",
    "docentesByIESDF['IES'] = DataDocentesRaw['ies'].unique()\n",
    "docentesByIESDF['Permanentes'] = 0\n",
    "docentesByIESDF['Colaboradores'] = 0\n",
    "\n",
    "# Percorrendo o data frame original para fazer a contagem dos tipos de docente por instituição\n",
    "for indx in range(0, len(DataDocentesRaw)):\n",
    "    if DataDocentesRaw['categoria'][indx] == 'PERMANENTE':\n",
    "        docentesByIESDF.loc[docentesByIESDF['IES'] == DataDocentesRaw['ies'][indx], 'Permanentes'] += 1\n",
    "    elif DataDocentesRaw['categoria'][indx] == 'COLABORADOR':\n",
    "        docentesByIESDF.loc[docentesByIESDF['IES'] == DataDocentesRaw['ies'][indx], 'Colaboradores'] += 1\n",
    "    else: # Caso encontremos um imprevisto\n",
    "        print(\"\\'categoria\\' error! Value:\", DataDocentesRaw['categoria'][indx], \" Row:\", indx)\n",
    "        \n",
    "# O resultado obtido\n",
    "docentesByIESDF"
   ]
  },
  {
   "cell_type": "markdown",
   "metadata": {},
   "source": [
    "## <span style=\"color:green\">Desejável para a questão:</span>\n",
    "- Mostrar um gráfico (barras na vertical?) com os valores obtidos "
   ]
  },
  {
   "cell_type": "markdown",
   "metadata": {},
   "source": [
    "## 2) Quantos alunos (discentes) de Mestrado/Doutorado havia em cada programa em 2017?"
   ]
  },
  {
   "cell_type": "code",
   "execution_count": null,
   "metadata": {},
   "outputs": [],
   "source": [
    "# DataDiscentesRaw contém os dados necessários para responder a pergunta (colunas \"nivel\" e \"programa\")\n",
    "DataDiscentesRaw.head()"
   ]
  },
  {
   "cell_type": "code",
   "execution_count": null,
   "metadata": {},
   "outputs": [],
   "source": [
    "# Pegando apenas as colunas que queremos\n",
    "discentesDFQ2 = DataDiscentesRaw[['nivel','programa']]\n",
    "display(discentesDFQ2.head()) # Vemos que temos uma coluna com valores vazios\n",
    "\n",
    "display(discentesDFQ2.info()) # Vemos que 3 valores para cada coluna estão comprometidos\n",
    "\n",
    "display(discentesDFQ2.loc[discentesDFQ2['nivel'].isnull()]) # Felizmente vemos que os 3 valores de cada coluna fazem parte das mesmas tuplas\n",
    "\n",
    "# Limpando o data frame e mantendo a ordenação dos índices\n",
    "discentesDFQ2 = discentesDFQ2.loc[discentesDFQ2['nivel'].isnull() == False]\n",
    "discentesDFQ2 = discentesDFQ2.reset_index(drop = True)\n",
    "discentesDFQ2.info()"
   ]
  },
  {
   "cell_type": "code",
   "execution_count": null,
   "metadata": {},
   "outputs": [],
   "source": [
    "# Verificando valores em \"nivel\", vemos que existe pelo menos um valor 'Graduação' que não nos interessa\n",
    "display(discentesDFQ2['nivel'].unique())\n",
    "\n",
    "# Verificando valores em \"programa\"\n",
    "display(discentesDFQ2['programa'].unique())\n",
    "\n",
    "# Eliminando valores 'Graduação', obtemos uma redução considerável de tuplas\n",
    "discentesDFQ2 = discentesDFQ2.loc[discentesDFQ2['nivel'] != 'Graduação']\n",
    "discentesDFQ2 = discentesDFQ2.reset_index(drop = True)\n",
    "discentesDFQ2.info()"
   ]
  },
  {
   "cell_type": "code",
   "execution_count": null,
   "metadata": {},
   "outputs": [],
   "source": [
    "# Montando nosso data frame\n",
    "discentesByPrograma = pd.DataFrame(columns=('Programa', 'Mestrandos', 'Doutorandos'))\n",
    "discentesByPrograma['Programa'] = discentesDFQ2['programa'].unique()\n",
    "discentesByPrograma['Mestrandos'] = 0\n",
    "discentesByPrograma['Doutorandos'] = 0\n",
    "\n",
    "# Percorrendo o data frame limpo para fazer a contagem dos tipos de nível por programa\n",
    "for indx in range(0, len(discentesDFQ2)):\n",
    "    if discentesDFQ2['nivel'][indx] == 'Mestrado':\n",
    "        discentesByPrograma.loc[discentesByPrograma['Programa'] == discentesDFQ2['programa'][indx], 'Mestrandos'] += 1\n",
    "    elif discentesDFQ2['nivel'][indx] == 'Doutorado':\n",
    "        discentesByPrograma.loc[discentesByPrograma['Programa'] == discentesDFQ2['programa'][indx], 'Doutorandos'] += 1\n",
    "    else: # Caso encontremos um imprevisto\n",
    "        print(\"\\'nivel\\' error! Value:\", discentesDFQ2['nivel'][indx], \" Row:\", indx)\n",
    "        \n",
    "# O resultado obtido\n",
    "discentesByPrograma"
   ]
  },
  {
   "cell_type": "markdown",
   "metadata": {},
   "source": [
    "## <span style=\"color:green\">Desejável para a questão:</span>\n",
    "- Mostrar um gráfico (barras na vertical?) com os valores obtidos"
   ]
  },
  {
   "cell_type": "markdown",
   "metadata": {},
   "source": [
    "## 3) Qual foi a taxa de alunos de Mestrado/Doutorado por professor do quadro permanente em cada programa em 2017?\n",
    "<br/>\n",
    "<br/>\n",
    "Help: Ordenar lista de professores permanentes por programa (dicionário? key: programa; valor: lista) e pra cada professor dessa lista dizer quantos mestrandos e quantos doutorandos(dicionário? key: professor; valor: lista tamanho 2 com valor total de mestrando e valor total de doutorandos **OU** data frame com professor - mestrandos - doutorandos). :^)"
   ]
  },
  {
   "cell_type": "markdown",
   "metadata": {},
   "source": [
    "# <span style=\"color:red\">Solução errada!</span>\n",
    "É pra mostrar (apenas) taxa Total ALunos/Total Professores para cada programa. Refazer tudo. :("
   ]
  },
  {
   "cell_type": "code",
   "execution_count": null,
   "metadata": {},
   "outputs": [],
   "source": [
    "# Vamos usar os data frames abaixo\n",
    "display(DataDocentesRaw.head()) # Nos diz que professor é permanente\n",
    "DataDiscentesRaw.head() # Nos diz qual o nível do aluno, o programa do qual fez parte e quem foi seu professor"
   ]
  },
  {
   "cell_type": "code",
   "execution_count": null,
   "metadata": {},
   "outputs": [],
   "source": [
    "# Começando por DataDiscentesRaw\n",
    "discentesDFQ3 = DataDiscentesRaw[['nivel','programa', 'orientador', 'orientadores']]\n",
    "display(discentesDFQ3.info()) # Vemos que coluna 'orientador' tem muitos valores faltando e 'orientadores' tem menos, estranho\n",
    "display(discentesDFQ3[0:1]) # A primeira linha nos mostra que existe um array em 'orientadores' mas este está vazio enquanto 'orientador' está com NaN, deve ser o que está causando a diferença numérica entre as colunas\n",
    "\n",
    "# Retirando todas as colunas onde 'orientador' está nulo\n",
    "discentesDFQ3 = discentesDFQ3.loc[discentesDFQ3['orientador'].isnull() == False]\n",
    "discentesDFQ3 = discentesDFQ3.reset_index(drop = True)\n",
    "display(discentesDFQ3.info()) # Agora todas as colunas possuem a mesma quantidade de linhas, originalmente sendo a de 'orientador' (o menor valor que tínhamos antes)\n",
    "\n",
    "# Vemos que acabamos tirando o valor 'Graduação' em 'nivel' no meio dessa limpeza\n",
    "display(discentesDFQ2['nivel'].unique())\n",
    "\n",
    "discentesDFQ3.head()"
   ]
  },
  {
   "cell_type": "code",
   "execution_count": null,
   "metadata": {},
   "outputs": [],
   "source": [
    "# Agora vamos com DataDocentesRaw\n",
    "docentesDFQ3 = DataDocentesRaw[['categoria','nome']]\n",
    "display(docentesDFQ3.info()) # Parece tudo OK\n",
    "\n",
    "# Eliminando valores 'COLABORADOR'\n",
    "docentesDFQ3 = docentesDFQ3.loc[docentesDFQ3['categoria'] != 'COLABORADOR']\n",
    "docentesDFQ3 = docentesDFQ3.reset_index(drop = True)\n",
    "display(docentesDFQ3.info()) # A redução não foi tão expressiva\n",
    "\n",
    "docentesDFQ3.head()"
   ]
  },
  {
   "cell_type": "code",
   "execution_count": null,
   "metadata": {},
   "outputs": [],
   "source": [
    "# Montando um dicionário, usando valores de coluna 'programa' como chave\n",
    "q3Dictionary = {discentesDFQ3['programa'].unique()[i]: 0 for i in range(0, len(discentesDFQ3['programa'].unique()))}\n",
    "\n",
    "# Procurando valores por valor 'programa'\n",
    "for key in q3Dictionary.keys():\n",
    "    # Reduzindo meu data frame 'doscentes' para o valor 'programa' da iteração\n",
    "    tempDiscentesDFQ3 = discentesDFQ3.loc[discentesDFQ3['programa'] == key]\n",
    "    \n",
    "    # Reduzindo o data frame temporário ainda mais para valores 'orientador' com valor 'PERMANENTE'\n",
    "    tempDiscentesDFQ3 = tempDiscentesDFQ3.loc[tempDiscentesDFQ3['orientador'].isin(docentesDFQ3['nome'])]\n",
    "    tempDiscentesDFQ3 = tempDiscentesDFQ3.reset_index(drop = True)\n",
    "    \n",
    "    # Criando data frame a entrar como valor no dicionário\n",
    "    discentesByOrientador = pd.DataFrame(columns=('Professor', 'Mestrandos', 'Doutorandos'))\n",
    "    discentesByOrientador['Professor'] = tempDiscentesDFQ3['orientador'].unique()\n",
    "    discentesByOrientador['Mestrandos'] = 0\n",
    "    discentesByOrientador['Doutorandos'] = 0\n",
    "    discentesByOrientador['Taxa Mestrandos'] = 0.0\n",
    "    discentesByOrientador['Taxa Doutorandos'] = 0.0\n",
    "    discentesByOrientador['Taxa Alunos'] = 0.0\n",
    "    \n",
    "    # Percorrendo o data frame temporário para fazer a contagem dos tipos de nível por orientador\n",
    "    for indx in range(0, len(tempDiscentesDFQ3)):\n",
    "        if tempDiscentesDFQ3['nivel'][indx] == 'Mestrado':\n",
    "            discentesByOrientador.loc[discentesByOrientador['Professor'] == tempDiscentesDFQ3['orientador'][indx], 'Mestrandos'] += 1\n",
    "        elif tempDiscentesDFQ3['nivel'][indx] == 'Doutorado':\n",
    "            discentesByOrientador.loc[discentesByOrientador['Professor'] == tempDiscentesDFQ3['orientador'][indx], 'Doutorandos'] += 1\n",
    "        else: # Caso encontremos um imprevisto\n",
    "            print(\"\\'nivel\\' error! Value:\", tempDiscentesDFQ3['nivel'][indx], \" Row:\", indx)\n",
    "    \n",
    "    # Calculando valores totais POR PROGRAMA\n",
    "    totalMestrandos = np.sum(discentesByOrientador[['Mestrandos']].sum())\n",
    "    totalDoutorandos = np.sum(discentesByOrientador[['Doutorandos']].sum())\n",
    "    totalAlunos = np.sum(discentesByOrientador[['Mestrandos', 'Doutorandos']].sum())\n",
    "    \n",
    "    # Percorrendo o data frame temporário para calcular as taxas\n",
    "    for indx in range(0, len(discentesByOrientador)):\n",
    "        # O total de alunos DO PROFESSOR\n",
    "        totalAlunosByProfessor = np.sum(discentesByOrientador.loc[discentesByOrientador['Professor'] == discentesByOrientador['Professor'][indx]][['Mestrandos', 'Doutorandos']].sum())\n",
    "        \n",
    "        # Calculo das taxas DO PROFESSOR em relação ao TOTAL DO PROGRAMA\n",
    "        discentesByOrientador.loc[discentesByOrientador['Professor'] == discentesByOrientador['Professor'][indx], 'Taxa Mestrandos'] = 100.* discentesByOrientador['Mestrandos'][indx] / totalMestrandos\n",
    "        discentesByOrientador.loc[discentesByOrientador['Professor'] == discentesByOrientador['Professor'][indx], 'Taxa Doutorandos'] = 100.* discentesByOrientador['Doutorandos'][indx] / totalDoutorandos\n",
    "        discentesByOrientador.loc[discentesByOrientador['Professor'] == discentesByOrientador['Professor'][indx], 'Taxa Alunos'] = 100.* totalAlunosByProfessor / totalAlunos\n",
    "    \n",
    "    q3Dictionary[key] = discentesByOrientador # Associando data frame à respectiva chave do dicionário\n",
    "\n",
    "# O dicionário/monstro final\n",
    "q3Dictionary"
   ]
  },
  {
   "cell_type": "code",
   "execution_count": null,
   "metadata": {
    "scrolled": true
   },
   "outputs": [],
   "source": [
    "# Para visualizar todas as tuplas\n",
    "pd.set_option('display.max_rows', None)\n",
    "\n",
    "# Mostrando os resultados obtidos\n",
    "for key in q3Dictionary.keys():\n",
    "    dataFrame = q3Dictionary[key]\n",
    "    print(\"\\n\\n\\n\\n\\nPrograma: \", key)\n",
    "    display(dataFrame)"
   ]
  },
  {
   "cell_type": "code",
   "execution_count": null,
   "metadata": {},
   "outputs": [],
   "source": [
    "# Apenas de apoio. APAGAR ANTES DE ENTREGAR!!!\n",
    "display(np.sum(discentesByOrientador[['Mestrandos', 'Doutorandos']].sum()))\n",
    "np.sum(discentesByOrientador.loc[discentesByOrientador['Professor'] == 'EDUARDO MARQUES'][['Mestrandos', 'Doutorandos']].sum())"
   ]
  },
  {
   "cell_type": "markdown",
   "metadata": {},
   "source": [
    "## <span style=\"color:green\">Desejável para a questão:</span>\n",
    "- Confirmar que dados na coluna 'orientadores' tenham a mesma informação da sua respectiva tupla na coluna 'orientador' para justificar o uso de apenas 'orientador'. Ou seja, se existe só 1 orientador por aluno. (O nome 'orientadores' leva a crer que o aluno teve mais de um orientador no projeto)\n",
    "- Deixar código do dicionário menos confuso\n",
    "- Ver qual gráfico pode ajudar melhor a visualizar os resultados e implementá-lo"
   ]
  },
  {
   "cell_type": "markdown",
   "metadata": {},
   "source": [
    "## 4) Qual foi a distribuição de alunos de Mestrado/Doutorado pelos professores de cada programa em 2017?"
   ]
  },
  {
   "cell_type": "markdown",
   "metadata": {},
   "source": [
    "Kaplan, o dicionário que fiz na questão 3 aparentemente já tem as respostas para esta questão. Eu sugiro você focar aqui em como representar as informações bem visualmente. Ou você pode apresentar uma tabela mais bonita que meu dicionário que mostre as informações contidas nele, fica a teu critério. :P"
   ]
  },
  {
   "cell_type": "code",
   "execution_count": null,
   "metadata": {
    "collapsed": true
   },
   "outputs": [],
   "source": []
  },
  {
   "cell_type": "markdown",
   "metadata": {},
   "source": [
    "## 5) Quantos alunos de Mestrado/Doutorado defenderam suas dissertações/teses em 2017 (arquivo trabalhos.csv)?"
   ]
  },
  {
   "cell_type": "code",
   "execution_count": null,
   "metadata": {},
   "outputs": [],
   "source": [
    "# Vemos que faltam dados em DataTrabalhosRaw\n",
    "display(DataTrabalhosRaw.info())\n",
    "DataTrabalhosRaw.head()"
   ]
  },
  {
   "cell_type": "code",
   "execution_count": null,
   "metadata": {},
   "outputs": [],
   "source": [
    "# Pegando as colunas que nos interessam e eliminando valores nulos através de uma das colunas do respectivo data frame\n",
    "trabalhosDFQ5 = DataTrabalhosRaw.loc[DataTrabalhosRaw['autor'].isnull() == False][['autor', 'tipo', 'data_defesa']]\n",
    "trabalhosDFQ5 = trabalhosDFQ5.sort_values(['autor', 'tipo'], ascending=[True, True])\n",
    "trabalhosDFQ5 = trabalhosDFQ5.reset_index(drop = True)\n",
    "\n",
    "display(trabalhosDFQ5.head())\n",
    "\n",
    "# Vemos que felizmente nos desfizemos de todos os valores nulos. A coluna \"data_defesa\" foi deixada para nos certificarmos que\n",
    "# todos os discentes aqui presentes realizaram as defesas\n",
    "trabalhosDFQ5.info()"
   ]
  },
  {
   "cell_type": "code",
   "execution_count": null,
   "metadata": {},
   "outputs": [],
   "source": [
    "# Em trabalhosDFQ5 temos apenas Tese e Dissertação, como queremos\n",
    "display(trabalhosDFQ5['tipo'].unique())"
   ]
  },
  {
   "cell_type": "code",
   "execution_count": null,
   "metadata": {},
   "outputs": [],
   "source": [
    "# Calculando o total de Mestrandos e Doutorandos\n",
    "quantityMestrandos = len(trabalhosDFQ5.loc[trabalhosDFQ5['tipo'] == 'DISSERTAÇÃO'])\n",
    "quantityDoutorandos = len(trabalhosDFQ5.loc[trabalhosDFQ5['tipo'] == 'TESE'])\n",
    "\n",
    "print(\"Total Mestrandos:\", quantityMestrandos)\n",
    "print(\"Total Doutorandos:\", quantityDoutorandos)"
   ]
  },
  {
   "cell_type": "markdown",
   "metadata": {},
   "source": [
    "## **<span style=\"color:green\">Desejável para a questão:</span>**\n",
    "- Montar um gráfico de barras mostrando cada um dos valores. Uma barra para cada tipo."
   ]
  },
  {
   "cell_type": "markdown",
   "metadata": {},
   "source": [
    "## 6) Como os trabalhos de Mestrado/Doutorado defendidos em 2017 foram distribuídos pelas áreas de pesquisa dos programas?"
   ]
  },
  {
   "cell_type": "markdown",
   "metadata": {
    "collapsed": true
   },
   "source": [
    "# <span style=\"color:red\">OBS.:</span>\n",
    "Usar coluna tipo de tabela trabalhos para mestrado (tipo == 'DISSERTAÇÃO') e doutorado (tipo == 'TESE'). "
   ]
  },
  {
   "cell_type": "code",
   "execution_count": null,
   "metadata": {
    "collapsed": true
   },
   "outputs": [],
   "source": []
  },
  {
   "cell_type": "markdown",
   "metadata": {},
   "source": [
    "## 7) Como as defesas de Mestrado/Doutorado foram distribuídas ao longo do ano de 2017?"
   ]
  },
  {
   "cell_type": "code",
   "execution_count": null,
   "metadata": {},
   "outputs": [],
   "source": [
    "# Para responder a pergunta, usaremos de novo 'DataTrabalhosRaw' (contém as datas) e 'DataDiscentesRaw' (contém o nivel)\n",
    "display(DataTrabalhosRaw.info())\n",
    "display(DataTrabalhosRaw.head())"
   ]
  },
  {
   "cell_type": "code",
   "execution_count": null,
   "metadata": {},
   "outputs": [],
   "source": [
    "# Pegando os atributos que nos interessa, fazendo as devidas limpezas/conversões\n",
    "trabalhosDFQ7 = DataTrabalhosRaw.loc[(DataTrabalhosRaw['data_defesa'].isnull() == False)][['autor', 'tipo', 'data_defesa']]\n",
    "trabalhosDFQ7['data_defesa'] = pd.to_datetime(trabalhosDFQ7['data_defesa'])\n",
    "trabalhosDFQ7 = trabalhosDFQ7.sort_values(['data_defesa', 'tipo'], ascending=[True, True])\n",
    "trabalhosDFQ7 = trabalhosDFQ7.reset_index(drop = True)\n",
    "\n",
    "display(trabalhosDFQ7.info())\n",
    "trabalhosDFQ7.head()"
   ]
  },
  {
   "cell_type": "code",
   "execution_count": null,
   "metadata": {},
   "outputs": [],
   "source": [
    "# Montando nosso data frame\n",
    "tipoByMes = pd.DataFrame(columns=('Mes', 'Mestrandos', 'Doutorandos'))\n",
    "tipoByMes['Mes'] = trabalhosDFQ7['data_defesa'].dt.month.unique()\n",
    "tipoByMes['Mestrandos'] = 0\n",
    "tipoByMes['Doutorandos'] = 0\n",
    "\n",
    "# Fazendo a contagem em relação ao tipo pra cada mês\n",
    "for indx in range(0, len(trabalhosDFQ7)):\n",
    "    if trabalhosDFQ7['tipo'][indx] == 'DISSERTAÇÃO':\n",
    "        tipoByMes.loc[tipoByMes['Mes'] == trabalhosDFQ7['data_defesa'].dt.month[indx], 'Mestrandos'] += 1\n",
    "    elif trabalhosDFQ7['tipo'][indx] == 'TESE':\n",
    "        tipoByMes.loc[tipoByMes['Mes'] == trabalhosDFQ7['data_defesa'].dt.month[indx], 'Doutorandos'] += 1\n",
    "\n",
    "# Nosso data frame resultante\n",
    "tipoByMes"
   ]
  },
  {
   "cell_type": "markdown",
   "metadata": {},
   "source": [
    "## **<span style=\"color:green\">Desejável para a questão:</span>**\n",
    "- Montar um \"gráfico de linhas\" mostrando a evolução de cada tipo ao longo dos meses. Uma linha para cada tipo (mestrado e doutorado)"
   ]
  },
  {
   "cell_type": "markdown",
   "metadata": {},
   "source": [
    "## **<span style=\"color:red\">Detalhes a ficarmos atentos para o trabalho:</span>**\n",
    "- Verificar repetição de dados (aparentemente temos papers duplicados)\n",
    "- Estar atento a outros detalhes sobre os dados não percebidos na análise inicial dos dados\n",
    "- Tentar manter a limpeza dos dados no campo de limpeza para organização, sempre que possível\n",
    "    - No campo de limpeza, tentar usar uma célula para cada data frame raw, sempre que possível"
   ]
  },
  {
   "cell_type": "code",
   "execution_count": null,
   "metadata": {},
   "outputs": [],
   "source": [
    "# Caso bizarro: matricula feita em 2009 com defesa em 2017\n",
    "display(trabalhosDFQ7.loc[trabalhosDFQ7['autor'] == 'RAFAEL SOARES PADILHA'])\n",
    "display(discentesDFQ7.loc[discentesDFQ7['autor'] == 'RAFAEL SOARES PADILHA'])"
   ]
  }
 ],
 "metadata": {
  "kernelspec": {
   "display_name": "Python 3",
   "language": "python",
   "name": "python3"
  },
  "language_info": {
   "codemirror_mode": {
    "name": "ipython",
    "version": 3
   },
   "file_extension": ".py",
   "mimetype": "text/x-python",
   "name": "python",
   "nbconvert_exporter": "python",
   "pygments_lexer": "ipython3",
   "version": "3.6.3"
  }
 },
 "nbformat": 4,
 "nbformat_minor": 2
}
