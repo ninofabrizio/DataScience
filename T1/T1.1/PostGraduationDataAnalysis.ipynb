{
 "cells": [
  {
   "cell_type": "markdown",
   "metadata": {},
   "source": [
    "# T1.1 - Solution\n",
    "## Authors:\n",
    "- Leonardo Kaplan 1212509\n",
    "- Nino Fabrizio Tiriticco Lizardo 1113203"
   ]
  },
  {
   "cell_type": "code",
   "execution_count": null,
   "metadata": {
    "collapsed": true
   },
   "outputs": [],
   "source": [
    "# Pacotes usados\n",
    "import pandas as pd # Para pegar os dados dos arquivos\n",
    "from IPython.display import display # Para mostrar informações\n",
    "import ast # Para transformar string/object em estruturas de dados (listas, dicionários, ...)"
   ]
  },
  {
   "cell_type": "code",
   "execution_count": null,
   "metadata": {
    "collapsed": true
   },
   "outputs": [],
   "source": [
    "# Carregando dados de cada um dos arquivos\n",
    "DataQualisRaw = pd.read_excel('Files/Qualis CC 2013-2016.xlsx')\n",
    "DataDocentesRaw = pd.read_csv('Files/docentes.csv')\n",
    "DataDiscentesRaw = pd.read_csv('Files/discentes.csv')\n",
    "DataProducaoRaw = pd.read_csv('Files/producao.csv')\n",
    "DataTrabalhosRaw = pd.read_csv('Files/trabalhos.csv')"
   ]
  },
  {
   "cell_type": "markdown",
   "metadata": {},
   "source": [
    "## Análise prévia dos dados:"
   ]
  },
  {
   "cell_type": "code",
   "execution_count": null,
   "metadata": {},
   "outputs": [],
   "source": [
    "# Pela função info, parece que temos todos os dados disponíveis para cada coluna (sem valores nulos)\n",
    "display(DataQualisRaw.info())\n",
    "\n",
    "# Pelas 5 primeiras tuplas, os dados parecem não precisar tratamento\n",
    "DataQualisRaw.head()\n",
    "\n",
    "# Fazendo uma análise prévia dos dados, DataQualisRaw parece representar o título de papers associado a um código(?)"
   ]
  },
  {
   "cell_type": "code",
   "execution_count": null,
   "metadata": {},
   "outputs": [],
   "source": [
    "# Pela função info, parece que temos todos os dados disponíveis para cada coluna (sem valores nulos)\n",
    "display(DataDocentesRaw.info())\n",
    "\n",
    "# Pelas 5 primeiras tuplas, os dados parecem não precisar tratamento\n",
    "DataDocentesRaw.head()\n",
    "\n",
    "# Fazendo uma análise prévia dos dados, DataDocentesRaw parece representar docentes e sua relação com a instiuição acadêmica/universidade"
   ]
  },
  {
   "cell_type": "code",
   "execution_count": null,
   "metadata": {},
   "outputs": [],
   "source": [
    "# Pela função info, parece que temos dados faltando para algumas das colunas (há valores nulos)\n",
    "display(DataDiscentesRaw.info())\n",
    "\n",
    "# Pelas tabela, devemos precisar tratar os dados da coluna \"abrev\". Importante ressaltar que alguns dos dados em \"orientadores\" parecem representar listas de dicionários através de string/object.\n",
    "DataDiscentesRaw.head()\n",
    "\n",
    "# Fazendo uma análise prévia dos dados, DataDiscentesRaw parece representar os alunos de pós-graduação das instituições acadêmicas/universidades e todos os dados atrelados a eles."
   ]
  },
  {
   "cell_type": "code",
   "execution_count": null,
   "metadata": {},
   "outputs": [],
   "source": [
    "# A função info nos mostra que temos valores nulos em algumas das colunas (total de valores não-nulos menor que o total de tuplas da tabela)\n",
    "display(DataProducaoRaw.info())\n",
    "\n",
    "pd.set_option('display.max_columns', 35) # Para poder visualizar todas as colunas deste data frame\n",
    "\n",
    "# As 5 primeiras tuplas da tabela nos mostram que pelo menos alguns dados precisam ser tratados nas colunas:\n",
    "# - dict_paper_autores (os dados dessa coluna na verdade representam listas de dicionários) [VER PRÓXIMA CÉLULA]\n",
    "# - paper_autores (os dados dessa coluna na verdade representam listas de strings/objects) [VER CÉLULA PRÓXIMA À SEGUINTE]\n",
    "# - doi\n",
    "# - periodico (talvez?)\n",
    "# - ano (número fracionário para ano faz sentido? cuidado, faz sim se formos considerar como período [ex.: 2018.1 e 2018.2])\n",
    "DataProducaoRaw.head()\n",
    "\n",
    "# Fazendo uma análise prévia dos dados, parece que DataProducaoRaw lista papers publicados por integrantes (docentes?) de instituições acadêmicas/universidades, informando vários outros dados ligados a esses papers."
   ]
  },
  {
   "cell_type": "code",
   "execution_count": null,
   "metadata": {},
   "outputs": [],
   "source": [
    "# Vemos que uma célula da segunda coluna de DataProducaoRaw é uma string/object que representa uma lista de dicionários\n",
    "display(DataProducaoRaw['dict_paper_autores'][0])\n",
    "\n",
    "# Transformando uma dessas string/objects em uma lista de dicionários\n",
    "dictionaryList = ast.literal_eval(DataProducaoRaw['dict_paper_autores'][0])\n",
    "\n",
    "display(dictionaryList) # Lista de dicionários\n",
    "display(dictionaryList[0]) # Dicionário\n",
    "display(dictionaryList[0]['categoria']) # Valor atribuído à chave 'categoria'\n",
    "dictionaryList[0]['nome'] # Valor atribuído à chave 'nome'"
   ]
  },
  {
   "cell_type": "code",
   "execution_count": null,
   "metadata": {},
   "outputs": [],
   "source": [
    "# Vemos que uma célula da coluna 'paper_autores' de DataProducaoRaw é uma string/object que representa uma lista de strings/objects\n",
    "display(DataProducaoRaw['paper_autores'][0])\n",
    "\n",
    "stringList = ast.literal_eval(DataProducaoRaw['paper_autores'][0])\n",
    "\n",
    "display(stringList) # Lista de strings/objects\n",
    "display(stringList[0]) # Uma (TADAM!) string/object"
   ]
  },
  {
   "cell_type": "code",
   "execution_count": null,
   "metadata": {},
   "outputs": [],
   "source": [
    "# Pela função info, parece que temos valores nulos em algumas das colunas\n",
    "display(DataTrabalhosRaw.info())\n",
    "\n",
    "# Pelas 5 primeiras tuplas, parece que precisaremos tratar os dados das colunas:\n",
    "# - keywords\n",
    "# - palavras-chave\n",
    "# - paginas (número fracionário para páginas faz sentido?)\n",
    "# - programa (talvez?)\n",
    "DataTrabalhosRaw.head()\n",
    "\n",
    "# Fazendo uma análise prévia dos dados, DataTrabalhosRaw parece representar os dados referentes aos trabalhos de conclusão de curso dos alunos de pós-graduação"
   ]
  },
  {
   "cell_type": "markdown",
   "metadata": {},
   "source": [
    "## Limpeza dos dados:"
   ]
  },
  {
   "cell_type": "code",
   "execution_count": null,
   "metadata": {},
   "outputs": [],
   "source": [
    "# Para DataProducaoRaw\n",
    "\n",
    "# Vimos que a tabela \"ano\" possui valores nuyméricos fracionários e um valor nulo. Vemos que apenas dois:\n",
    "display(DataProducaoRaw['ano'].unique())\n",
    "\n",
    "# Vemos que a tupla onde temos esse valor na verdade está cheia de valores nulos. Vale a pena retirar ela por esse aspecto, mas podemos usar o valor de \"paper_id\" presente para encontrar problemas equivalentes nos outros data frames que tenham o mesmo id.\n",
    "display(DataProducaoRaw.loc[DataProducaoRaw['ano'].isnull()])\n",
    "\n",
    "# O data frame \"limpo\" (obs.: pode ir mudando conforme vamos respondendo as perguntas)\n",
    "producaoDF = DataProducaoRaw.loc[DataProducaoRaw['ano'].isnull() == False]\n",
    "producaoDF = producaoDF.reset_index(drop = True)\n",
    "producaoDF"
   ]
  },
  {
   "cell_type": "markdown",
   "metadata": {},
   "source": [
    "# Perguntas:\n",
    "## 1) Quantos professores (docentes) havia em cada instituição em 2017, em cada quadro (permanente, colaborador)?"
   ]
  },
  {
   "cell_type": "code",
   "execution_count": null,
   "metadata": {
    "collapsed": true
   },
   "outputs": [],
   "source": []
  },
  {
   "cell_type": "markdown",
   "metadata": {},
   "source": [
    "## **<span style=\"color:red\">Detalhes a ficar atento para o trabalho:</span>**\n",
    "- Verificar repetição de dados (aparentemente temos papers duplicados)\n",
    "- Estar atento a outros detalhes sobre os dados não percebidos na análise inicial dos dados\n",
    "- Tentar manter a limpeza dos dados no campo de limpeza para organização, sempre que possível\n",
    "    - No campo de limpeza, tentar usar uma célula para cada data frame raw, sempre que possível"
   ]
  },
  {
   "cell_type": "code",
   "execution_count": null,
   "metadata": {
    "collapsed": true
   },
   "outputs": [],
   "source": []
  }
 ],
 "metadata": {
  "kernelspec": {
   "display_name": "Python 3",
   "language": "python",
   "name": "python3"
  },
  "language_info": {
   "codemirror_mode": {
    "name": "ipython",
    "version": 3
   },
   "file_extension": ".py",
   "mimetype": "text/x-python",
   "name": "python",
   "nbconvert_exporter": "python",
   "pygments_lexer": "ipython3",
   "version": "3.6.3"
  }
 },
 "nbformat": 4,
 "nbformat_minor": 2
}
