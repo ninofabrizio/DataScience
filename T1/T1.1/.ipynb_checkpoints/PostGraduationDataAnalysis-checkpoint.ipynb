{
 "cells": [
  {
   "cell_type": "markdown",
   "metadata": {},
   "source": [
    "# T1.1 - Solution\n",
    "## Authors:\n",
    "- Leonardo Kaplan 1212509\n",
    "- Nino Fabrizio Tiriticco Lizardo 1113203"
   ]
  },
  {
   "cell_type": "code",
   "execution_count": null,
   "metadata": {
    "collapsed": true
   },
   "outputs": [],
   "source": [
    "# Pacotes usados\n",
    "import pandas as pd # Para pegar os dados dos arquivos\n",
    "from IPython.display import display # Para mostrar mais de uma informação em uma mesma célula\n",
    "import ast # Para transformar string/object em estruturas de dados (listas, dicionários, ...)\n",
    "import numpy as np # Para obter o total de valores por um atributo, se um data frame está vazio\n",
    "import matplotlib.pyplot as plt # Para plotar gráficos\n",
    "import matplotlib # Para plotar gráficos\n",
    "from pylab import * # Para criar pie chart"
   ]
  },
  {
   "cell_type": "code",
   "execution_count": null,
   "metadata": {
    "collapsed": true
   },
   "outputs": [],
   "source": [
    "# Carregando dados de cada um dos arquivos\n",
    "DataQualisRaw = pd.read_excel('in/Qualis CC 2013-2016.xlsx')\n",
    "DataDocentesRaw = pd.read_csv('in/docentes.csv')\n",
    "DataDiscentesRaw = pd.read_csv('in/discentes.csv')\n",
    "DataProducaoRaw = pd.read_csv('in/producao.csv')\n",
    "DataTrabalhosRaw = pd.read_csv('in/trabalhos.csv')"
   ]
  },
  {
   "cell_type": "markdown",
   "metadata": {},
   "source": [
    "## Análise prévia dos dados:"
   ]
  },
  {
   "cell_type": "code",
   "execution_count": null,
   "metadata": {
    "collapsed": false
   },
   "outputs": [],
   "source": [
    "# Pela função info, parece que temos todos os dados disponíveis para cada coluna (sem valores nulos)\n",
    "display(DataQualisRaw.info())\n",
    "\n",
    "# Pelas 5 primeiras tuplas, os dados parecem não precisar tratamento\n",
    "DataQualisRaw.head()\n",
    "\n",
    "# Fazendo uma análise prévia dos dados, DataQualisRaw parece representar o título de papers associado a um código(?)"
   ]
  },
  {
   "cell_type": "code",
   "execution_count": null,
   "metadata": {
    "collapsed": false
   },
   "outputs": [],
   "source": [
    "# Pela função info, parece que temos todos os dados disponíveis para cada coluna (sem valores nulos)\n",
    "display(DataDocentesRaw.info())\n",
    "\n",
    "# Pelas 5 primeiras tuplas, os dados parecem não precisar tratamento\n",
    "DataDocentesRaw.head()\n",
    "\n",
    "# Fazendo uma análise prévia dos dados, DataDocentesRaw parece representar docentes e sua relação com a instiuição acadêmica/universidade"
   ]
  },
  {
   "cell_type": "code",
   "execution_count": null,
   "metadata": {
    "collapsed": false
   },
   "outputs": [],
   "source": [
    "# Pela função info, parece que temos dados faltando para algumas das colunas (há valores nulos)\n",
    "display(DataDiscentesRaw.info())\n",
    "\n",
    "# Pelas tabela, devemos precisar tratar os dados da coluna \"abrev\". Importante ressaltar que alguns dos dados em \"orientadores\" parecem representar listas de dicionários através de string/object.\n",
    "DataDiscentesRaw.head()\n",
    "\n",
    "# Fazendo uma análise prévia dos dados, DataDiscentesRaw parece representar os alunos de pós-graduação das instituições acadêmicas/universidades e todos os dados atrelados a eles."
   ]
  },
  {
   "cell_type": "code",
   "execution_count": null,
   "metadata": {
    "collapsed": false
   },
   "outputs": [],
   "source": [
    "# A função info nos mostra que temos valores nulos em algumas das colunas (total de valores não-nulos menor que o total de tuplas da tabela)\n",
    "display(DataProducaoRaw.info())\n",
    "\n",
    "pd.set_option('display.max_columns', 35) # Para poder visualizar todas as colunas deste data frame\n",
    "\n",
    "# As 5 primeiras tuplas da tabela nos mostram que pelo menos alguns dados precisam ser tratados nas colunas:\n",
    "# - dict_paper_autores (os dados dessa coluna na verdade representam listas de dicionários) [VER PRÓXIMA CÉLULA]\n",
    "# - paper_autores (os dados dessa coluna na verdade representam listas de strings/objects) [VER CÉLULA PRÓXIMA À SEGUINTE]\n",
    "# - doi\n",
    "# - periodico (talvez?)\n",
    "# - ano (número fracionário para ano faz sentido? cuidado, faz sim se formos considerar como período [ex.: 2018.1 e 2018.2])\n",
    "DataProducaoRaw.head()\n",
    "\n",
    "# Fazendo uma análise prévia dos dados, parece que DataProducaoRaw lista papers publicados por integrantes (docentes?) de instituições acadêmicas/universidades, informando vários outros dados ligados a esses papers."
   ]
  },
  {
   "cell_type": "code",
   "execution_count": null,
   "metadata": {
    "collapsed": false
   },
   "outputs": [],
   "source": [
    "# Vemos que uma célula da segunda coluna de DataProducaoRaw é uma string/object que representa uma lista de dicionários\n",
    "display(DataProducaoRaw['dict_paper_autores'][0])\n",
    "\n",
    "# Transformando uma dessas string/objects em uma lista de dicionários\n",
    "dictionaryList = ast.literal_eval(DataProducaoRaw['dict_paper_autores'][0])\n",
    "\n",
    "display(dictionaryList) # Lista de dicionários\n",
    "display(dictionaryList[0]) # Dicionário\n",
    "display(dictionaryList[0]['categoria']) # Valor atribuído à chave 'categoria'\n",
    "dictionaryList[0]['nome'] # Valor atribuído à chave 'nome'"
   ]
  },
  {
   "cell_type": "code",
   "execution_count": null,
   "metadata": {
    "collapsed": false
   },
   "outputs": [],
   "source": [
    "# Vemos que uma célula da coluna 'paper_autores' de DataProducaoRaw é uma string/object que representa uma lista de strings/objects\n",
    "display(DataProducaoRaw['paper_autores'][0])\n",
    "\n",
    "stringList = ast.literal_eval(DataProducaoRaw['paper_autores'][0])\n",
    "\n",
    "display(stringList) # Lista de strings/objects\n",
    "display(stringList[0]) # Uma (TADAM!) string/object"
   ]
  },
  {
   "cell_type": "code",
   "execution_count": null,
   "metadata": {
    "collapsed": false
   },
   "outputs": [],
   "source": [
    "# Pela função info, parece que temos valores nulos em algumas das colunas\n",
    "display(DataTrabalhosRaw.info())\n",
    "\n",
    "# Pelas 5 primeiras tuplas, parece que precisaremos tratar os dados das colunas:\n",
    "# - keywords\n",
    "# - palavras-chave\n",
    "# - paginas (número fracionário para páginas faz sentido?)\n",
    "# - programa (talvez?)\n",
    "DataTrabalhosRaw.head()\n",
    "\n",
    "# Fazendo uma análise prévia dos dados, DataTrabalhosRaw parece representar os dados referentes aos trabalhos de conclusão de curso dos alunos de pós-graduação"
   ]
  },
  {
   "cell_type": "markdown",
   "metadata": {},
   "source": [
    "# Perguntas:\n",
    "## 1) Quantos professores (docentes) havia em cada instituição em 2017, em cada quadro (permanente, colaborador)?"
   ]
  },
  {
   "cell_type": "code",
   "execution_count": null,
   "metadata": {
    "collapsed": false
   },
   "outputs": [],
   "source": [
    "# DataDocentesRaw contém os dados necessários para responder a pergunta (colunas \"ies\" e \"categoria\")\n",
    "DataDocentesRaw.head()"
   ]
  },
  {
   "cell_type": "code",
   "execution_count": null,
   "metadata": {
    "collapsed": false
   },
   "outputs": [],
   "source": [
    "# Verificando quais as instituições, parecem OK\n",
    "display(DataDocentesRaw['ies'].unique())\n",
    "\n",
    "# Verificando quais as categorias, parecem OK\n",
    "DataDocentesRaw['categoria'].unique()"
   ]
  },
  {
   "cell_type": "code",
   "execution_count": null,
   "metadata": {
    "collapsed": false
   },
   "outputs": [],
   "source": [
    "# Montando nosso data frame\n",
    "docentesByIESDF = pd.DataFrame(columns=('IES', 'Permanentes', 'Colaboradores'))\n",
    "docentesByIESDF['IES'] = DataDocentesRaw['ies'].unique()\n",
    "docentesByIESDF['Permanentes'] = 0\n",
    "docentesByIESDF['Colaboradores'] = 0\n",
    "\n",
    "# Percorrendo o data frame original para fazer a contagem dos tipos de docente por instituição\n",
    "for indx in range(0, len(DataDocentesRaw)):\n",
    "    if DataDocentesRaw['categoria'][indx] == 'PERMANENTE':\n",
    "        docentesByIESDF.loc[docentesByIESDF['IES'] == DataDocentesRaw['ies'][indx], 'Permanentes'] += 1\n",
    "    elif DataDocentesRaw['categoria'][indx] == 'COLABORADOR':\n",
    "        docentesByIESDF.loc[docentesByIESDF['IES'] == DataDocentesRaw['ies'][indx], 'Colaboradores'] += 1\n",
    "    else: # Caso encontremos um imprevisto\n",
    "        print(\"\\'categoria\\' error! Value:\", DataDocentesRaw['categoria'][indx], \" Row:\", indx)\n",
    "        \n",
    "# O resultado obtido\n",
    "docentesByIESDF"
   ]
  },
  {
   "cell_type": "code",
   "execution_count": null,
   "metadata": {
    "collapsed": false
   },
   "outputs": [],
   "source": [
    "# Montando um gráfico de barras horizontais empilhadas do resultado obtido\n",
    "x_labels = docentesByIESDF['IES']\n",
    "x = range(len(x_labels))\n",
    "y = docentesByIESDF['Colaboradores']\n",
    "x2 = []\n",
    "for item in x:\n",
    "    x2.append(item)\n",
    "y2 = docentesByIESDF['Permanentes']\n",
    "\n",
    "bar_width = 0.35\n",
    "\n",
    "plt.figure()\n",
    "plt.barh(x2, y2, height=bar_width, label=\"Permanente\", color='#4466cc')\n",
    "plt.barh(x, y, height=bar_width, label =\"Colaborador\", color='#cc6644')\n",
    "\n",
    "plt.title('Professores x Programa')\n",
    "plt.yticks(x, x_labels)\n",
    "plt.legend(loc=4, frameon=True, title='Tipo de professor')\n",
    "\n",
    "plt.show()"
   ]
  },
  {
   "cell_type": "markdown",
   "metadata": {},
   "source": [
    "## 2) Quantos alunos (discentes) de Mestrado/Doutorado havia em cada programa em 2017?"
   ]
  },
  {
   "cell_type": "code",
   "execution_count": null,
   "metadata": {
    "collapsed": false
   },
   "outputs": [],
   "source": [
    "# DataDiscentesRaw contém os dados necessários para responder a pergunta (colunas \"nivel\" e \"programa\")\n",
    "DataDiscentesRaw.head()"
   ]
  },
  {
   "cell_type": "code",
   "execution_count": null,
   "metadata": {
    "collapsed": false
   },
   "outputs": [],
   "source": [
    "# Pegando apenas as colunas que queremos\n",
    "discentesDFQ2 = DataDiscentesRaw[['nivel','programa']]\n",
    "display(discentesDFQ2.head()) # Vemos que temos uma coluna com valores vazios\n",
    "\n",
    "display(discentesDFQ2.info()) # Vemos que 3 valores para cada coluna estão comprometidos\n",
    "\n",
    "display(discentesDFQ2.loc[discentesDFQ2['nivel'].isnull()]) # Felizmente vemos que os 3 valores de cada coluna fazem parte das mesmas tuplas\n",
    "\n",
    "# Limpando o data frame e mantendo a ordenação dos índices\n",
    "discentesDFQ2 = discentesDFQ2.loc[discentesDFQ2['nivel'].isnull() == False]\n",
    "discentesDFQ2 = discentesDFQ2.reset_index(drop = True)\n",
    "discentesDFQ2.info()"
   ]
  },
  {
   "cell_type": "code",
   "execution_count": null,
   "metadata": {
    "collapsed": false
   },
   "outputs": [],
   "source": [
    "# Verificando valores em \"nivel\", vemos que existe pelo menos um valor 'Graduação' que não nos interessa\n",
    "display(discentesDFQ2['nivel'].unique())\n",
    "\n",
    "# Verificando valores em \"programa\"\n",
    "display(discentesDFQ2['programa'].unique())\n",
    "\n",
    "# Eliminando valores 'Graduação', obtemos uma redução considerável de tuplas\n",
    "discentesDFQ2 = discentesDFQ2.loc[discentesDFQ2['nivel'] != 'Graduação']\n",
    "discentesDFQ2 = discentesDFQ2.reset_index(drop = True)\n",
    "discentesDFQ2.info()"
   ]
  },
  {
   "cell_type": "code",
   "execution_count": null,
   "metadata": {
    "collapsed": false
   },
   "outputs": [],
   "source": [
    "# Montando nosso data frame\n",
    "discentesByPrograma = pd.DataFrame(columns=('Programa', 'Mestrandos', 'Doutorandos'))\n",
    "discentesByPrograma['Programa'] = discentesDFQ2['programa'].unique()\n",
    "discentesByPrograma['Mestrandos'] = 0\n",
    "discentesByPrograma['Doutorandos'] = 0\n",
    "\n",
    "# Percorrendo o data frame limpo para fazer a contagem dos tipos de nível por programa\n",
    "for indx in range(0, len(discentesDFQ2)):\n",
    "    if discentesDFQ2['nivel'][indx] == 'Mestrado':\n",
    "        discentesByPrograma.loc[discentesByPrograma['Programa'] == discentesDFQ2['programa'][indx], 'Mestrandos'] += 1\n",
    "    elif discentesDFQ2['nivel'][indx] == 'Doutorado':\n",
    "        discentesByPrograma.loc[discentesByPrograma['Programa'] == discentesDFQ2['programa'][indx], 'Doutorandos'] += 1\n",
    "    else: # Caso encontremos um imprevisto\n",
    "        print(\"\\'nivel\\' error! Value:\", discentesDFQ2['nivel'][indx], \" Row:\", indx)\n",
    "        \n",
    "# O resultado obtido\n",
    "discentesByPrograma"
   ]
  },
  {
   "cell_type": "code",
   "execution_count": null,
   "metadata": {
    "collapsed": false
   },
   "outputs": [],
   "source": [
    "# Montando um gráfico de barras horizontais do resultado obtido\n",
    "x_labels = discentesByPrograma['Programa']\n",
    "x = range(len(x_labels))\n",
    "y = discentesByPrograma['Mestrandos']\n",
    "\n",
    "bar_width = 0.35\n",
    "\n",
    "x2 = []\n",
    "for item in x:\n",
    "    x2.append(item + bar_width)\n",
    "y2 = discentesByPrograma['Doutorandos']\n",
    "\n",
    "plt.figure()\n",
    "plt.barh(x, y, height=bar_width, label =\"Mestrado\", color='#cc6644')\n",
    "plt.barh(x2, y2, height=bar_width, label=\"Doutorado\", color='#4466cc')\n",
    "\n",
    "plt.title('Alunos x Programa')\n",
    "plt.yticks(x, x_labels)\n",
    "plt.legend(loc=4, frameon=True, title='Nível de aluno')\n",
    "\n",
    "plt.show()"
   ]
  },
  {
   "cell_type": "markdown",
   "metadata": {},
   "source": [
    "## 3) Qual foi a taxa de alunos de Mestrado/Doutorado por professor do quadro permanente em cada programa em 2017?"
   ]
  },
  {
   "cell_type": "code",
   "execution_count": null,
   "metadata": {
    "collapsed": false
   },
   "outputs": [],
   "source": [
    "# Vamos usar os data frames abaixo\n",
    "display(DataDocentesRaw.head()) # Nos diz que professor é permanente\n",
    "DataDiscentesRaw.head() # Nos diz qual o nível do aluno, o programa do qual fez parte e quem foi seu professor"
   ]
  },
  {
   "cell_type": "code",
   "execution_count": null,
   "metadata": {
    "collapsed": false
   },
   "outputs": [],
   "source": [
    "# Começando por DataDiscentesRaw\n",
    "discentesDFQ3 = DataDiscentesRaw[['nivel','programa', 'orientador', 'orientadores']]\n",
    "display(discentesDFQ3.info()) # Vemos que coluna 'orientador' tem muitos valores faltando e 'orientadores' tem menos, estranho\n",
    "display(discentesDFQ3[0:1]) # A primeira linha nos mostra que existe um array em 'orientadores' mas este está vazio enquanto 'orientador' está com NaN, deve ser o que está causando a diferença numérica entre as colunas\n",
    "\n",
    "# Retirando todas as colunas onde 'orientador' está nulo\n",
    "discentesDFQ3 = discentesDFQ3.loc[discentesDFQ3['orientador'].isnull() == False]\n",
    "discentesDFQ3 = discentesDFQ3.reset_index(drop = True)\n",
    "display(discentesDFQ3.info()) # Agora todas as colunas possuem a mesma quantidade de linhas, originalmente sendo a de 'orientador' (o menor valor que tínhamos antes)\n",
    "\n",
    "# Vemos que acabamos tirando o valor 'Graduação' em 'nivel' no meio dessa limpeza\n",
    "display(discentesDFQ2['nivel'].unique())\n",
    "\n",
    "discentesDFQ3.head()"
   ]
  },
  {
   "cell_type": "code",
   "execution_count": null,
   "metadata": {
    "collapsed": false
   },
   "outputs": [],
   "source": [
    "# Agora vamos com DataDocentesRaw\n",
    "docentesDFQ3 = DataDocentesRaw[['categoria','nome']]\n",
    "display(docentesDFQ3.info()) # Parece tudo OK\n",
    "\n",
    "# Eliminando valores 'COLABORADOR'\n",
    "docentesDFQ3 = docentesDFQ3.loc[docentesDFQ3['categoria'] != 'COLABORADOR']\n",
    "docentesDFQ3 = docentesDFQ3.reset_index(drop = True)\n",
    "display(docentesDFQ3.info()) # A redução não foi tão expressiva\n",
    "\n",
    "docentesDFQ3.head()"
   ]
  },
  {
   "cell_type": "code",
   "execution_count": null,
   "metadata": {
    "collapsed": false
   },
   "outputs": [],
   "source": [
    "# Montando o data frame de resultado\n",
    "taxasByPrograma = pd.DataFrame(columns=('Programa', 'Taxa Mestrandos/Professores permanentes', 'Taxa Doutorandos/Professores permanentes'))\n",
    "taxasByPrograma['Programa'] = discentesDFQ3['programa'].unique()\n",
    "taxasByPrograma['Taxa Mestrandos/Professores permanentes'] = 0\n",
    "taxasByPrograma['Taxa Doutorandos/Professores permanentes'] = 0\n",
    "\n",
    "# Procurando valores por valor 'programa'\n",
    "for programa in taxasByPrograma['Programa']:\n",
    "    # Reduzindo meu data frame 'discentes' para o valor 'programa' da iteração\n",
    "    tempDiscentesDFQ3 = discentesDFQ3.loc[discentesDFQ3['programa'] == programa]\n",
    "    \n",
    "    # Reduzindo o data frame temporário ainda mais para valores 'orientador' com valor 'PERMANENTE'\n",
    "    tempDiscentesDFQ3 = tempDiscentesDFQ3.loc[tempDiscentesDFQ3['orientador'].isin(docentesDFQ3['nome'])]\n",
    "    tempDiscentesDFQ3 = tempDiscentesDFQ3.reset_index(drop = True)\n",
    "    \n",
    "    # Listas para guardar nomes do respectivo nivel do orientador\n",
    "    orientadoresMestrado = []\n",
    "    orientadoresDoutorado = []\n",
    "    \n",
    "    # Percorrendo o data frame temporário para fazer a contagem da quantidade de discentes por nível, guardando nome do docente\n",
    "    for indx in range(0, len(tempDiscentesDFQ3)):\n",
    "        if tempDiscentesDFQ3['nivel'][indx] == 'Mestrado':\n",
    "            taxasByPrograma.loc[taxasByPrograma['Programa'] == programa, 'Taxa Mestrandos/Professores permanentes'] += 1\n",
    "            if not orientadoresMestrado or tempDiscentesDFQ3['orientador'][indx] not in orientadoresMestrado:\n",
    "                orientadoresMestrado.append(tempDiscentesDFQ3['orientador'][indx])\n",
    "        elif tempDiscentesDFQ3['nivel'][indx] == 'Doutorado':\n",
    "            taxasByPrograma.loc[taxasByPrograma['Programa'] == programa, 'Taxa Doutorandos/Professores permanentes'] += 1\n",
    "            if not orientadoresDoutorado or tempDiscentesDFQ3['orientador'][indx] not in orientadoresDoutorado:\n",
    "                orientadoresDoutorado.append(tempDiscentesDFQ3['orientador'][indx])\n",
    "    \n",
    "    # Calculando taxa \"tipo discentes/docentes\"\n",
    "    if orientadoresMestrado:\n",
    "        taxasByPrograma.loc[taxasByPrograma['Programa'] == programa, 'Taxa Mestrandos/Professores permanentes'] = taxasByPrograma.loc[taxasByPrograma['Programa'] == programa, 'Taxa Doutorandos/Professores permanentes'] / len(orientadoresMestrado)\n",
    "    if orientadoresDoutorado:\n",
    "        taxasByPrograma.loc[taxasByPrograma['Programa'] == programa, 'Taxa Doutorandos/Professores permanentes'] = taxasByPrograma.loc[taxasByPrograma['Programa'] == programa, 'Taxa Doutorandos/Professores permanentes'] / len(orientadoresDoutorado)\n",
    "\n",
    "# O resultado obtido\n",
    "taxasByPrograma"
   ]
  },
  {
   "cell_type": "code",
   "execution_count": null,
   "metadata": {
    "collapsed": false
   },
   "outputs": [],
   "source": [
    "# Montando resultado em gráfico de barras horizontais com o respectivo valor no final de cada barra\n",
    "matplotlib.rcParams.update({'font.size': 12})\n",
    "\n",
    "fig, ax = plt.subplots(figsize=(16,8))\n",
    "y_pos = [i for i in range(0,len(taxasByPrograma['Programa']))]\n",
    "x_values = list(taxasByPrograma['Taxa Mestrandos/Professores permanentes'])\n",
    "x2_values = list(taxasByPrograma['Taxa Doutorandos/Professores permanentes'])\n",
    "bar_width = 0.35\n",
    "y2_pos = [i + bar_width for i in range(0,len(taxasByPrograma['Programa']))]\n",
    "\n",
    "ax.set_title(\"Taxa \\'alunos/professores permanentes\\' x Programa\")\n",
    "ax.barh(y_pos, x_values, height=bar_width, label='Mestrado', color='#cc6644')\n",
    "ax.barh(y2_pos, x2_values, height=bar_width, label='Doutorado', color='#4466cc')\n",
    "ax.set_yticks(y_pos)\n",
    "ax.set_yticklabels(list(taxasByPrograma['Programa']))\n",
    "plt.xlim((0,max(x_values)*1.2))\n",
    "rects = ax.patches\n",
    "\n",
    "# For each bar: Place a label\n",
    "for rect in rects:\n",
    "    # Get X and Y placement of label from rect.\n",
    "    x_value = rect.get_width()\n",
    "    y_value = rect.get_y() + rect.get_height() / 2\n",
    "\n",
    "    # Use Y value as label and format number with one decimal place\n",
    "    label = \"{:}\".format(x_value)\n",
    "\n",
    "    # Create annotation\n",
    "    plt.annotate(\n",
    "        label,                      # Use `label` as label\n",
    "        (x_value, y_value),         # Place label at end of the bar\n",
    "        xytext=(5, 5),              #  Shift label (horizontally,vertically)\n",
    "        textcoords=\"offset points\", # Interpret `xytext` as offset in points\n",
    "        ha='left',                  # Horizontal label alignment\n",
    "        va='top')                   # Vertical label alignment\n",
    "\n",
    "plt.legend(loc=4, frameon=True, title='Nível calculado')    \n",
    "\n",
    "plt.show()"
   ]
  },
  {
   "cell_type": "markdown",
   "metadata": {},
   "source": [
    "## <span style=\"color:green\">Desejável para a questão:</span>\n",
    "- Confirmar que dados na coluna 'orientadores' tenham a mesma informação da sua respectiva tupla na coluna 'orientador' para justificar o uso de apenas 'orientador'. Ou seja, se existe só 1 orientador por aluno. (O nome 'orientadores' leva a crer que o aluno teve mais de um orientador no projeto)"
   ]
  },
  {
   "cell_type": "markdown",
   "metadata": {},
   "source": [
    "## 4) Qual foi a distribuição de alunos de Mestrado/Doutorado pelos professores de cada programa em 2017?"
   ]
  },
  {
   "cell_type": "code",
   "execution_count": null,
   "metadata": {
    "collapsed": false
   },
   "outputs": [],
   "source": [
    "# Vamos voltar a usar as tabelas 'docente' e 'discente'\n",
    "display(DataDocentesRaw.info())\n",
    "display(DataDocentesRaw.head())\n",
    "display(DataDiscentesRaw.info())\n",
    "DataDiscentesRaw.head()"
   ]
  },
  {
   "cell_type": "code",
   "execution_count": null,
   "metadata": {
    "collapsed": false
   },
   "outputs": [],
   "source": [
    "# Fazendo a limpeza e extraindo o que nos interessa\n",
    "discentesDFQ4 = DataDiscentesRaw.loc[DataDiscentesRaw['orientador'].isnull() == False][['nivel','programa', 'orientador']]\n",
    "discentesDFQ4 = discentesDFQ4.reset_index(drop = True)\n",
    "\n",
    "display(discentesDFQ4.info())\n",
    "display(discentesDFQ4.head())\n",
    "\n",
    "docentesDFQ4 = DataDocentesRaw[['nome']]\n",
    "\n",
    "display(docentesDFQ4.info())\n",
    "docentesDFQ4.head()"
   ]
  },
  {
   "cell_type": "code",
   "execution_count": null,
   "metadata": {
    "collapsed": false
   },
   "outputs": [],
   "source": [
    "# Montando o dicionário resultado (key == programa ; value == data frame de distribuição)\n",
    "distribuicoesByPrograma = {}\n",
    "\n",
    "# Procurando por valor 'programa'\n",
    "for programa in discentesDFQ4['programa'].unique():\n",
    "    distribuicoesDF = pd.DataFrame(columns=('Professor', 'Qtd mestrandos', 'Qtd doutorandos'))\n",
    "    \n",
    "    # Reduzindo meu data frame 'discentes' para o valor 'programa' da iteração\n",
    "    tempDiscentesDFQ4 = discentesDFQ4.loc[discentesDFQ4['programa'] == programa]\n",
    "    \n",
    "    # Reduzindo o data frame temporário ainda mais para valores 'orientador' com valor 'PERMANENTE'\n",
    "    tempDiscentesDFQ4 = tempDiscentesDFQ4.loc[tempDiscentesDFQ4['orientador'].isin(docentesDFQ4['nome'])]\n",
    "    tempDiscentesDFQ4 = tempDiscentesDFQ4.reset_index(drop = True)\n",
    "    \n",
    "    # Dicionários para guardar nomes de orientadores e qtd de alunos (key == orientador ; value == qtd alunos)\n",
    "    orientadoresMestrado = {}\n",
    "    orientadoresDoutorado = {}\n",
    "    \n",
    "    # Percorrendo o data frame temporário para guardar os valores no respectivo dicionário\n",
    "    for indx in range(0, len(tempDiscentesDFQ4)):\n",
    "        if tempDiscentesDFQ4['nivel'][indx] == 'Mestrado':\n",
    "            if not orientadoresMestrado or tempDiscentesDFQ4['orientador'][indx] not in orientadoresMestrado:\n",
    "                orientadoresMestrado.update({tempDiscentesDFQ4['orientador'][indx]: 1})\n",
    "            elif orientadoresMestrado and tempDiscentesDFQ4['orientador'][indx] in orientadoresMestrado:\n",
    "                orientadoresMestrado[tempDiscentesDFQ4['orientador'][indx]] += 1\n",
    "        elif tempDiscentesDFQ4['nivel'][indx] == 'Doutorado':\n",
    "            if not orientadoresDoutorado or tempDiscentesDFQ4['orientador'][indx] not in orientadoresDoutorado:\n",
    "                orientadoresDoutorado.update({tempDiscentesDFQ4['orientador'][indx]: 1})\n",
    "            elif orientadoresDoutorado and tempDiscentesDFQ4['orientador'][indx] in orientadoresDoutorado:\n",
    "                orientadoresDoutorado[tempDiscentesDFQ4['orientador'][indx]] += 1\n",
    "    \n",
    "    # Guardando os valores calculados dos dicionários, pelo orientador\n",
    "    for orientador, qtdAlunos in orientadoresMestrado.items():\n",
    "        distribuicoesDF.loc[len(distribuicoesDF)] = [orientador, qtdAlunos, np.nan]\n",
    "    for orientador, qtdAlunos in orientadoresDoutorado.items():\n",
    "        if orientador in distribuicoesDF['Professor']:\n",
    "            distribuicoesDF.loc[distribuicoesDF['Professor'] == orientador, 'Qtd doutorandos'] = qtdAlunos\n",
    "        else:\n",
    "            distribuicoesDF.loc[len(distribuicoesDF)] = [orientador, np.nan, qtdAlunos]\n",
    "    \n",
    "    # Juntando valores da coluna pelo nome do orientador\n",
    "    distribuicoesDF = distribuicoesDF.groupby('Professor').first().reset_index()\n",
    "    distribuicoesDF = distribuicoesDF.groupby(['Qtd mestrandos', 'Qtd doutorandos']).size().reset_index(name='Qtd professores')\n",
    "    \n",
    "    # Reordenando as colunas\n",
    "    columns = distribuicoesDF.columns.tolist()\n",
    "    columns = columns[-1:] + columns[:-1]\n",
    "    distribuicoesDF = distribuicoesDF[columns]\n",
    "    \n",
    "    # Reordenando os valores em ordem decrescente\n",
    "    distribuicoesDF = distribuicoesDF.sort_values(['Qtd professores', 'Qtd mestrandos', 'Qtd doutorandos'], ascending=[False, False, False])\n",
    "    distribuicoesDF = distribuicoesDF.reset_index(drop = True)\n",
    "    distribuicoesDF = distribuicoesDF.fillna(0)\n",
    "    \n",
    "    # Guardando o data frame final no dicionário de resultado\n",
    "    distribuicoesByPrograma.update({programa: distribuicoesDF})\n",
    "    \n",
    "# O resultado obtido\n",
    "distribuicoesByPrograma"
   ]
  },
  {
   "cell_type": "code",
   "execution_count": null,
   "metadata": {
    "collapsed": false,
    "scrolled": false
   },
   "outputs": [],
   "source": [
    "# Mostrando o que achamos\n",
    "for programa, distribuicoes in distribuicoesByPrograma.items():\n",
    "    print(programa, ':')\n",
    "    display(distribuicoes)\n",
    "    print()"
   ]
  },
  {
   "cell_type": "code",
   "execution_count": null,
   "metadata": {
    "collapsed": true
   },
   "outputs": [],
   "source": [
    "# Montando resultado em gráfico de barras horizontais com o respectivo valor no final de cada barra\n",
    "matplotlib.rcParams.update({'font.size': 10})\n",
    "\n",
    "fig, ax = plt.subplots(figsize=(15,8))\n",
    "y_pos = [i for i in range(0,len(distribuicoesByPrograma['Programa']))]\n",
    "x_values = list(distribuicoesByPrograma['Distribuição Mestrandos/Professores'])\n",
    "x2_values = list(distribuicoesByPrograma['Distribuição Doutorandos/Professores'])\n",
    "bar_width = 0.35\n",
    "y2_pos = [i + bar_width for i in range(0,len(distribuicoesByPrograma['Programa']))]\n",
    "\n",
    "ax.set_title(\"Distribuição \\'alunos/professores\\' x Programa\")\n",
    "ax.barh(y_pos, x_values, height=bar_width, label='Mestrado', color='#cc6644')\n",
    "ax.barh(y2_pos, x2_values, height=bar_width, label='Doutorado', color='#4466cc')\n",
    "ax.set_yticks(y_pos)\n",
    "ax.set_yticklabels(list(distribuicoesByPrograma['Programa']))\n",
    "plt.xlim((0,max(x_values)*1.2))\n",
    "rects = ax.patches\n",
    "\n",
    "# For each bar: Place a label\n",
    "for rect in rects:\n",
    "    # Get X and Y placement of label from rect.\n",
    "    x_value = rect.get_width()\n",
    "    y_value = rect.get_y() + rect.get_height() / 2\n",
    "\n",
    "    # Use Y value as label and format number with one decimal place\n",
    "    label = \"{:}\".format(x_value)\n",
    "\n",
    "    # Create annotation\n",
    "    plt.annotate(\n",
    "        label,                      # Use `label` as label\n",
    "        (x_value, y_value),         # Place label at end of the bar\n",
    "        xytext=(5, 5),              #  Shift label (horizontally,vertically)\n",
    "        textcoords=\"offset points\", # Interpret `xytext` as offset in points\n",
    "        ha='left',                  # Horizontal label alignment\n",
    "        va='top')                   # Vertical label alignment\n",
    "\n",
    "plt.legend(loc=4, frameon=True, title='Nível calculado')    \n",
    "\n",
    "plt.show()"
   ]
  },
  {
   "cell_type": "markdown",
   "metadata": {},
   "source": [
    "# <span style=\"color:red\">Atenção!</span>\n",
    "- Falta montar o gráfico. Sugestão: usar gráfico de barras para cada programa (um for que mostra n gráficos diferentes, para n sendo o total de programas)"
   ]
  },
  {
   "cell_type": "markdown",
   "metadata": {},
   "source": [
    "## 5) Quantos alunos de Mestrado/Doutorado defenderam suas dissertações/teses em 2017 (arquivo trabalhos.csv)?"
   ]
  },
  {
   "cell_type": "code",
   "execution_count": null,
   "metadata": {
    "collapsed": true
   },
   "outputs": [],
   "source": [
    "# Vemos que faltam dados em DataTrabalhosRaw\n",
    "display(DataTrabalhosRaw.info())\n",
    "DataTrabalhosRaw.head()"
   ]
  },
  {
   "cell_type": "code",
   "execution_count": null,
   "metadata": {
    "collapsed": true
   },
   "outputs": [],
   "source": [
    "# Pegando as colunas que nos interessam e eliminando valores nulos através de uma das colunas do respectivo data frame\n",
    "trabalhosDFQ5 = DataTrabalhosRaw.loc[DataTrabalhosRaw['autor'].isnull() == False][['autor', 'tipo', 'data_defesa']]\n",
    "trabalhosDFQ5 = trabalhosDFQ5.sort_values(['autor', 'tipo'], ascending=[True, True])\n",
    "trabalhosDFQ5 = trabalhosDFQ5.reset_index(drop = True)\n",
    "\n",
    "display(trabalhosDFQ5.head())\n",
    "\n",
    "# Vemos que felizmente nos desfizemos de todos os valores nulos. A coluna \"data_defesa\" foi deixada para nos certificarmos que\n",
    "# todos os discentes aqui presentes realizaram as defesas\n",
    "trabalhosDFQ5.info()"
   ]
  },
  {
   "cell_type": "code",
   "execution_count": null,
   "metadata": {
    "collapsed": true
   },
   "outputs": [],
   "source": [
    "# Em trabalhosDFQ5 temos apenas Tese e Dissertação, como queremos\n",
    "display(trabalhosDFQ5['tipo'].unique())"
   ]
  },
  {
   "cell_type": "code",
   "execution_count": null,
   "metadata": {
    "collapsed": true
   },
   "outputs": [],
   "source": [
    "# Calculando o total de Mestrandos e Doutorandos\n",
    "quantityMestrandos = len(trabalhosDFQ5.loc[trabalhosDFQ5['tipo'] == 'DISSERTAÇÃO'])\n",
    "quantityDoutorandos = len(trabalhosDFQ5.loc[trabalhosDFQ5['tipo'] == 'TESE'])\n",
    "\n",
    "print(\"Total Mestrandos:\", quantityMestrandos)\n",
    "print(\"Total Doutorandos:\", quantityDoutorandos)"
   ]
  },
  {
   "cell_type": "code",
   "execution_count": null,
   "metadata": {
    "collapsed": true
   },
   "outputs": [],
   "source": [
    "# Montando um gráfico de barras verticais dos resultados obtidos\n",
    "x_labels = trabalhosDFQ5['tipo'].unique()\n",
    "x = range(len(x_labels))\n",
    "y = [quantityMestrandos, quantityDoutorandos]\n",
    "\n",
    "plt.figure(figsize=(5, 5))\n",
    "plt.title('Quantidade de alunos que realizaram defesa')\n",
    "plt.bar(x, y, align='center', width = 0.15, color=['#cc6644', '#4466cc'])\n",
    "plt.xticks(x, x_labels)\n",
    "\n",
    "plt.show()"
   ]
  },
  {
   "cell_type": "markdown",
   "metadata": {},
   "source": [
    "## 6) Como os trabalhos de Mestrado/Doutorado defendidos em 2017 foram distribuídos pelas áreas de pesquisa dos programas?"
   ]
  },
  {
   "cell_type": "code",
   "execution_count": null,
   "metadata": {
    "collapsed": false
   },
   "outputs": [],
   "source": [
    "# Para responder a pergunta, usaremos de novo DataTrabalhosRaw\n",
    "display(DataTrabalhosRaw.info())\n",
    "DataTrabalhosRaw.head()"
   ]
  },
  {
   "cell_type": "code",
   "execution_count": null,
   "metadata": {
    "collapsed": false
   },
   "outputs": [],
   "source": [
    "# Limpando e pegando os dados que nos interessam\n",
    "trabalhosDFQ6 = DataTrabalhosRaw.loc[DataTrabalhosRaw['autor'].isnull() == False][['autor', 'programa', 'area', 'tipo', 'data_defesa']]\n",
    "trabalhosDFQ6 = trabalhosDFQ6.reset_index(drop = True)\n",
    "\n",
    "display(trabalhosDFQ6.info())\n",
    "trabalhosDFQ6.head()"
   ]
  },
  {
   "cell_type": "code",
   "execution_count": null,
   "metadata": {
    "collapsed": false
   },
   "outputs": [],
   "source": [
    "# Montando nosso data frame\n",
    "tipoByArea = pd.DataFrame(columns=('Área', 'Mestrandos', 'Doutorandos'))\n",
    "tipoByArea['Área'] = trabalhosDFQ6['area'].unique()\n",
    "tipoByArea['Mestrandos'] = 0\n",
    "tipoByArea['Doutorandos'] = 0\n",
    "\n",
    "# Fazendo a contagem em relação ao tipo pra cada área\n",
    "for indx in range(0, len(trabalhosDFQ6)):\n",
    "    if trabalhosDFQ6['tipo'][indx] == 'DISSERTAÇÃO':\n",
    "        tipoByArea.loc[tipoByArea['Área'] == trabalhosDFQ6['area'][indx], 'Mestrandos'] += 1\n",
    "    elif trabalhosDFQ6['tipo'][indx] == 'TESE':\n",
    "        tipoByArea.loc[tipoByArea['Área'] == trabalhosDFQ6['area'][indx], 'Doutorandos'] += 1\n",
    "\n",
    "# Nosso data frame resultante\n",
    "display(tipoByArea)"
   ]
  },
  {
   "cell_type": "code",
   "execution_count": null,
   "metadata": {
    "collapsed": false
   },
   "outputs": [],
   "source": [
    "# Vemos que a linha 9 contém \"dado vazio\" para área, retiremos\n",
    "display(tipoByArea.loc[(tipoByArea['Área'] == '-')])\n",
    "\n",
    "tipoByArea = tipoByArea.drop(tipoByArea.index[[9]])\n",
    "tipoByArea = tipoByArea.reset_index(drop = True)"
   ]
  },
  {
   "cell_type": "code",
   "execution_count": null,
   "metadata": {
    "collapsed": false
   },
   "outputs": [],
   "source": [
    "tipoByArea = tipoByArea.sort_values('Área', ascending=True)\n",
    "tipoByArea = tipoByArea.reset_index(drop = True)\n",
    "tipoByArea"
   ]
  },
  {
   "cell_type": "markdown",
   "metadata": {},
   "source": [
    "## <span style=\"color:green\">Desejável para a questão:</span>\n",
    "- Achar uma forma de representar graficamente os resultados obtidos. Uma ideia é usando grágico de barras, mas nesse caso seriam 64 barras no total! :O\n",
    "- Achar uma forma de descobrir e juntar os valores de cursos que são na verdade o mesmo mas possuem pequenas diferenças nos nomes (usar semelhança das strings de Área é um bom caminho...)"
   ]
  },
  {
   "cell_type": "markdown",
   "metadata": {},
   "source": [
    "## 7) Como as defesas de Mestrado/Doutorado foram distribuídas ao longo do ano de 2017?"
   ]
  },
  {
   "cell_type": "code",
   "execution_count": null,
   "metadata": {
    "collapsed": true
   },
   "outputs": [],
   "source": [
    "# Para responder a pergunta, usaremos de novo DataTrabalhosRaw\n",
    "display(DataTrabalhosRaw.info())\n",
    "DataTrabalhosRaw.head()"
   ]
  },
  {
   "cell_type": "code",
   "execution_count": null,
   "metadata": {
    "collapsed": true
   },
   "outputs": [],
   "source": [
    "# Pegando os atributos que nos interessa, fazendo as devidas limpezas/conversões\n",
    "trabalhosDFQ7 = DataTrabalhosRaw.loc[(DataTrabalhosRaw['data_defesa'].isnull() == False)][['autor', 'tipo', 'data_defesa']]\n",
    "trabalhosDFQ7['data_defesa'] = pd.to_datetime(trabalhosDFQ7['data_defesa'])\n",
    "trabalhosDFQ7 = trabalhosDFQ7.sort_values(['data_defesa', 'tipo'], ascending=[True, True])\n",
    "trabalhosDFQ7 = trabalhosDFQ7.reset_index(drop = True)\n",
    "\n",
    "display(trabalhosDFQ7.info())\n",
    "trabalhosDFQ7.head()"
   ]
  },
  {
   "cell_type": "code",
   "execution_count": null,
   "metadata": {
    "collapsed": true
   },
   "outputs": [],
   "source": [
    "# Montando nosso data frame\n",
    "tipoByMes = pd.DataFrame(columns=('Mes', 'Mestrandos', 'Doutorandos'))\n",
    "tipoByMes['Mes'] = trabalhosDFQ7['data_defesa'].dt.month.unique()\n",
    "tipoByMes['Mestrandos'] = 0\n",
    "tipoByMes['Doutorandos'] = 0\n",
    "\n",
    "# Fazendo a contagem em relação ao tipo pra cada mês\n",
    "for indx in range(0, len(trabalhosDFQ7)):\n",
    "    if trabalhosDFQ7['tipo'][indx] == 'DISSERTAÇÃO':\n",
    "        tipoByMes.loc[tipoByMes['Mes'] == trabalhosDFQ7['data_defesa'].dt.month[indx], 'Mestrandos'] += 1\n",
    "    elif trabalhosDFQ7['tipo'][indx] == 'TESE':\n",
    "        tipoByMes.loc[tipoByMes['Mes'] == trabalhosDFQ7['data_defesa'].dt.month[indx], 'Doutorandos'] += 1\n",
    "\n",
    "# Nosso data frame resultante\n",
    "tipoByMes"
   ]
  },
  {
   "cell_type": "code",
   "execution_count": null,
   "metadata": {
    "collapsed": true
   },
   "outputs": [],
   "source": [
    "# Montando gráfico de linhas com os resultados\n",
    "plt.figure()\n",
    "\n",
    "x_label = tipoByMes['Mes']\n",
    "y_values = tipoByMes['Mestrandos']\n",
    "y2_values = tipoByMes['Doutorandos']\n",
    "plt.plot(x_label, y_values, '-o',  label='Mestrado')\n",
    "plt.plot(x_label, y2_values, '-o', label='Doutorado')\n",
    "    \n",
    "# Ajustando a margem inferior do gráfico\n",
    "plt.subplots_adjust(bottom=0.25)\n",
    "\n",
    "ax = plt.gca()\n",
    "ax.set_xlabel('Mês')\n",
    "ax.set_ylabel('Quantidade')\n",
    "ax.set_title('Defesas x Mês em 2017')\n",
    "plt.legend(loc=1, frameon=True, title='Tipo de nível')\n",
    "mes_xticks = ['Janeiro', 'Fevereiro', 'Março', 'Abril', 'Maio', 'Junho', 'Julho', 'Agosto', 'Setembro', 'Outubro', 'Novembro', 'Dezembro']\n",
    "plt.xticks(x_label, mes_xticks, rotation=45)\n",
    "\n",
    "plt.show()"
   ]
  },
  {
   "cell_type": "markdown",
   "metadata": {},
   "source": [
    "## 8) Qual fração de alunos de Mestrado/Doutorado (do total em cada programa) defendeu em 2017?"
   ]
  },
  {
   "cell_type": "code",
   "execution_count": null,
   "metadata": {
    "collapsed": true,
    "scrolled": false
   },
   "outputs": [],
   "source": [
    "# Para responder a pergunta, usaremos tabelas 'trabalhos' e o data frame resultado da questão 2\n",
    "display(DataTrabalhosRaw.info())\n",
    "display(DataTrabalhosRaw.head())\n",
    "\n",
    "display(discentesByPrograma.info())\n",
    "discentesByPrograma"
   ]
  },
  {
   "cell_type": "code",
   "execution_count": null,
   "metadata": {
    "collapsed": true
   },
   "outputs": [],
   "source": [
    "# Pegando os atributos que nos interessa, fazendo as devidas limpezas\n",
    "trabalhosDFQ8 = DataTrabalhosRaw.loc[(DataTrabalhosRaw['data_defesa'].isnull() == False)][['programa', 'tipo', 'data_defesa']]\n",
    "trabalhosDFQ8 = trabalhosDFQ8.reset_index(drop = True)\n",
    "\n",
    "display(trabalhosDFQ8.info())\n",
    "trabalhosDFQ8.head()"
   ]
  },
  {
   "cell_type": "code",
   "execution_count": null,
   "metadata": {
    "collapsed": true
   },
   "outputs": [],
   "source": [
    "# Montando o data frame resultado\n",
    "defesasByPrograma = pd.DataFrame(columns=('Programa', 'Total defesa Mestrandos', 'Total defesa Doutorandos'))\n",
    "defesasByPrograma['Programa'] = trabalhosDFQ8['programa'].unique()\n",
    "defesasByPrograma['Total defesa Mestrandos'] = 0\n",
    "defesasByPrograma['Total defesa Doutorandos'] = 0\n",
    "\n",
    "# Fazendo a contagem do total de defesas por programa\n",
    "for indx in range(0, len(trabalhosDFQ8)):\n",
    "    if trabalhosDFQ8['tipo'][indx] == 'DISSERTAÇÃO':\n",
    "        defesasByPrograma.loc[defesasByPrograma['Programa'] == trabalhosDFQ8['programa'][indx], 'Total defesa Mestrandos'] += 1\n",
    "    elif trabalhosDFQ8['tipo'][indx] == 'TESE':\n",
    "        defesasByPrograma.loc[defesasByPrograma['Programa'] == trabalhosDFQ8['programa'][indx], 'Total defesa Doutorandos'] += 1\n",
    "\n",
    "# Calculando as porcentagens\n",
    "defesasByPrograma['% Defesa Mestrandos'] = (defesasByPrograma['Total defesa Mestrandos'] / discentesByPrograma['Mestrandos']) * 100\n",
    "defesasByPrograma['% Defesa Doutorandos'] = (defesasByPrograma['Total defesa Doutorandos'] / discentesByPrograma['Doutorandos']) * 100\n",
    "\n",
    "defesasByPrograma"
   ]
  },
  {
   "cell_type": "markdown",
   "metadata": {},
   "source": [
    "## <span style=\"color:green\">Desejável para a questão:</span>\n",
    "- Montar um gráfico para representar os resultados. Uma ideia é criar um gráfico de pizza para cada programa (dando um total de 10 gráficos de pizza)"
   ]
  },
  {
   "cell_type": "markdown",
   "metadata": {},
   "source": [
    "## 9) Quantos artigos de periódico/trabalhos em anais foram publicados por cada programa em 2017?"
   ]
  },
  {
   "cell_type": "code",
   "execution_count": null,
   "metadata": {
    "collapsed": true
   },
   "outputs": [],
   "source": [
    "# Usaremos tabela 'produção' para responder a pergunta\n",
    "DataProducaoRaw.info()\n",
    "display(DataProducaoRaw.head())"
   ]
  },
  {
   "cell_type": "code",
   "execution_count": null,
   "metadata": {
    "collapsed": true
   },
   "outputs": [],
   "source": [
    "# Pegando apenas as colunas que nos interessam, temos todos os programas, mas há artigos e trabalhos como nulo\n",
    "producaoDFQ9 = DataProducaoRaw[['programa', 'paper_id', 'periodico', 'anais_titulo']]\n",
    "producaoDFQ9 = producaoDFQ9.drop_duplicates(subset='paper_id', keep=False) # Nos certificando de retirar papers duplicados\n",
    "producaoDFQ9 = producaoDFQ9.reset_index(drop = True)\n",
    "display(producaoDFQ9.info())\n",
    "producaoDFQ9.head()"
   ]
  },
  {
   "cell_type": "code",
   "execution_count": null,
   "metadata": {
    "collapsed": true
   },
   "outputs": [],
   "source": [
    "# Montando nosso data frame\n",
    "artigosTrabalhosByPrograma = pd.DataFrame(columns=('Programa', 'Artigos de periódico', 'Trabalhos em anais'))\n",
    "artigosTrabalhosByPrograma['Programa'] = producaoDFQ9['programa'].unique()\n",
    "artigosTrabalhosByPrograma['Artigos de periódico'] = 0\n",
    "artigosTrabalhosByPrograma['Trabalhos em anais'] = 0\n",
    "\n",
    "# Fazendo a contagem em relação a artigos e trabalhos para o respectivo programa\n",
    "for indx in range(0, len(producaoDFQ9)):\n",
    "    if producaoDFQ9['periodico'][indx] is not np.nan:\n",
    "        artigosTrabalhosByPrograma.loc[artigosTrabalhosByPrograma['Programa'] == producaoDFQ9['programa'][indx], 'Artigos de periódico'] += 1\n",
    "    if producaoDFQ9['anais_titulo'][indx] is not np.nan:\n",
    "        artigosTrabalhosByPrograma.loc[artigosTrabalhosByPrograma['Programa'] == producaoDFQ9['programa'][indx], 'Trabalhos em anais'] += 1\n",
    "\n",
    "# Nosso data frame resultante\n",
    "artigosTrabalhosByPrograma"
   ]
  },
  {
   "cell_type": "code",
   "execution_count": null,
   "metadata": {
    "collapsed": true,
    "scrolled": true
   },
   "outputs": [],
   "source": [
    "# Montando um gráfico de barras horizontais do resultado obtido\n",
    "x_labels = artigosTrabalhosByPrograma['Programa']\n",
    "x = range(len(x_labels))\n",
    "y = artigosTrabalhosByPrograma['Artigos de periódico']\n",
    "\n",
    "bar_width = 0.35\n",
    "\n",
    "x2 = []\n",
    "for item in x:\n",
    "    x2.append(item + bar_width)\n",
    "y2 = artigosTrabalhosByPrograma['Trabalhos em anais']\n",
    "\n",
    "plt.figure()\n",
    "plt.barh(x, y, height=bar_width, label =\"Periódico\", color='#cc6644')\n",
    "plt.barh(x2, y2, height=bar_width, label=\"Anais\", color='#4466cc')\n",
    "\n",
    "plt.title('Produtos x Programa')\n",
    "plt.yticks(x, x_labels)\n",
    "plt.legend(loc=4, frameon=True, title='Lugares de publicação')\n",
    "\n",
    "plt.show()"
   ]
  },
  {
   "cell_type": "markdown",
   "metadata": {},
   "source": [
    "## 10) Qual é a taxa de artigos de periódico/trabalhos em anais por número de docentes permanentes de cada programa em 2017?"
   ]
  },
  {
   "cell_type": "code",
   "execution_count": null,
   "metadata": {
    "collapsed": true
   },
   "outputs": [],
   "source": []
  },
  {
   "cell_type": "markdown",
   "metadata": {},
   "source": [
    "## 11) Qual fração de artigos de periódico/trabalhos em anais publicados em 2017 teve a coautoria de discentes?"
   ]
  },
  {
   "cell_type": "code",
   "execution_count": null,
   "metadata": {
    "collapsed": true
   },
   "outputs": [],
   "source": [
    "# Usaremos tabela 'produção' para responder a pergunta\n",
    "DataProducaoRaw.info()\n",
    "display(DataProducaoRaw.head())"
   ]
  },
  {
   "cell_type": "code",
   "execution_count": null,
   "metadata": {
    "collapsed": true
   },
   "outputs": [],
   "source": [
    "# Pegando as colunas que nos interessam\n",
    "producaoDFQ11 = DataProducaoRaw[['num_docentes', 'num_discentes', 'num_externos', 'paper_id', 'periodico', 'anais_titulo']]\n",
    "producaoDFQ11 = producaoDFQ11.drop_duplicates(subset='paper_id', keep=False) # Retirando os papers duplicados\n",
    "producaoDFQ11 = producaoDFQ11.reset_index(drop = True)\n",
    "display(producaoDFQ11.info())\n",
    "producaoDFQ11.head()"
   ]
  },
  {
   "cell_type": "code",
   "execution_count": null,
   "metadata": {
    "collapsed": true
   },
   "outputs": [],
   "source": [
    "# Existe um valor sem docente e externo. Como queremos coautoria com discentes, precisamos de pelo menos um participante para\n",
    "# pelo menos um deles. Logo, retiremos essa tupla.\n",
    "display(producaoDFQ11.loc[(producaoDFQ11['num_docentes'] == 0) & (producaoDFQ11['num_externos'] == 0)])\n",
    "\n",
    "producaoDFQ11 = producaoDFQ11.drop(producaoDFQ11.index[[2556]])\n",
    "producaoDFQ11 = producaoDFQ11.reset_index(drop = True)"
   ]
  },
  {
   "cell_type": "code",
   "execution_count": null,
   "metadata": {
    "collapsed": true
   },
   "outputs": [],
   "source": [
    "# Declarando e inicializando as variáveis que usaremos\n",
    "artigosDiscentePercent = 0\n",
    "trabalhosDiscentePercent = 0\n",
    "artigosTotal = 0\n",
    "trabalhosTotal = 0\n",
    "\n",
    "# Fazendo a contagem do total de artigos e trabalhos e de coautoria de discente para cada um deles\n",
    "for indx in range(0, len(producaoDFQ11)):\n",
    "    if producaoDFQ11['periodico'][indx] is not np.nan:\n",
    "        artigosTotal += 1\n",
    "        if producaoDFQ11['num_discentes'][indx] != 0:\n",
    "            artigosDiscentePercent += 1\n",
    "    if producaoDFQ11['anais_titulo'][indx] is not np.nan:\n",
    "        trabalhosTotal += 1\n",
    "        if producaoDFQ11['num_discentes'][indx] != 0:\n",
    "            trabalhosDiscentePercent += 1\n",
    "\n",
    "# Calculando as porcentagens\n",
    "artigosDiscentePercent /= artigosTotal\n",
    "artigosDiscentePercent *= 100\n",
    "trabalhosDiscentePercent /= trabalhosTotal\n",
    "trabalhosDiscentePercent *= 100\n",
    "\n",
    "print(\"\\nArtigos de periódico com coautoria de discente: \", artigosDiscentePercent, \"%\\nTrabalhos em anais com coautoria de discente: \", trabalhosDiscentePercent, \"%\")"
   ]
  },
  {
   "cell_type": "code",
   "execution_count": null,
   "metadata": {
    "collapsed": true
   },
   "outputs": [],
   "source": [
    "# Montando gráficos pie chart para cada resultado\n",
    "labels = 'Com discente', 'Sem discente'\n",
    "explode=(0, 0.05)\n",
    "\n",
    "# Artigos de periódico com coautoria de discente\n",
    "figure(1, figsize=(6,6))\n",
    "fracs = [artigosDiscentePercent, 100-artigosDiscentePercent]\n",
    "pie(fracs, explode=explode, labels=labels, autopct='%1.4f%%', shadow=True, startangle=90)\n",
    "title('Taxa de coautoria de discentes em artigos de periódicos', bbox={'facecolor':'0.8', 'pad':5})\n",
    "\n",
    "show()\n",
    "\n",
    "# Trabalhos em anais com coautoria de discente\n",
    "figure(1, figsize=(6,6))\n",
    "fracs2 = [trabalhosDiscentePercent, 100-trabalhosDiscentePercent]\n",
    "pie(fracs2, explode=explode, labels=labels, autopct='%1.4f%%', shadow=True, startangle=90)\n",
    "title('Taxas de coautoria discentes em trabalhos em anais', bbox={'facecolor':'0.8', 'pad':5})\n",
    "\n",
    "show()"
   ]
  },
  {
   "cell_type": "markdown",
   "metadata": {},
   "source": [
    "## 12) Qual fração de artigos de periódico/trabalhos em anais publicados em 2017 teve a coautoria de participantes externos?"
   ]
  },
  {
   "cell_type": "code",
   "execution_count": null,
   "metadata": {
    "collapsed": true
   },
   "outputs": [],
   "source": []
  },
  {
   "cell_type": "markdown",
   "metadata": {},
   "source": [
    "## 13) Qual é a distribuição de artigos de periódico publicados em 2017, por estrato do Qualis?"
   ]
  },
  {
   "cell_type": "code",
   "execution_count": null,
   "metadata": {
    "collapsed": true
   },
   "outputs": [],
   "source": []
  },
  {
   "cell_type": "markdown",
   "metadata": {},
   "source": [
    "## 14) Considerando os pesos dos artigos de cada estrato do índice restrito ({'A1': 1, 'A2': 0.85, 'B1': 0.70}), qual o índice restrito relativo de cada programa, considerando apenas os artigos em periódicos, e dividido pelo número de docentes permanentes (ordenado do maior para o menor)?"
   ]
  },
  {
   "cell_type": "code",
   "execution_count": null,
   "metadata": {
    "collapsed": false
   },
   "outputs": [],
   "source": [
    "# Para responder a questão, usaremos tabela 'qualis' que nos diz o ISSN e o Extrato\n",
    "display(DataQualisRaw.info())\n",
    "display(DataQualisRaw.head())\n",
    "\n",
    "# Tabela 'produção' que nos diz o programa, o ISSN, se produto é artigo em periódico e os docentes que participaram\n",
    "display(DataProducaoRaw.info())\n",
    "display(DataProducaoRaw.head(4))\n",
    "\n",
    "# Tabela 'docentes' que nos diz se docente é permanente\n",
    "display(DataDocentesRaw.info())\n",
    "DataDocentesRaw.head()"
   ]
  },
  {
   "cell_type": "code",
   "execution_count": null,
   "metadata": {
    "collapsed": false
   },
   "outputs": [],
   "source": [
    "# Limpando meus data frames e pegando apenas os dados que nos interessam\n",
    "qualisDFQ14 = DataQualisRaw.drop_duplicates(subset=['ISSN', 'Título', 'Estrato'], keep=False)[['ISSN', 'Estrato']]\n",
    "qualisDFQ14.columns.values[0] = \"issn\"\n",
    "qualisDFQ14.columns.values[1] = \"estrato\"\n",
    "display(qualisDFQ14.info())\n",
    "display(qualisDFQ14.head())\n",
    "\n",
    "producaoDFQ14 = DataProducaoRaw.loc[(DataProducaoRaw['periodico'].isnull() == False)\n",
    "                                   & (DataProducaoRaw['num_docentes'] != 0)][['programa', 'paper_id', 'dict_paper_autores', 'issn']]\n",
    "producaoDFQ14 = producaoDFQ14.drop_duplicates(subset='paper_id', keep=False)\n",
    "producaoDFQ14 = producaoDFQ14.reset_index(drop = True)\n",
    "producaoDFQ14 = producaoDFQ14.drop('paper_id', 1)\n",
    "display(producaoDFQ14.info())\n",
    "display(producaoDFQ14.head())\n",
    "\n",
    "docentesDFQ14 = DataDocentesRaw.loc[DataDocentesRaw['categoria'] == 'PERMANENTE'][['nome']]\n",
    "display(docentesDFQ14.info())\n",
    "docentesDFQ14.head()"
   ]
  },
  {
   "cell_type": "code",
   "execution_count": null,
   "metadata": {
    "collapsed": false
   },
   "outputs": [],
   "source": [
    "# Montando nosso data frame resultado\n",
    "indiceRestritoRelativoByPrograma = pd.DataFrame(columns=('Programa', 'Índice restrito relativo', 'Total docentes permanentes'))\n",
    "indiceRestritoRelativoByPrograma['Programa'] = producaoDFQ14['programa'].unique()\n",
    "indiceRestritoRelativoByPrograma['Índice restrito relativo'] = 0\n",
    "indiceRestritoRelativoByPrograma['Total docentes permanentes'] = 0\n",
    "\n",
    "# Criando dicionário para os valores dos estratos que restringem nosso cálculo\n",
    "estratoDictionary = {'A1': 1, 'A2': 0.85, 'B1': 0.70}\n",
    "\n",
    "# Fazendo a contagem do índice relativo em relação ao programa e se há docente que é permanente\n",
    "for indx in range(0, len(producaoDFQ14)):\n",
    "    dictionaryList = ast.literal_eval(producaoDFQ14['dict_paper_autores'][indx])\n",
    "    for dictionary in dictionaryList:\n",
    "        if (dictionary['categoria'] == 'Docente') & (docentesDFQ14[docentesDFQ14['nome'].str.contains(dictionary['nome'])].empty == False) & (qualisDFQ14[qualisDFQ14['issn'].str.contains(producaoDFQ14['issn'][indx])].empty == False):\n",
    "            indiceRestritoRelativoByPrograma.loc[indiceRestritoRelativoByPrograma['Programa'] == producaoDFQ14['programa'][indx], 'Total docentes permanentes'] += 1\n",
    "                    \n",
    "            estrato = qualisDFQ14.loc[qualisDFQ14['issn'] == producaoDFQ14['issn'][indx], \"estrato\"].reset_index(drop = True)[0]\n",
    "            if estrato in estratoDictionary:\n",
    "                indiceRestritoRelativoByPrograma.loc[indiceRestritoRelativoByPrograma['Programa'] == producaoDFQ14['programa'][indx], 'Índice restrito relativo'] += estratoDictionary[estrato]\n",
    "            break\n",
    "\n",
    "# Calculando com o total de docentes permanentes do respectivo programa\n",
    "indiceRestritoRelativoByPrograma['Resultado'] = indiceRestritoRelativoByPrograma['Índice restrito relativo'] / indiceRestritoRelativoByPrograma['Total docentes permanentes']\n",
    "\n",
    "# Nosso data frame resultante\n",
    "indiceRestritoRelativoByPrograma = indiceRestritoRelativoByPrograma.sort_values(['Resultado', 'Índice restrito relativo'], ascending=[False, False])\n",
    "indiceRestritoRelativoByPrograma = indiceRestritoRelativoByPrograma.reset_index(drop = True)\n",
    "indiceRestritoRelativoByPrograma"
   ]
  },
  {
   "cell_type": "code",
   "execution_count": null,
   "metadata": {
    "collapsed": false
   },
   "outputs": [],
   "source": [
    "# Montando resultado em gráfico de barras horizontais com o respectivo valor no final de cada barra\n",
    "matplotlib.rcParams.update({'font.size': 14})\n",
    "\n",
    "fig, ax = plt.subplots(figsize=(18,8))\n",
    "y_pos = [i for i in range(0,len(indiceRestritoRelativoByPrograma['Programa']))]\n",
    "x_values = list(indiceRestritoRelativoByPrograma['Resultado'])\n",
    "bar_width = 0.5\n",
    "\n",
    "ax.set_title(\"Índice restrito relativo x Programa\")\n",
    "ax.barh(y_pos, x_values, height=bar_width)\n",
    "ax.set_yticks(y_pos)\n",
    "ax.set_yticklabels(list(indiceRestritoRelativoByPrograma['Programa']))\n",
    "plt.xlim((0,max(x_values)*1.2))\n",
    "rects = ax.patches\n",
    "\n",
    "# For each bar: Place a label\n",
    "for rect in rects:\n",
    "    # Get X and Y placement of label from rect.\n",
    "    x_value = rect.get_width()\n",
    "    y_value = rect.get_y() + rect.get_height() / 2\n",
    "\n",
    "    # Use Y value as label and format number with one decimal place\n",
    "    label = \"{:}\".format(x_value)\n",
    "\n",
    "    # Create annotation\n",
    "    plt.annotate(\n",
    "        label,                      # Use `label` as label\n",
    "        (x_value, y_value),         # Place label at end of the bar\n",
    "        xytext=(5, 5),              #  Shift label (horizontally,vertically)\n",
    "        textcoords=\"offset points\", # Interpret `xytext` as offset in points\n",
    "        ha='left',                  # Horizontal label alignment\n",
    "        va='top')                   # Vertical label alignment\n",
    "\n",
    "plt.gca().invert_yaxis()\n",
    "\n",
    "plt.show()"
   ]
  },
  {
   "cell_type": "markdown",
   "metadata": {},
   "source": [
    "## **<span style=\"color:green\">Desejável para a questão:</span>**\n",
    "- Otimizar o código para obter data frame resultado, está demorando bastante (dá pra eliminar tuplas de 'produção' checando na limpeza se um docente não é permanente, por exemplo)"
   ]
  },
  {
   "cell_type": "markdown",
   "metadata": {},
   "source": [
    "## 15) Considerando os pesos dos artigos de cada estrato do índice geral ({'A1': 1, 'A2': 0.85, 'B1': 0.70, 'B2': 0.50, 'B3': 0.20, 'B4': 0.10, 'B5': 0.05, 'C': 0.0}), qual o índice geral relativo de cada programa, considerando apenas os artigos em periódicos, e dividido pelo número de docentes permanentes (ordenado do maior para o menor)?"
   ]
  },
  {
   "cell_type": "code",
   "execution_count": null,
   "metadata": {
    "collapsed": true
   },
   "outputs": [],
   "source": []
  },
  {
   "cell_type": "markdown",
   "metadata": {},
   "source": [
    "## **<span style=\"color:red\">Detalhes a ficarmos atentos para o trabalho:</span>**\n",
    "- Verificar repetição de dados (aparentemente temos papers duplicados)\n",
    "- Estar atento a outros detalhes sobre os dados não percebidos na análise inicial dos dados"
   ]
  }
 ],
 "metadata": {
  "kernelspec": {
   "display_name": "Python 3",
   "language": "python",
   "name": "python3"
  },
  "language_info": {
   "codemirror_mode": {
    "name": "ipython",
    "version": 3
   },
   "file_extension": ".py",
   "mimetype": "text/x-python",
   "name": "python",
   "nbconvert_exporter": "python",
   "pygments_lexer": "ipython3",
   "version": "3.5.4"
  }
 },
 "nbformat": 4,
 "nbformat_minor": 2
}
