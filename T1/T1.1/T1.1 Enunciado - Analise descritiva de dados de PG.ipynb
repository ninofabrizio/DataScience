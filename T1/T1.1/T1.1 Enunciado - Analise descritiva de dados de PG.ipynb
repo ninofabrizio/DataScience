{
 "cells": [
  {
   "cell_type": "markdown",
   "metadata": {},
   "source": [
    "Os arquivos compactados no arquivo dados_CAPES_2018-04-06.zip trazem dados sobre os programas de pós-graduação em Informática de algumas instituições em 2017. Tratam-se de dados públicos, obtidos da plataforma Sucupira da CAPES (https://sucupira.capes.gov.br/sucupira/). \n",
    "\n",
    "O objetivo do trabalho T1.1 é fazer uma análise descritiva e responder algumas perguntas sobre os dados. Sempre que possível, as respostas devem ser dadas numérica e visualmente."
   ]
  },
  {
   "cell_type": "markdown",
   "metadata": {},
   "source": [
    "## Docentes\n",
    "1) Quantos professores (docentes) havia em cada programa em 2017, em cada quadro (permanente, colaborador, visitante)?\n",
    "\n",
    "## Discentes\n",
    "2) Quantos alunos (discentes) de Mestrado/Doutorado havia em cada programa em 2017?\n",
    "\n",
    "## Discentes x Docentes\n",
    "3) Qual foi a taxa de alunos de Mestrado/Doutorado por professor do quadro permanente em cada programa em 2017?\n",
    "\n",
    "4) Qual foi a distribuição de alunos de Mestrado/Doutorado pelos professores de cada programa em 2017?\n",
    "\n",
    "## Trabalhos de Conclusão\n",
    "5) Quantos alunos de Mestrado/Doutorado defenderam suas dissertações/teses em 2017 (arquivo trabalhos.csv)?\n",
    "\n",
    "6) Como os trabalhos de Mestrado/Doutorado defendidos em 2017 foram distribuídos pelas áreas de pesquisa dos programas?\n",
    "\n",
    "7) Como as defesas de Mestrado/Doutorado foram distribuídas ao longo do ano de 2017?\n",
    "\n",
    "## Discentes x Trabalhos de Conclusão\n",
    "8) Qual fração de alunos de Mestrado/Doutorado (do total em cada programa) defendeu em 2017?\n",
    "\n",
    "## Produção\n",
    "9) Quantos artigos de periódico/trabalhos em anais foram publicados por cada programa em 2017?\n",
    "\n",
    "10) Qual é a taxa de artigos de periódico/trabalhos em anais por número de docentes permanentes de cada programa em 2017?\n",
    "\n",
    "11) Qual fração de artigos de periódico/trabalhos em anais publicados em 2017 teve a coautoria de discentes?\n",
    "\n",
    "12) Qual fração de artigos de periódico/trabalhos em anais publicados em 2017 teve a coautoria de participantes externos?\n",
    "\n",
    "## Produção x Qualis\n",
    "13) Qual é a distribuição de artigos de periódico publicados em 2017, por estrato do Qualis?\n",
    "\n",
    "14) Considerando os pesos dos artigos de cada estrato do índice restrito ({'A1': 1, 'A2': 0.85, 'B1': 0.70}), qual o índice restrito relativo de cada programa, considerando apenas os artigos em periódicos, e dividido pelo número de docentes permanentes (ordenado do maior para o menor)?\n",
    "\n",
    "15) Considerando os pesos dos artigos de cada estrato do índice geral ({'A1': 1, 'A2': 0.85, 'B1': 0.70, 'B2': 0.50, 'B3': 0.20, 'B4': 0.10, 'B5': 0.05, 'C': 0.0}), qual o índice geral relativo de cada programa, considerando apenas os artigos em periódicos, e dividido pelo número de docentes permanentes (ordenado do maior para o menor)?"
   ]
  },
  {
   "cell_type": "code",
   "execution_count": null,
   "metadata": {},
   "outputs": [],
   "source": []
  }
 ],
 "metadata": {
  "kernelspec": {
   "display_name": "Python 3",
   "language": "python",
   "name": "python3"
  },
  "language_info": {
   "codemirror_mode": {
    "name": "ipython",
    "version": 3
   },
   "file_extension": ".py",
   "mimetype": "text/x-python",
   "name": "python",
   "nbconvert_exporter": "python",
   "pygments_lexer": "ipython3",
   "version": "3.6.4"
  }
 },
 "nbformat": 4,
 "nbformat_minor": 2
}
