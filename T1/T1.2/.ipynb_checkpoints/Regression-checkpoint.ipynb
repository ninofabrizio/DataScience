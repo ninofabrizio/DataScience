{
 "cells": [
  {
   "cell_type": "markdown",
   "metadata": {},
   "source": [
    "# T1.2 - Solution B\n",
    "## Authors:\n",
    "- Leonardo Kaplan 1212509\n",
    "- Nino Fabrizio Tiriticco Lizardo 1113203"
   ]
  },
  {
   "cell_type": "code",
   "execution_count": null,
   "metadata": {
    "collapsed": true
   },
   "outputs": [],
   "source": [
    "# Pacotes usados\n",
    "import pandas as pd # Para pegar os dados dos arquivos\n",
    "from IPython.display import display # Para mostrar mais de uma informação em uma mesma célula\n",
    "import ast # Para transformar string/object em estruturas de dados (listas, dicionários, ...)\n",
    "import numpy as np # Para obter o total de valores por um atributo\n",
    "from sklearn import linear_model,datasets,svm,tree,neural_network\n",
    "from sklearn.model_selection import train_test_split\n",
    "from sklearn.metrics import mean_squared_error, r2_score\n",
    "from sklearn.neighbors.nearest_centroid import NearestCentroid\n",
    "from sklearn.feature_selection import VarianceThreshold,SelectKBest,chi2\n",
    "import matplotlib.pyplot as plt\n",
    "import seaborn as sns\n",
    "import math\n",
    "\n",
    "import random\n",
    "random.seed(1001001)\n",
    "\n",
    "#colocar:\n",
    "\n",
    "#http://scikit-learn.org/stable/modules/feature_selection.html"
   ]
  },
  {
   "cell_type": "code",
   "execution_count": null,
   "metadata": {
    "collapsed": false
   },
   "outputs": [],
   "source": [
    "# Carregando dados de cada um dos arquivos\n",
    "data = pd.read_csv('in/winequality-red.csv',sep=';')\n",
    "data.describe()"
   ]
  },
  {
   "cell_type": "code",
   "execution_count": null,
   "metadata": {
    "collapsed": true
   },
   "outputs": [],
   "source": [
    "#sns.set(style=\"ticks\")\n",
    "#sns.pairplot(data,hue=\"quality\")\n",
    "#plt.show()"
   ]
  },
  {
   "cell_type": "code",
   "execution_count": null,
   "metadata": {
    "collapsed": false
   },
   "outputs": [],
   "source": [
    "plt.subplots(figsize=(10,10))\n",
    "sns.heatmap(data.corr(),vmax=1,square=True,annot=True,cmap='Blues')\n",
    "plt.show()"
   ]
  },
  {
   "cell_type": "code",
   "execution_count": null,
   "metadata": {
    "collapsed": true
   },
   "outputs": [],
   "source": [
    "features = ['fixed acidity', 'volatile acidity', 'citric acid', 'residual sugar',\n",
    "       'chlorides', 'free sulfur dioxide', 'total sulfur dioxide', 'density',\n",
    "       'pH', 'sulphates', 'alcohol']\n",
    "X = data[features]\n",
    "Y = data['quality']\n",
    "#sns.pairplot(data,x_vars=features,y_vars='quality',kind='reg',size=7,aspect=0.5)\n",
    "#plt.show()\n",
    "X_train,X_test,Y_train,Y_test=train_test_split(X,Y,random_state=random.randrange(0,100),test_size=0.25)"
   ]
  },
  {
   "cell_type": "code",
   "execution_count": null,
   "metadata": {
    "collapsed": true
   },
   "outputs": [],
   "source": [
    "def present(x,y,h):\n",
    "    fig = plt.figure(figsize = (15,15))\n",
    "    size = len(data.columns)\n",
    "    for i in range(0,size-1):\n",
    "        ax = fig.add_subplot(math.ceil(math.sqrt(size-1)), math.ceil(math.sqrt(size-1)), i+1)\n",
    "        ax.scatter(x.iloc[:,i], y,  color='red')\n",
    "        ax.scatter(x.iloc[:,i], h, color='blue', linewidth=3)\n",
    "    plt.show()\n",
    "    #sns.pairplot(df,x_vars=features,y_vars='quality',kind='reg',size=7,aspect=0.5)\n",
    "    #plt.show()"
   ]
  },
  {
   "cell_type": "code",
   "execution_count": null,
   "metadata": {
    "collapsed": true
   },
   "outputs": [],
   "source": [
    "def test(regr,X_train,Y_train,X_test,Y_test,linear=False):\n",
    "    regr.fit(X_train, Y_train)\n",
    "    Y_pred = regr.predict(X_test)\n",
    "    if linear:\n",
    "        print('Coefficients: \\n', regr.coef_)\n",
    "    print(\"Mean squared error: %.2f\" % mean_squared_error(Y_test, Y_pred))\n",
    "    print('Variance score: %.2f' % r2_score(Y_test, Y_pred))\n",
    "    return Y_pred,mean_squared_error(Y_test, Y_pred),r2_score(Y_test, Y_pred)"
   ]
  },
  {
   "cell_type": "code",
   "execution_count": null,
   "metadata": {
    "collapsed": true
   },
   "outputs": [],
   "source": [
    "methods = [\n",
    "        linear_model.LinearRegression(),\n",
    "        svm.SVR(),\n",
    "        linear_model.SGDRegressor(max_iter=1000,tol=1e-3,loss=\"huber\"),\n",
    "        NearestCentroid(),\n",
    "        tree.DecisionTreeRegressor(),\n",
    "        neural_network.MLPRegressor(solver='lbfgs')\n",
    "    ]\n",
    "def test_all(X_train,Y_train,X_test,Y_test):\n",
    "    errors = []\n",
    "    scores = []\n",
    "    for method in methods:\n",
    "        print(method.__class__.__name__)\n",
    "        print()\n",
    "        Y_pred,error,score = test(method,X_train,Y_train,X_test,Y_test)\n",
    "        print()\n",
    "        scores = scores + [score]\n",
    "        errors = errors + [error]\n",
    "    return errors,scores"
   ]
  },
  {
   "cell_type": "code",
   "execution_count": null,
   "metadata": {
    "collapsed": false
   },
   "outputs": [],
   "source": [
    "Y_pred,_,_ = test(linear_model.LinearRegression(),X_train,Y_train,X_test,Y_test,True)\n",
    "present(X_test,Y_test,Y_pred)"
   ]
  },
  {
   "cell_type": "code",
   "execution_count": null,
   "metadata": {
    "collapsed": false
   },
   "outputs": [],
   "source": [
    "Y_pred,_,_ = test(svm.SVR(),X_train,Y_train,X_test,Y_test)\n",
    "present(X_test,Y_test,Y_pred)"
   ]
  },
  {
   "cell_type": "code",
   "execution_count": null,
   "metadata": {
    "collapsed": false
   },
   "outputs": [],
   "source": [
    "Y_pred,_,_ = test(linear_model.SGDRegressor(max_iter=1000,tol=1e-3),X_train,Y_train,X_test,Y_test)\n",
    "Y_pred,_,_ = test(linear_model.SGDRegressor(max_iter=1000,tol=1e-3,loss=\"epsilon_insensitive\"),X_train,Y_train,X_test,Y_test)\n",
    "Y_pred,_,_ = test(linear_model.SGDRegressor(max_iter=1000,tol=1e-3,loss=\"huber\"),X_train,Y_train,X_test,Y_test)\n",
    "present(X_test,Y_test,Y_pred)"
   ]
  },
  {
   "cell_type": "code",
   "execution_count": null,
   "metadata": {
    "collapsed": false
   },
   "outputs": [],
   "source": [
    "Y_pred,_,_ = test(NearestCentroid(),X_train,Y_train,X_test,Y_test)\n",
    "present(X_test,Y_test,Y_pred)"
   ]
  },
  {
   "cell_type": "code",
   "execution_count": null,
   "metadata": {
    "collapsed": false
   },
   "outputs": [],
   "source": [
    "Y_pred,_,_ = test(tree.DecisionTreeRegressor(),X_train,Y_train,X_test,Y_test)\n",
    "present(X_test,Y_test,Y_pred)"
   ]
  },
  {
   "cell_type": "code",
   "execution_count": null,
   "metadata": {
    "collapsed": false
   },
   "outputs": [],
   "source": [
    "Y_pred,_,_ = test(neural_network.MLPRegressor(solver='lbfgs'),X_train,Y_train,X_test,Y_test)\n",
    "present(X_test,Y_test,Y_pred)"
   ]
  },
  {
   "cell_type": "code",
   "execution_count": null,
   "metadata": {
    "collapsed": true
   },
   "outputs": [],
   "source": [
    "features = ['fixed acidity', 'volatile acidity', 'citric acid', 'residual sugar',\n",
    "       'chlorides', 'free sulfur dioxide', 'total sulfur dioxide', 'density',\n",
    "       'pH', 'sulphates', 'alcohol']\n",
    "X = data[features]\n",
    "Y = data['quality']\n",
    "#sns.pairplot(data,x_vars=features,y_vars='quality',kind='reg',size=7,aspect=0.5)\n",
    "#plt.show()"
   ]
  },
  {
   "cell_type": "code",
   "execution_count": null,
   "metadata": {
    "collapsed": false
   },
   "outputs": [],
   "source": [
    "X = data[features]\n",
    "print(np.shape(X))\n",
    "sel = VarianceThreshold(threshold=(.8 * (1 - .8)))\n",
    "X1 = sel.fit_transform(X)\n",
    "print(np.shape(X1))\n",
    "X2 = SelectKBest(chi2, k=2).fit_transform(X, Y)\n",
    "print(np.shape(X2))\n",
    "X3 = SelectKBest(chi2, k=5).fit_transform(X, Y)\n",
    "print(np.shape(X3))\n",
    "#sns.pairplot(data,x_vars=features,y_vars='quality',kind='reg',size=7,aspect=0.5)\n",
    "#plt.show()"
   ]
  },
  {
   "cell_type": "code",
   "execution_count": null,
   "metadata": {
    "collapsed": true
   },
   "outputs": [],
   "source": [
    "rand = random.randrange(0,100)\n",
    "X1_train,X1_test,Y1_train,Y1_test=train_test_split(X1,Y,random_state=rand,test_size=0.25)\n",
    "X2_train,X2_test,Y2_train,Y2_test=train_test_split(X2,Y,random_state=rand,test_size=0.25)\n",
    "X3_train,X3_test,Y3_train,Y3_test=train_test_split(X3,Y,random_state=rand,test_size=0.25)"
   ]
  },
  {
   "cell_type": "code",
   "execution_count": null,
   "metadata": {
    "collapsed": false
   },
   "outputs": [],
   "source": [
    "error0,score0 = test_all(X_train,Y_train,X_test,Y_test)"
   ]
  },
  {
   "cell_type": "code",
   "execution_count": null,
   "metadata": {
    "collapsed": false
   },
   "outputs": [],
   "source": [
    "error1,score1 = test_all(X1_train,Y1_train,X1_test,Y1_test)"
   ]
  },
  {
   "cell_type": "code",
   "execution_count": null,
   "metadata": {
    "collapsed": false
   },
   "outputs": [],
   "source": [
    "error2,score2 = test_all(X2_train,Y2_train,X2_test,Y2_test)"
   ]
  },
  {
   "cell_type": "code",
   "execution_count": null,
   "metadata": {
    "collapsed": false
   },
   "outputs": [],
   "source": [
    "error3,score3 = test_all(X3_train,Y3_train,X3_test,Y3_test)"
   ]
  },
  {
   "cell_type": "code",
   "execution_count": null,
   "metadata": {
    "collapsed": false
   },
   "outputs": [],
   "source": [
    "tabelascores = pd.DataFrame(data={'no filtering':score0,'variance (80%)':score1,'chi2 k = 2':score2,'chi2 k =5':score3},\n",
    "                      index=[method.__class__.__name__ for method in methods])\n",
    "\n",
    "\n",
    "def color_negative_red(val):\n",
    "    color = 'red' if val < 0 else 'black'\n",
    "    return 'color: %s' % color\n",
    "\n",
    "def highlight_max(s):\n",
    "    is_max = s == s.max()\n",
    "    return ['background-color: yellow' if v else '' for v in is_max]\n",
    "\n",
    "\n",
    "tabelascores.style.\\\n",
    "    applymap(color_negative_red).\\\n",
    "    apply(highlight_max)"
   ]
  },
  {
   "cell_type": "code",
   "execution_count": null,
   "metadata": {
    "collapsed": false
   },
   "outputs": [],
   "source": [
    "tabelaerros = pd.DataFrame(data={'no filtering':error0,'variance (80%)':error1,'chi2 k = 2':error2,'chi2 k =5':error3},\n",
    "                      index=[method.__class__.__name__ for method in methods])\n",
    "\n",
    "\n",
    "def color_negative_red(val):\n",
    "    color = 'red' if val < 0 else 'black'\n",
    "    return 'color: %s' % color\n",
    "\n",
    "def highlight_max(s):\n",
    "    is_max = s == s.max()\n",
    "    return ['background-color: yellow' if v else '' for v in is_max]\n",
    "\n",
    "\n",
    "tabelascores.style.\\\n",
    "    applymap(color_negative_red).\\\n",
    "    apply(highlight_max)"
   ]
  }
 ],
 "metadata": {
  "kernelspec": {
   "display_name": "Python 3",
   "language": "python",
   "name": "python3"
  },
  "language_info": {
   "codemirror_mode": {
    "name": "ipython",
    "version": 3
   },
   "file_extension": ".py",
   "mimetype": "text/x-python",
   "name": "python",
   "nbconvert_exporter": "python",
   "pygments_lexer": "ipython3",
   "version": "3.5.4"
  }
 },
 "nbformat": 4,
 "nbformat_minor": 2
}
